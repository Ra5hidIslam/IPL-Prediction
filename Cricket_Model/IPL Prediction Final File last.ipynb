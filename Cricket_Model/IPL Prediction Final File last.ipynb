{
 "cells": [
  {
   "cell_type": "code",
   "execution_count": 64,
   "metadata": {},
   "outputs": [],
   "source": [
    "import pandas as pd\n",
    "import numpy as np\n",
    "import matplotlib.pyplot as plt\n",
    "import seaborn as sns\n",
    "import glob\n",
    "import scipy.stats as stats\n",
    "import numpy as np \n",
    "import pandas as pd\n",
    "import seaborn as sns\n",
    "import matplotlib.pyplot as plt\n",
    "import os"
   ]
  },
  {
   "cell_type": "markdown",
   "metadata": {},
   "source": [
    "# Reading the File"
   ]
  },
  {
   "cell_type": "markdown",
   "metadata": {},
   "source": [
    "### The below Data is scraped from the cricinfo and cleaned separately and dumped in this CSV"
   ]
  },
  {
   "cell_type": "code",
   "execution_count": 65,
   "metadata": {},
   "outputs": [],
   "source": [
    "match_data = pd.read_csv('Data/Match Data.csv',index_col=0)"
   ]
  },
  {
   "cell_type": "code",
   "execution_count": 66,
   "metadata": {},
   "outputs": [
    {
     "data": {
      "text/html": [
       "<div>\n",
       "<style scoped>\n",
       "    .dataframe tbody tr th:only-of-type {\n",
       "        vertical-align: middle;\n",
       "    }\n",
       "\n",
       "    .dataframe tbody tr th {\n",
       "        vertical-align: top;\n",
       "    }\n",
       "\n",
       "    .dataframe thead th {\n",
       "        text-align: right;\n",
       "    }\n",
       "</style>\n",
       "<table border=\"1\" class=\"dataframe\">\n",
       "  <thead>\n",
       "    <tr style=\"text-align: right;\">\n",
       "      <th></th>\n",
       "      <th>ID</th>\n",
       "      <th>SEASON</th>\n",
       "      <th>CITY</th>\n",
       "      <th>CITY_Corrrected</th>\n",
       "      <th>TEAM1</th>\n",
       "      <th>TEAM1_MODEL</th>\n",
       "      <th>TEAM2</th>\n",
       "      <th>TEAM2_MODEL</th>\n",
       "      <th>TOSS_WINNER</th>\n",
       "      <th>TOSS_DECISION</th>\n",
       "      <th>RESULT</th>\n",
       "      <th>WINNER</th>\n",
       "      <th>WIN_BY_RUNS</th>\n",
       "      <th>TOSS_WINNER_MODEL</th>\n",
       "      <th>WINNER_MODEL</th>\n",
       "      <th>TOSS_DECISION_MODEL</th>\n",
       "      <th>CITY_MODEL</th>\n",
       "    </tr>\n",
       "  </thead>\n",
       "  <tbody>\n",
       "    <tr>\n",
       "      <th>0</th>\n",
       "      <td>60</td>\n",
       "      <td>2008</td>\n",
       "      <td>Bangalore</td>\n",
       "      <td>RCB</td>\n",
       "      <td>KKR</td>\n",
       "      <td>1</td>\n",
       "      <td>RCB</td>\n",
       "      <td>0</td>\n",
       "      <td>RCB</td>\n",
       "      <td>field</td>\n",
       "      <td>normal</td>\n",
       "      <td>KKR</td>\n",
       "      <td>140</td>\n",
       "      <td>0</td>\n",
       "      <td>1</td>\n",
       "      <td>0</td>\n",
       "      <td>0</td>\n",
       "    </tr>\n",
       "    <tr>\n",
       "      <th>1</th>\n",
       "      <td>61</td>\n",
       "      <td>2008</td>\n",
       "      <td>Chandigarh</td>\n",
       "      <td>KXIP</td>\n",
       "      <td>CSK</td>\n",
       "      <td>1</td>\n",
       "      <td>KXIP</td>\n",
       "      <td>0</td>\n",
       "      <td>CSK</td>\n",
       "      <td>bat</td>\n",
       "      <td>normal</td>\n",
       "      <td>CSK</td>\n",
       "      <td>33</td>\n",
       "      <td>1</td>\n",
       "      <td>1</td>\n",
       "      <td>1</td>\n",
       "      <td>0</td>\n",
       "    </tr>\n",
       "    <tr>\n",
       "      <th>2</th>\n",
       "      <td>62</td>\n",
       "      <td>2008</td>\n",
       "      <td>Delhi</td>\n",
       "      <td>DD</td>\n",
       "      <td>DD</td>\n",
       "      <td>1</td>\n",
       "      <td>RR</td>\n",
       "      <td>0</td>\n",
       "      <td>RR</td>\n",
       "      <td>bat</td>\n",
       "      <td>normal</td>\n",
       "      <td>DD</td>\n",
       "      <td>0</td>\n",
       "      <td>0</td>\n",
       "      <td>1</td>\n",
       "      <td>1</td>\n",
       "      <td>1</td>\n",
       "    </tr>\n",
       "    <tr>\n",
       "      <th>3</th>\n",
       "      <td>63</td>\n",
       "      <td>2008</td>\n",
       "      <td>Mumbai</td>\n",
       "      <td>MI</td>\n",
       "      <td>RCB</td>\n",
       "      <td>1</td>\n",
       "      <td>MI</td>\n",
       "      <td>0</td>\n",
       "      <td>MI</td>\n",
       "      <td>bat</td>\n",
       "      <td>normal</td>\n",
       "      <td>RCB</td>\n",
       "      <td>0</td>\n",
       "      <td>0</td>\n",
       "      <td>1</td>\n",
       "      <td>1</td>\n",
       "      <td>0</td>\n",
       "    </tr>\n",
       "    <tr>\n",
       "      <th>4</th>\n",
       "      <td>64</td>\n",
       "      <td>2008</td>\n",
       "      <td>Kolkata</td>\n",
       "      <td>KKR</td>\n",
       "      <td>KKR</td>\n",
       "      <td>1</td>\n",
       "      <td>SRH</td>\n",
       "      <td>0</td>\n",
       "      <td>SRH</td>\n",
       "      <td>bat</td>\n",
       "      <td>normal</td>\n",
       "      <td>KKR</td>\n",
       "      <td>0</td>\n",
       "      <td>0</td>\n",
       "      <td>1</td>\n",
       "      <td>1</td>\n",
       "      <td>1</td>\n",
       "    </tr>\n",
       "  </tbody>\n",
       "</table>\n",
       "</div>"
      ],
      "text/plain": [
       "   ID  SEASON        CITY CITY_Corrrected TEAM1  TEAM1_MODEL TEAM2  \\\n",
       "0  60    2008   Bangalore             RCB   KKR            1   RCB   \n",
       "1  61    2008  Chandigarh            KXIP   CSK            1  KXIP   \n",
       "2  62    2008       Delhi              DD    DD            1    RR   \n",
       "3  63    2008      Mumbai              MI   RCB            1    MI   \n",
       "4  64    2008     Kolkata             KKR   KKR            1   SRH   \n",
       "\n",
       "   TEAM2_MODEL TOSS_WINNER TOSS_DECISION  RESULT WINNER  WIN_BY_RUNS  \\\n",
       "0            0         RCB         field  normal    KKR          140   \n",
       "1            0         CSK           bat  normal    CSK           33   \n",
       "2            0          RR           bat  normal     DD            0   \n",
       "3            0          MI           bat  normal    RCB            0   \n",
       "4            0         SRH           bat  normal    KKR            0   \n",
       "\n",
       "   TOSS_WINNER_MODEL  WINNER_MODEL  TOSS_DECISION_MODEL  CITY_MODEL  \n",
       "0                  0             1                    0           0  \n",
       "1                  1             1                    1           0  \n",
       "2                  0             1                    1           1  \n",
       "3                  0             1                    1           0  \n",
       "4                  0             1                    1           1  "
      ]
     },
     "execution_count": 66,
     "metadata": {},
     "output_type": "execute_result"
    }
   ],
   "source": [
    "match_data.head()"
   ]
  },
  {
   "cell_type": "markdown",
   "metadata": {},
   "source": [
    "# Label Encoding"
   ]
  },
  {
   "cell_type": "markdown",
   "metadata": {},
   "source": [
    "<dl>\n",
    "  <dt>TEAM1_MODEL and TEAM2_MODEL</dt>\n",
    "      <dd>- Team 1 = 1</dd>\n",
    "      <dd>- Team 2 = 0</dd>\n",
    "  <dt>TOSS_WINNER_MODEL</dt>\n",
    "      <dd>- Team 1 Toss Win = 1</dd>\n",
    "      <dd>- Team 2 Toss Win = 0</dd>\n",
    "  <dt>WINNER_MODEL</dt>\n",
    "      <dd>- Team 1 Winner = 1</dd>\n",
    "      <dd>- Team 2 Winner = 0</dd>\n",
    "  <dt>CITY_MODEL</dt>\n",
    "      <dd>- Team 1 Venue = 1</dd>\n",
    "      <dd>- Team 2 Venue = 0</dd>\n",
    "      <dd>- Outside Venue = 2</dd>\n",
    "  <dt>TOSS_DECISION_MODEL</dt>\n",
    "      <dd>- Field = 1</dd>\n",
    "      <dd>- Bat = 0 </dd>\n",
    "</dl>"
   ]
  },
  {
   "cell_type": "markdown",
   "metadata": {},
   "source": [
    "## Analysis of the Data"
   ]
  },
  {
   "cell_type": "markdown",
   "metadata": {},
   "source": [
    "### Chi Square Results of Categorical Data"
   ]
  },
  {
   "cell_type": "code",
   "execution_count": 67,
   "metadata": {},
   "outputs": [],
   "source": [
    "def plot_graph(ct):\n",
    "    ct.plot.bar(stacked=True)\n",
    "    plt.legend(title='mark')\n",
    "\n",
    "    plt.show()"
   ]
  },
  {
   "cell_type": "code",
   "execution_count": 68,
   "metadata": {},
   "outputs": [
    {
     "data": {
      "text/html": [
       "<div>\n",
       "<style scoped>\n",
       "    .dataframe tbody tr th:only-of-type {\n",
       "        vertical-align: middle;\n",
       "    }\n",
       "\n",
       "    .dataframe tbody tr th {\n",
       "        vertical-align: top;\n",
       "    }\n",
       "\n",
       "    .dataframe thead th {\n",
       "        text-align: right;\n",
       "    }\n",
       "</style>\n",
       "<table border=\"1\" class=\"dataframe\">\n",
       "  <thead>\n",
       "    <tr style=\"text-align: right;\">\n",
       "      <th>WINNER_MODEL</th>\n",
       "      <th>0</th>\n",
       "      <th>1</th>\n",
       "    </tr>\n",
       "    <tr>\n",
       "      <th>TOSS_WINNER_MODEL</th>\n",
       "      <th></th>\n",
       "      <th></th>\n",
       "    </tr>\n",
       "  </thead>\n",
       "  <tbody>\n",
       "    <tr>\n",
       "      <th>0</th>\n",
       "      <td>227</td>\n",
       "      <td>212</td>\n",
       "    </tr>\n",
       "    <tr>\n",
       "      <th>1</th>\n",
       "      <td>146</td>\n",
       "      <td>162</td>\n",
       "    </tr>\n",
       "  </tbody>\n",
       "</table>\n",
       "</div>"
      ],
      "text/plain": [
       "WINNER_MODEL         0    1\n",
       "TOSS_WINNER_MODEL          \n",
       "0                  227  212\n",
       "1                  146  162"
      ]
     },
     "execution_count": 68,
     "metadata": {},
     "output_type": "execute_result"
    }
   ],
   "source": [
    "toss_winner = pd.crosstab(match_data['TOSS_WINNER_MODEL'],match_data['WINNER_MODEL'])\n",
    "toss_winner\n"
   ]
  },
  {
   "cell_type": "code",
   "execution_count": 69,
   "metadata": {},
   "outputs": [
    {
     "data": {
      "image/png": "[encoded data removed]",
      "text/plain": [
       "<Figure size 432x288 with 1 Axes>"
      ]
     },
     "metadata": {
      "needs_background": "light"
     },
     "output_type": "display_data"
    }
   ],
   "source": [
    "plot_graph(toss_winner)"
   ]
  },
  {
   "cell_type": "markdown",
   "metadata": {},
   "source": [
    "- Explanation: If Team1(1) wins the toss then Team2(0) wins 146 times while Team1(1) wins 162 times"
   ]
  },
  {
   "cell_type": "code",
   "execution_count": 70,
   "metadata": {},
   "outputs": [
    {
     "data": {
      "text/html": [
       "<div>\n",
       "<style scoped>\n",
       "    .dataframe tbody tr th:only-of-type {\n",
       "        vertical-align: middle;\n",
       "    }\n",
       "\n",
       "    .dataframe tbody tr th {\n",
       "        vertical-align: top;\n",
       "    }\n",
       "\n",
       "    .dataframe thead th {\n",
       "        text-align: right;\n",
       "    }\n",
       "</style>\n",
       "<table border=\"1\" class=\"dataframe\">\n",
       "  <thead>\n",
       "    <tr style=\"text-align: right;\">\n",
       "      <th>WINNER_MODEL</th>\n",
       "      <th>0</th>\n",
       "      <th>1</th>\n",
       "    </tr>\n",
       "    <tr>\n",
       "      <th>CITY_MODEL</th>\n",
       "      <th></th>\n",
       "      <th></th>\n",
       "    </tr>\n",
       "  </thead>\n",
       "  <tbody>\n",
       "    <tr>\n",
       "      <th>0</th>\n",
       "      <td>136</td>\n",
       "      <td>108</td>\n",
       "    </tr>\n",
       "    <tr>\n",
       "      <th>1</th>\n",
       "      <td>135</td>\n",
       "      <td>174</td>\n",
       "    </tr>\n",
       "    <tr>\n",
       "      <th>2</th>\n",
       "      <td>102</td>\n",
       "      <td>92</td>\n",
       "    </tr>\n",
       "  </tbody>\n",
       "</table>\n",
       "</div>"
      ],
      "text/plain": [
       "WINNER_MODEL    0    1\n",
       "CITY_MODEL            \n",
       "0             136  108\n",
       "1             135  174\n",
       "2             102   92"
      ]
     },
     "execution_count": 70,
     "metadata": {},
     "output_type": "execute_result"
    }
   ],
   "source": [
    "city_winner = pd.crosstab(match_data['CITY_MODEL'],match_data['WINNER_MODEL'])\n",
    "city_winner\n"
   ]
  },
  {
   "cell_type": "code",
   "execution_count": 71,
   "metadata": {},
   "outputs": [
    {
     "data": {
      "image/png": "[encoded data removed]",
      "text/plain": [
       "<Figure size 432x288 with 1 Axes>"
      ]
     },
     "metadata": {
      "needs_background": "light"
     },
     "output_type": "display_data"
    }
   ],
   "source": [
    "plot_graph(city_winner)"
   ]
  },
  {
   "cell_type": "markdown",
   "metadata": {},
   "source": [
    "- Explanation: If City_Model = 0 ( Match is played in homeground of Team2) then Team2 wins 136 times and Team1 wins 108 times"
   ]
  },
  {
   "cell_type": "code",
   "execution_count": 72,
   "metadata": {},
   "outputs": [
    {
     "data": {
      "text/html": [
       "<div>\n",
       "<style scoped>\n",
       "    .dataframe tbody tr th:only-of-type {\n",
       "        vertical-align: middle;\n",
       "    }\n",
       "\n",
       "    .dataframe tbody tr th {\n",
       "        vertical-align: top;\n",
       "    }\n",
       "\n",
       "    .dataframe thead th {\n",
       "        text-align: right;\n",
       "    }\n",
       "</style>\n",
       "<table border=\"1\" class=\"dataframe\">\n",
       "  <thead>\n",
       "    <tr style=\"text-align: right;\">\n",
       "      <th>WINNER_MODEL</th>\n",
       "      <th>0</th>\n",
       "      <th>1</th>\n",
       "    </tr>\n",
       "    <tr>\n",
       "      <th>TOSS_DECISION_MODEL</th>\n",
       "      <th></th>\n",
       "      <th></th>\n",
       "    </tr>\n",
       "  </thead>\n",
       "  <tbody>\n",
       "    <tr>\n",
       "      <th>0</th>\n",
       "      <td>227</td>\n",
       "      <td>231</td>\n",
       "    </tr>\n",
       "    <tr>\n",
       "      <th>1</th>\n",
       "      <td>146</td>\n",
       "      <td>143</td>\n",
       "    </tr>\n",
       "  </tbody>\n",
       "</table>\n",
       "</div>"
      ],
      "text/plain": [
       "WINNER_MODEL           0    1\n",
       "TOSS_DECISION_MODEL          \n",
       "0                    227  231\n",
       "1                    146  143"
      ]
     },
     "execution_count": 72,
     "metadata": {},
     "output_type": "execute_result"
    }
   ],
   "source": [
    "descion_winner = pd.crosstab(match_data['TOSS_DECISION_MODEL'],match_data['WINNER_MODEL'])\n",
    "descion_winner"
   ]
  },
  {
   "cell_type": "code",
   "execution_count": 73,
   "metadata": {},
   "outputs": [
    {
     "data": {
      "image/png": "[encoded data removed]",
      "text/plain": [
       "<Figure size 432x288 with 1 Axes>"
      ]
     },
     "metadata": {
      "needs_background": "light"
     },
     "output_type": "display_data"
    }
   ],
   "source": [
    "plot_graph(descion_winner)"
   ]
  },
  {
   "cell_type": "markdown",
   "metadata": {},
   "source": [
    "- Explanation: If TOSS_DECISION_MODEL = 0(Irrespective of who won the toss if winner decision is bat) then Team1 wins 231 times\n",
    "and Team2 wins 227 times"
   ]
  },
  {
   "cell_type": "markdown",
   "metadata": {},
   "source": [
    "### Winners Overall"
   ]
  },
  {
   "cell_type": "code",
   "execution_count": 74,
   "metadata": {},
   "outputs": [
    {
     "data": {
      "image/png": "[encoded data removed]",
      "text/plain": [
       "<Figure size 432x288 with 1 Axes>"
      ]
     },
     "metadata": {
      "needs_background": "light"
     },
     "output_type": "display_data"
    }
   ],
   "source": [
    "match_data[\"WINNER\"].value_counts().plot(kind=\"bar\", color=[\"salmon\", \"lightblue\"]);"
   ]
  },
  {
   "cell_type": "markdown",
   "metadata": {},
   "source": [
    "# Calculating Win Rate "
   ]
  },
  {
   "cell_type": "markdown",
   "metadata": {},
   "source": [
    "- Win Rata for a particular match of a team is calculated solely based on it's past performance.\n",
    "- Untill a team wins a match the win rate will remain 0\n",
    "- Eg 2015 MI vs CSK, we will take into account the data from 2008 till 2015 before that match"
   ]
  },
  {
   "cell_type": "code",
   "execution_count": 75,
   "metadata": {},
   "outputs": [],
   "source": [
    "def update_win_rate(dataframe):\n",
    "    \n",
    "    #creating two new columns and setting them to 0 by default\n",
    "    null_values = []\n",
    "    for i in range(len(dataframe)):\n",
    "        null_values.append(0)\n",
    "    dataframe['TEAM1_WIN_RATE'] = null_values\n",
    "    dataframe['TEAM2_WIN_RATE'] = null_values\n",
    "\n",
    "\n",
    "    #initialising the number of matches played by each team to 0\n",
    "    total_match_team_wise = {'KKR':0,'CSK':0,'RCB':0,'KXIP':0,'DD':0,'SRH':0,'RPS':0,'GL':0,'KTK':0,'RR':0,'MI':0}\n",
    "\n",
    "    total_matches = 0;\n",
    "    #initializing the number of matches won by each team to zero\n",
    "    match_wins_team_wise = {'KKR':0,'CSK':0,'RCB':0,'KXIP':0,'DD':0,'SRH':0,'RPS':0,'GL':0,'KTK':0,'RR':0,'MI':0}\n",
    "    \n",
    "    years = [2008,2009,2010,2011,2012,2013,2014,2015,2016,2017,2018,2019]\n",
    "    \n",
    "    for k in range(len(dataframe)):\n",
    "        #we want win_rate of a team before a match so this condition is used\n",
    "        #so we start calculating winrate only after each team has won a match\n",
    "        if match_wins_team_wise[dataframe.loc[k,'TEAM1']] > 0: \n",
    "            dataframe.loc[k,'TEAM1_WIN_RATE'] = match_wins_team_wise[dataframe.loc[k,'TEAM1']]/total_match_team_wise[dataframe.loc[k,'TEAM1']]\n",
    "        \n",
    "        if match_wins_team_wise[dataframe.loc[k,'TEAM2']] >0:#same as before\n",
    "            dataframe.loc[k,'TEAM2_WIN_RATE'] = match_wins_team_wise[dataframe.loc[k,'TEAM2']]/total_match_team_wise[dataframe.loc[k,'TEAM2']]\n",
    "        \n",
    "        #increamenting the match wins,total matches of teams \n",
    "        match_wins_team_wise[dataframe.loc[k,'WINNER']] +=1\n",
    "        total_match_team_wise[dataframe.loc[k,'TEAM1']]+=1;\n",
    "        total_match_team_wise[dataframe.loc[k,'TEAM2']]+=1;\n",
    "        \n",
    "    return dataframe \n"
   ]
  },
  {
   "cell_type": "code",
   "execution_count": 76,
   "metadata": {},
   "outputs": [],
   "source": [
    "match_data_with_win_rate = update_win_rate(match_data)"
   ]
  },
  {
   "cell_type": "code",
   "execution_count": 77,
   "metadata": {},
   "outputs": [
    {
     "data": {
      "text/html": [
       "<div>\n",
       "<style scoped>\n",
       "    .dataframe tbody tr th:only-of-type {\n",
       "        vertical-align: middle;\n",
       "    }\n",
       "\n",
       "    .dataframe tbody tr th {\n",
       "        vertical-align: top;\n",
       "    }\n",
       "\n",
       "    .dataframe thead th {\n",
       "        text-align: right;\n",
       "    }\n",
       "</style>\n",
       "<table border=\"1\" class=\"dataframe\">\n",
       "  <thead>\n",
       "    <tr style=\"text-align: right;\">\n",
       "      <th></th>\n",
       "      <th>ID</th>\n",
       "      <th>SEASON</th>\n",
       "      <th>CITY</th>\n",
       "      <th>CITY_Corrrected</th>\n",
       "      <th>TEAM1</th>\n",
       "      <th>TEAM1_MODEL</th>\n",
       "      <th>TEAM2</th>\n",
       "      <th>TEAM2_MODEL</th>\n",
       "      <th>TOSS_WINNER</th>\n",
       "      <th>TOSS_DECISION</th>\n",
       "      <th>RESULT</th>\n",
       "      <th>WINNER</th>\n",
       "      <th>WIN_BY_RUNS</th>\n",
       "      <th>TOSS_WINNER_MODEL</th>\n",
       "      <th>WINNER_MODEL</th>\n",
       "      <th>TOSS_DECISION_MODEL</th>\n",
       "      <th>CITY_MODEL</th>\n",
       "      <th>TEAM1_WIN_RATE</th>\n",
       "      <th>TEAM2_WIN_RATE</th>\n",
       "    </tr>\n",
       "  </thead>\n",
       "  <tbody>\n",
       "    <tr>\n",
       "      <th>0</th>\n",
       "      <td>60</td>\n",
       "      <td>2008</td>\n",
       "      <td>Bangalore</td>\n",
       "      <td>RCB</td>\n",
       "      <td>KKR</td>\n",
       "      <td>1</td>\n",
       "      <td>RCB</td>\n",
       "      <td>0</td>\n",
       "      <td>RCB</td>\n",
       "      <td>field</td>\n",
       "      <td>normal</td>\n",
       "      <td>KKR</td>\n",
       "      <td>140</td>\n",
       "      <td>0</td>\n",
       "      <td>1</td>\n",
       "      <td>0</td>\n",
       "      <td>0</td>\n",
       "      <td>0.0</td>\n",
       "      <td>0.0</td>\n",
       "    </tr>\n",
       "    <tr>\n",
       "      <th>1</th>\n",
       "      <td>61</td>\n",
       "      <td>2008</td>\n",
       "      <td>Chandigarh</td>\n",
       "      <td>KXIP</td>\n",
       "      <td>CSK</td>\n",
       "      <td>1</td>\n",
       "      <td>KXIP</td>\n",
       "      <td>0</td>\n",
       "      <td>CSK</td>\n",
       "      <td>bat</td>\n",
       "      <td>normal</td>\n",
       "      <td>CSK</td>\n",
       "      <td>33</td>\n",
       "      <td>1</td>\n",
       "      <td>1</td>\n",
       "      <td>1</td>\n",
       "      <td>0</td>\n",
       "      <td>0.0</td>\n",
       "      <td>0.0</td>\n",
       "    </tr>\n",
       "    <tr>\n",
       "      <th>2</th>\n",
       "      <td>62</td>\n",
       "      <td>2008</td>\n",
       "      <td>Delhi</td>\n",
       "      <td>DD</td>\n",
       "      <td>DD</td>\n",
       "      <td>1</td>\n",
       "      <td>RR</td>\n",
       "      <td>0</td>\n",
       "      <td>RR</td>\n",
       "      <td>bat</td>\n",
       "      <td>normal</td>\n",
       "      <td>DD</td>\n",
       "      <td>0</td>\n",
       "      <td>0</td>\n",
       "      <td>1</td>\n",
       "      <td>1</td>\n",
       "      <td>1</td>\n",
       "      <td>0.0</td>\n",
       "      <td>0.0</td>\n",
       "    </tr>\n",
       "    <tr>\n",
       "      <th>3</th>\n",
       "      <td>63</td>\n",
       "      <td>2008</td>\n",
       "      <td>Mumbai</td>\n",
       "      <td>MI</td>\n",
       "      <td>RCB</td>\n",
       "      <td>1</td>\n",
       "      <td>MI</td>\n",
       "      <td>0</td>\n",
       "      <td>MI</td>\n",
       "      <td>bat</td>\n",
       "      <td>normal</td>\n",
       "      <td>RCB</td>\n",
       "      <td>0</td>\n",
       "      <td>0</td>\n",
       "      <td>1</td>\n",
       "      <td>1</td>\n",
       "      <td>0</td>\n",
       "      <td>0.0</td>\n",
       "      <td>0.0</td>\n",
       "    </tr>\n",
       "    <tr>\n",
       "      <th>4</th>\n",
       "      <td>64</td>\n",
       "      <td>2008</td>\n",
       "      <td>Kolkata</td>\n",
       "      <td>KKR</td>\n",
       "      <td>KKR</td>\n",
       "      <td>1</td>\n",
       "      <td>SRH</td>\n",
       "      <td>0</td>\n",
       "      <td>SRH</td>\n",
       "      <td>bat</td>\n",
       "      <td>normal</td>\n",
       "      <td>KKR</td>\n",
       "      <td>0</td>\n",
       "      <td>0</td>\n",
       "      <td>1</td>\n",
       "      <td>1</td>\n",
       "      <td>1</td>\n",
       "      <td>1.0</td>\n",
       "      <td>0.0</td>\n",
       "    </tr>\n",
       "  </tbody>\n",
       "</table>\n",
       "</div>"
      ],
      "text/plain": [
       "   ID  SEASON        CITY CITY_Corrrected TEAM1  TEAM1_MODEL TEAM2  \\\n",
       "0  60    2008   Bangalore             RCB   KKR            1   RCB   \n",
       "1  61    2008  Chandigarh            KXIP   CSK            1  KXIP   \n",
       "2  62    2008       Delhi              DD    DD            1    RR   \n",
       "3  63    2008      Mumbai              MI   RCB            1    MI   \n",
       "4  64    2008     Kolkata             KKR   KKR            1   SRH   \n",
       "\n",
       "   TEAM2_MODEL TOSS_WINNER TOSS_DECISION  RESULT WINNER  WIN_BY_RUNS  \\\n",
       "0            0         RCB         field  normal    KKR          140   \n",
       "1            0         CSK           bat  normal    CSK           33   \n",
       "2            0          RR           bat  normal     DD            0   \n",
       "3            0          MI           bat  normal    RCB            0   \n",
       "4            0         SRH           bat  normal    KKR            0   \n",
       "\n",
       "   TOSS_WINNER_MODEL  WINNER_MODEL  TOSS_DECISION_MODEL  CITY_MODEL  \\\n",
       "0                  0             1                    0           0   \n",
       "1                  1             1                    1           0   \n",
       "2                  0             1                    1           1   \n",
       "3                  0             1                    1           0   \n",
       "4                  0             1                    1           1   \n",
       "\n",
       "   TEAM1_WIN_RATE  TEAM2_WIN_RATE  \n",
       "0             0.0             0.0  \n",
       "1             0.0             0.0  \n",
       "2             0.0             0.0  \n",
       "3             0.0             0.0  \n",
       "4             1.0             0.0  "
      ]
     },
     "execution_count": 77,
     "metadata": {},
     "output_type": "execute_result"
    }
   ],
   "source": [
    "match_data_with_win_rate.head()"
   ]
  },
  {
   "cell_type": "markdown",
   "metadata": {},
   "source": [
    "# Comparing columns for strength and win rate"
   ]
  },
  {
   "cell_type": "markdown",
   "metadata": {},
   "source": [
    "- The below graph shows the relationship between past win rate of a team and its winning\n",
    "- Eg: If WIN Rate of Team1 > Win Rate of Team2 and Team1 wins then it will be a success otherwise failure AND VICE VERSA\n"
   ]
  },
  {
   "cell_type": "code",
   "execution_count": 78,
   "metadata": {},
   "outputs": [],
   "source": [
    "def data_sense(temp_df,col1,col2):\n",
    "    \"\"\"Calculates the number of times team1 wins because col1 value is higher or looses because col1 value is lower, can be used for all continuous columns\"\"\"\n",
    "    success=0\n",
    "    loss =0\n",
    "    for i in range(len(temp_df)):\n",
    "        if((temp_df.loc[i,col1] > temp_df.loc[i,col2]) and temp_df.loc[i,'WINNER_MODEL']==1):\n",
    "            success+=1\n",
    "        elif((temp_df.loc[i,col1] > temp_df.loc[i,col2]) and temp_df.loc[i,'WINNER_MODEL']==0):\n",
    "            loss+=1\n",
    "        elif((temp_df.loc[i,col1] < temp_df.loc[i,col2]) and temp_df.loc[i,'WINNER_MODEL']==0):\n",
    "            success+=1\n",
    "        elif((temp_df.loc[i,col1] < temp_df.loc[i,col2]) and temp_df.loc[i,'WINNER_MODEL']==1):\n",
    "            loss+=1\n",
    "    fig = plt.figure()\n",
    "    ax = fig.add_axes([0,0,1,1])\n",
    "    langs = [col1,col2]\n",
    "    x_axis_data = [success,loss]\n",
    "    ax.bar(langs[0],x_axis_data[0],color='g')\n",
    "    ax.bar(langs[1],x_axis_data[1],color='b')\n",
    "    plt.show()\n",
    "    return success, loss"
   ]
  },
  {
   "cell_type": "code",
   "execution_count": 79,
   "metadata": {},
   "outputs": [
    {
     "data": {
      "image/png": "[encoded data removed]",
      "text/plain": [
       "<Figure size 432x288 with 1 Axes>"
      ]
     },
     "metadata": {
      "needs_background": "light"
     },
     "output_type": "display_data"
    }
   ],
   "source": [
    "Success , Loss = data_sense(match_data,'TEAM1_WIN_RATE','TEAM2_WIN_RATE')"
   ]
  },
  {
   "cell_type": "code",
   "execution_count": 80,
   "metadata": {},
   "outputs": [
    {
     "name": "stdout",
     "output_type": "stream",
     "text": [
      "The successful relation between the win rate and team winning is :391 times out of 731\n",
      "The failure relation between the win rate and team winning is :340 times out of 731\n"
     ]
    }
   ],
   "source": [
    "print ('The successful relation between the win rate and team winning is :' + str(Success) + ' times out of ' + str(Success + Loss))\n",
    "print ('The failure relation between the win rate and team winning is :' + str(Loss) + ' times out of ' + str(Success + Loss))"
   ]
  },
  {
   "cell_type": "markdown",
   "metadata": {},
   "source": [
    "# Reading all files"
   ]
  },
  {
   "cell_type": "markdown",
   "metadata": {},
   "source": [
    "- Reading all the stats of a player to calculate the team strength\n",
    "- Converting the datatypes for computation"
   ]
  },
  {
   "cell_type": "code",
   "execution_count": 81,
   "metadata": {},
   "outputs": [],
   "source": [
    "def convert_datatype(dataset):\n",
    "    #Setting dtypes\n",
    "\n",
    "    dataset[\"Batting Innings\"] = dataset[\"Batting Innings\"].astype(int)\n",
    "    dataset[\"Not out\"] = dataset[\"Not out\"].astype(int)\n",
    "    dataset[\"Runs\"] = dataset[\"Runs\"].astype(int)\n",
    "    dataset[\"High Score\"] = dataset[\"High Score\"].astype(int)\n",
    "    dataset[\"Batting Average\"] = dataset[\"Batting Average\"].astype(float)\n",
    "    dataset[\"Balls Faced\"] = dataset[\"Balls Faced\"].astype(int)\n",
    "    dataset[\"Batting SR\"] = dataset[\"Batting SR\"].astype(float)\n",
    "    dataset[\"100's\"] = dataset[\"100's\"].astype(int)\n",
    "    dataset[\"50's\"] = dataset[\"50's\"].astype(int)\n",
    "    dataset[\"0's\"] = dataset[\"0's\"].astype(int)\n",
    "    dataset[\"4s\"] = dataset[\"4s\"].astype(int)\n",
    "    dataset[\"6s\"] = dataset[\"6s\"].astype(int)\n",
    "    dataset[\"Bowling Innings\"] = dataset[\"Bowling Innings\"].astype(int)\n",
    "    dataset[\"Overs\"] = dataset[\"Overs\"].astype(float)\n",
    "    dataset[\"Maidens\"] = dataset[\"Maidens\"].astype(int)\n",
    "    dataset[\"Bowling Runs\"] = dataset[\"Bowling Runs\"].astype(int)\n",
    "    dataset[\"Wickets\"] = dataset[\"Wickets\"].astype(int)\n",
    "    dataset[\"Bowling Average\"] = dataset[\"Bowling Average\"].astype(float)\n",
    "    dataset[\"Bowling Economy\"] = dataset[\"Bowling Economy\"].astype(float)\n",
    "    dataset[\"Bowling SR\"] = dataset[\"Bowling SR\"].astype(float)\n",
    "    dataset[\"4W Haul\"] = dataset[\"4W Haul\"].astype(int)\n",
    "    dataset[\"5W Haul\"] = dataset[\"5W Haul\"].astype(int)\n",
    "    dataset[\"Year\"] = dataset[\"Year\"].astype(int)\n",
    "    \n",
    "    return dataset"
   ]
  },
  {
   "cell_type": "code",
   "execution_count": 82,
   "metadata": {},
   "outputs": [],
   "source": [
    "def read_player_data():\n",
    "    path = r'Data\\AllCSV'\n",
    "    all_files = glob.glob(path + \"/*.csv\")\n",
    "    columns=['Player', 'Matches', 'Batting Innings', 'Not out', 'Runs', 'High Score',\n",
    "       'Batting Average', 'Balls Faced', 'Batting SR', \"100's\", \"50's\", \"0's\",\n",
    "       '4s', '6s', 'Bowling Innings', 'Overs', 'Maidens', 'Bowling Runs',\n",
    "       'Wickets', 'BBI', 'Bowling Average', 'Bowling Economy', 'Bowling SR',\n",
    "       '4W Haul', '5W Haul', 'Catches', 'Stumpings']\n",
    "    path\n",
    "    li = []\n",
    "\n",
    "    for filename in all_files:\n",
    "        df = pd.read_csv(filename, index_col=None, header=0)\n",
    "        df.columns = columns\n",
    "        df['High Score'] = df['High Score'].astype('str').str.strip('*')\n",
    "        df[\"Year\"] = filename[-8: -4]                                      #Extracting Year from filename \n",
    "        df[\"Team\"] = filename[-13: -9].strip(path[-1]+'\\\\').upper()        #Extracting Team Name from filename \n",
    "        df = df.replace('-','0')\n",
    "        li.append(df)\n",
    "\n",
    "    all_years_player_performance = pd.concat(li, axis=0, ignore_index=True)\n",
    "    all_years_player_performance.drop(\"BBI\", axis=1, inplace=True) #BBI information is not needed\n",
    "    all_years_player_performance = convert_datatype(all_years_player_performance)\n",
    "    return all_years_player_performance\n",
    "    "
   ]
  },
  {
   "cell_type": "code",
   "execution_count": 83,
   "metadata": {},
   "outputs": [],
   "source": [
    "all_years_player_performance = read_player_data()"
   ]
  },
  {
   "cell_type": "markdown",
   "metadata": {},
   "source": [
    "# Calculate Player Strength (DREAM11 Formula)"
   ]
  },
  {
   "cell_type": "markdown",
   "metadata": {},
   "source": [
    "### Concept of Calculating Strength \n",
    "    \n",
    "- Initially we are calculating the strength of an individual player based on DREAM11 formula\n",
    "- https://get.dream11.help/hc/en-us/articles/360021110932-Fantasy-Cricket-Points-System\n",
    "- Aggregating the individual strength to calculate the overall team strength of the team.\n",
    "- Feeding the strength of a team for a season to it's next season\n",
    "- Eg. strength of MI for season 2010 will be fed to the 2011 season, for the prediction purpose. As while predicting the results of IPL2020 we will not have the strength of IPL2020 player performances. We will predict the results of 2020 based on 2019 IPL performance."
   ]
  },
  {
   "cell_type": "markdown",
   "metadata": {},
   "source": [
    "| Team1 | Team2 | Season | Strength1 | Strength2 | Win | Description |\n",
    "| --- | --- | --- | --- | ---| ---| ---|\n",
    "| MI | CSK | 2015 | 100 | 110 | MI |(Strength1 and Strength2 is actual strength of 2014) |"
   ]
  },
  {
   "cell_type": "markdown",
   "metadata": {},
   "source": [
    "- Calculating the strength of a team based on the DREAM11 formula\n",
    "- https://get.dream11.help/hc/en-us/articles/360021110932-Fantasy-Cricket-Points-System"
   ]
  },
  {
   "cell_type": "code",
   "execution_count": 84,
   "metadata": {},
   "outputs": [],
   "source": [
    "def player_strength(df):\n",
    "    \"\"\"Calculates Player Batting, Bowling and Overall Strength with Dream 11 Formula per inning played\n",
    "    \"\"\"\n",
    "    df['Batting Strength'] = (df['Batting Innings'] != 0).astype(int)*\\\n",
    "    ((df['Runs']+df['4s']+2*df['6s']+8*df[\"50's\"]+16*df[\"100's\"]-2*df[\"0's\"])//df['Batting Innings']\\\n",
    "    +(lambda a: (a<=50)*-6 +((a>50) & (a<=60))*-4 + ((a>60) & (a<=70))*-2)(df['Batting SR']))\n",
    "\n",
    "    df['Bowling Strength'] = (df['Bowling Innings'] != 0).astype(int)*\\\n",
    "    ((25*df['Wickets']+8*df['Maidens']+8*df['4W Haul']+16*df['5W Haul'])/df['Bowling Innings']\\\n",
    "    +(lambda a: (a>=11)*-6 +((a>=10) & (a<11))*-4 + ((a>=9) & (a<10))*-2)(df['Bowling Economy'])\\\n",
    "    +(lambda a: (a<=4)*6 +((a>4) & (a<=5))*4 + ((a>5) & (a<=6))*2)(df['Bowling Economy']))\n",
    "   \n",
    "    df['Strength'] = (df['Runs']+25*df['Wickets']+8*df['Catches']+12*df['Stumpings']+df['4s']+2*df['6s']\\\n",
    "    +8*df[\"50's\"]+16*df[\"100's\"]+8*df['Maidens']+8*df['4W Haul']+16*df['5W Haul']-2*df[\"0's\"]\\\n",
    "    +(lambda a: (a>=11)*-6 +((a>=10) & (a<11))*-4 + ((a>=9) & (a<10))*-2)(df['Bowling Economy'])*df['Bowling Innings']\\\n",
    "    +(lambda a: (a<=4)*6 +((a>4) & (a<=5))*4 + ((a>5) & (a<=6))*2)(df['Bowling Economy'])*df['Bowling Innings']\\\n",
    "    +(lambda a: (a<=50)*-6 +((a>50) & (a<=60))*-4 + ((a>60) & (a<=70))*-2)(df['Batting SR'])*df['Batting Innings'])/df['Matches']"
   ]
  },
  {
   "cell_type": "code",
   "execution_count": 85,
   "metadata": {},
   "outputs": [],
   "source": [
    "#Run the desired function\n",
    "player_strength(all_years_player_performance)"
   ]
  },
  {
   "cell_type": "code",
   "execution_count": 86,
   "metadata": {},
   "outputs": [],
   "source": [
    "all_years_player_performance.fillna(0, inplace=True)"
   ]
  },
  {
   "cell_type": "markdown",
   "metadata": {},
   "source": [
    "all_years_player_performance.head()Jupyter Notebook\n",
    "IPL Prediction Final File last\n",
    "(autosaved)\n",
    "Current Kernel Logo\n",
    "Python 3 \n",
    "File\n",
    "Edit\n",
    "View\n",
    "Insert\n",
    "Cell\n",
    "Kernel\n",
    "Widgets\n",
    "Help\n",
    "\n",
    "Code\n",
    "import pandas as pd\n",
    "import numpy as np\n",
    "import matplotlib.pyplot as plt\n",
    "import seaborn as sns\n",
    "import glob\n",
    "import scipy.stats as stats\n",
    "import numpy as np \n",
    "import pandas as pd\n",
    "import seaborn as sns\n",
    "import matplotlib.pyplot as plt\n",
    "import os\n",
    "Reading the File\n",
    "The below Data is scraped from the cricinfo and cleaned separately and dumped in this CSV\n",
    "match_data = pd.read_csv('Data/Match Data.csv',index_col=0)\n",
    "match_data.head()\n",
    "ID\tSEASON\tCITY\tCITY_Corrrected\tTEAM1\tTEAM1_MODEL\tTEAM2\tTEAM2_MODEL\tTOSS_WINNER\tTOSS_DECISION\tRESULT\tWINNER\tWIN_BY_RUNS\tTOSS_WINNER_MODEL\tWINNER_MODEL\tTOSS_DECISION_MODEL\tCITY_MODEL\n",
    "0\t60\t2008\tBangalore\tRCB\tKKR\t1\tRCB\t0\tRCB\tfield\tnormal\tKKR\t140\t0\t1\t0\t0\n",
    "1\t61\t2008\tChandigarh\tKXIP\tCSK\t1\tKXIP\t0\tCSK\tbat\tnormal\tCSK\t33\t1\t1\t1\t0\n",
    "2\t62\t2008\tDelhi\tDD\tDD\t1\tRR\t0\tRR\tbat\tnormal\tDD\t0\t0\t1\t1\t1\n",
    "3\t63\t2008\tMumbai\tMI\tRCB\t1\tMI\t0\tMI\tbat\tnormal\tRCB\t0\t0\t1\t1\t0\n",
    "4\t64\t2008\tKolkata\tKKR\tKKR\t1\tSRH\t0\tSRH\tbat\tnormal\tKKR\t0\t0\t1\t1\t1\n",
    "Label Encoding\n",
    "TEAM1_MODEL and TEAM2_MODEL\n",
    "- Team 1 = 1\n",
    "- Team 2 = 0\n",
    "TOSS_WINNER_MODEL\n",
    "- Team 1 Toss Win = 1\n",
    "- Team 2 Toss Win = 0\n",
    "WINNER_MODEL\n",
    "- Team 1 Winner = 1\n",
    "- Team 2 Winner = 0\n",
    "CITY_MODEL\n",
    "- Team 1 Venue = 1\n",
    "- Team 2 Venue = 0\n",
    "- Outside Venue = 2\n",
    "TOSS_DECISION_MODEL\n",
    "- Field = 1\n",
    "- Bat = 0\n",
    "Analysis of the Data\n",
    "Chi Square Results of Categorical Data\n",
    "def plot_graph(ct):\n",
    "    ct.plot.bar(stacked=True)\n",
    "    plt.legend(title='mark')\n",
    "​\n",
    "    plt.show()\n",
    "toss_winner = pd.crosstab(match_data['TOSS_WINNER_MODEL'],match_data['WINNER_MODEL'])\n",
    "toss_winner\n",
    "​\n",
    "WINNER_MODEL\t0\t1\n",
    "TOSS_WINNER_MODEL\t\t\n",
    "0\t227\t212\n",
    "1\t146\t162\n",
    "plot_graph(toss_winner)\n",
    "\n",
    "Explanation: If Team1(1) wins the toss then Team2(0) wins 146 times while Team1(1) wins 162 times\n",
    "city_winner = pd.crosstab(match_data['CITY_MODEL'],match_data['WINNER_MODEL'])\n",
    "city_winner\n",
    "​\n",
    "WINNER_MODEL\t0\t1\n",
    "CITY_MODEL\t\t\n",
    "0\t136\t108\n",
    "1\t135\t174\n",
    "2\t102\t92\n",
    "plot_graph(city_winner)\n",
    "\n",
    "Explanation: If City_Model = 0 ( Match is played in homeground of Team2) then Team2 wins 136 times and Team1 wins 108 times\n",
    "descion_winner = pd.crosstab(match_data['TOSS_DECISION_MODEL'],match_data['WINNER_MODEL'])\n",
    "descion_winner\n",
    "WINNER_MODEL\t0\t1\n",
    "TOSS_DECISION_MODEL\t\t\n",
    "0\t227\t231\n",
    "1\t146\t143\n",
    "plot_graph(descion_winner)\n",
    "\n",
    "Explanation: If TOSS_DECISION_MODEL = 0(Irrespective of who won the toss if winner decision is bat) then Team1 wins 231 times and Team2 wins 227 times\n",
    "Winners Overall\n",
    "match_data[\"WINNER\"].value_counts().plot(kind=\"bar\", color=[\"salmon\", \"lightblue\"]);\n",
    "\n",
    "Calculating Win Rate\n",
    "Win Rata for a particular match of a team is calculated solely based on it's past performance.\n",
    "Untill a team wins a match the win rate will remain 0\n",
    "Eg 2015 MI vs CSK, we will take into account the data from 2008 till 2015 before that match\n",
    "def update_win_rate(dataframe):\n",
    "    \n",
    "    #creating two new columns and setting them to 0 by default\n",
    "    null_values = []\n",
    "    for i in range(len(dataframe)):\n",
    "        null_values.append(0)\n",
    "    dataframe['TEAM1_WIN_RATE'] = null_values\n",
    "    dataframe['TEAM2_WIN_RATE'] = null_values\n",
    "​\n",
    "​\n",
    "    #initialising the number of matches played by each team to 0\n",
    "    total_match_team_wise = {'KKR':0,'CSK':0,'RCB':0,'KXIP':0,'DD':0,'SRH':0,'RPS':0,'GL':0,'KTK':0,'RR':0,'MI':0}\n",
    "​\n",
    "    total_matches = 0;\n",
    "    #initializing the number of matches won by each team to zero\n",
    "    match_wins_team_wise = {'KKR':0,'CSK':0,'RCB':0,'KXIP':0,'DD':0,'SRH':0,'RPS':0,'GL':0,'KTK':0,'RR':0,'MI':0}\n",
    "    \n",
    "    years = [2008,2009,2010,2011,2012,2013,2014,2015,2016,2017,2018,2019]\n",
    "    \n",
    "    for k in range(len(dataframe)):\n",
    "        #we want win_rate of a team before a match so this condition is used\n",
    "        #so we start calculating winrate only after each team has won a match\n",
    "        if match_wins_team_wise[dataframe.loc[k,'TEAM1']] > 0: \n",
    "            dataframe.loc[k,'TEAM1_WIN_RATE'] = match_wins_team_wise[dataframe.loc[k,'TEAM1']]/total_match_team_wise[dataframe.loc[k,'TEAM1']]\n",
    "        \n",
    "        if match_wins_team_wise[dataframe.loc[k,'TEAM2']] >0:#same as before\n",
    "            dataframe.loc[k,'TEAM2_WIN_RATE'] = match_wins_team_wise[dataframe.loc[k,'TEAM2']]/total_match_team_wise[dataframe.loc[k,'TEAM2']]\n",
    "        \n",
    "        #increamenting the match wins,total matches of teams \n",
    "        match_wins_team_wise[dataframe.loc[k,'WINNER']] +=1\n",
    "        total_match_team_wise[dataframe.loc[k,'TEAM1']]+=1;\n",
    "        total_match_team_wise[dataframe.loc[k,'TEAM2']]+=1;\n",
    "        \n",
    "    return dataframe \n",
    "​\n",
    "match_data_with_win_rate = update_win_rate(match_data)\n",
    "match_data_with_win_rate.head()\n",
    "ID\tSEASON\tCITY\tCITY_Corrrected\tTEAM1\tTEAM1_MODEL\tTEAM2\tTEAM2_MODEL\tTOSS_WINNER\tTOSS_DECISION\tRESULT\tWINNER\tWIN_BY_RUNS\tTOSS_WINNER_MODEL\tWINNER_MODEL\tTOSS_DECISION_MODEL\tCITY_MODEL\tTEAM1_WIN_RATE\tTEAM2_WIN_RATE\n",
    "0\t60\t2008\tBangalore\tRCB\tKKR\t1\tRCB\t0\tRCB\tfield\tnormal\tKKR\t140\t0\t1\t0\t0\t0.0\t0.0\n",
    "1\t61\t2008\tChandigarh\tKXIP\tCSK\t1\tKXIP\t0\tCSK\tbat\tnormal\tCSK\t33\t1\t1\t1\t0\t0.0\t0.0\n",
    "2\t62\t2008\tDelhi\tDD\tDD\t1\tRR\t0\tRR\tbat\tnormal\tDD\t0\t0\t1\t1\t1\t0.0\t0.0\n",
    "3\t63\t2008\tMumbai\tMI\tRCB\t1\tMI\t0\tMI\tbat\tnormal\tRCB\t0\t0\t1\t1\t0\t0.0\t0.0\n",
    "4\t64\t2008\tKolkata\tKKR\tKKR\t1\tSRH\t0\tSRH\tbat\tnormal\tKKR\t0\t0\t1\t1\t1\t1.0\t0.0\n",
    "Comparing columns for strength and win rate\n",
    "The below graph shows the relationship between past win rate of a team and its winning\n",
    "Eg: If WIN Rate of Team1 > Win Rate of Team2 and Team1 wins then it will be a success otherwise failure AND VICE VERSA\n",
    "def data_sense(temp_df,col1,col2):\n",
    "    \"\"\"Calculates the number of times team1 wins because col1 value is higher or looses because col1 value is lower, can be used for all continuous columns\"\"\"\n",
    "    success=0\n",
    "    loss =0\n",
    "    for i in range(len(temp_df)):\n",
    "        if((temp_df.loc[i,col1] > temp_df.loc[i,col2]) and temp_df.loc[i,'WINNER_MODEL']==1):\n",
    "            success+=1\n",
    "        elif((temp_df.loc[i,col1] > temp_df.loc[i,col2]) and temp_df.loc[i,'WINNER_MODEL']==0):\n",
    "            loss+=1\n",
    "        elif((temp_df.loc[i,col1] < temp_df.loc[i,col2]) and temp_df.loc[i,'WINNER_MODEL']==0):\n",
    "            success+=1\n",
    "        elif((temp_df.loc[i,col1] < temp_df.loc[i,col2]) and temp_df.loc[i,'WINNER_MODEL']==1):\n",
    "            loss+=1\n",
    "    fig = plt.figure()\n",
    "    ax = fig.add_axes([0,0,1,1])\n",
    "    langs = [col1,col2]\n",
    "    x_axis_data = [success,loss]\n",
    "    ax.bar(langs[0],x_axis_data[0],color='g')\n",
    "    ax.bar(langs[1],x_axis_data[1],color='b')\n",
    "    plt.show()\n",
    "    return success, loss\n",
    "Success , Loss = data_sense(match_data,'TEAM1_WIN_RATE','TEAM2_WIN_RATE')\n",
    "\n",
    "print ('The successful relation between the win rate and team winning is :' + str(Success) + ' times out of ' + str(Success + Loss))\n",
    "print ('The failure relation between the win rate and team winning is :' + str(Loss) + ' times out of ' + str(Success + Loss))\n",
    "The successful relation between the win rate and team winning is :391 times out of 731\n",
    "The failure relation between the win rate and team winning is :340 times out of 731\n",
    "Reading all files\n",
    "Reading all the stats of a player to calculate the team strength\n",
    "Converting the datatypes for computation\n",
    "def convert_datatype(dataset):\n",
    "    #Setting dtypes\n",
    "​\n",
    "    dataset[\"Batting Innings\"] = dataset[\"Batting Innings\"].astype(int)\n",
    "    dataset[\"Not out\"] = dataset[\"Not out\"].astype(int)\n",
    "    dataset[\"Runs\"] = dataset[\"Runs\"].astype(int)\n",
    "    dataset[\"High Score\"] = dataset[\"High Score\"].astype(int)\n",
    "    dataset[\"Batting Average\"] = dataset[\"Batting Average\"].astype(float)\n",
    "    dataset[\"Balls Faced\"] = dataset[\"Balls Faced\"].astype(int)\n",
    "    dataset[\"Batting SR\"] = dataset[\"Batting SR\"].astype(float)\n",
    "    dataset[\"100's\"] = dataset[\"100's\"].astype(int)\n",
    "    dataset[\"50's\"] = dataset[\"50's\"].astype(int)\n",
    "    dataset[\"0's\"] = dataset[\"0's\"].astype(int)\n",
    "    dataset[\"4s\"] = dataset[\"4s\"].astype(int)\n",
    "    dataset[\"6s\"] = dataset[\"6s\"].astype(int)\n",
    "    dataset[\"Bowling Innings\"] = dataset[\"Bowling Innings\"].astype(int)\n",
    "    dataset[\"Overs\"] = dataset[\"Overs\"].astype(float)\n",
    "    dataset[\"Maidens\"] = dataset[\"Maidens\"].astype(int)\n",
    "    dataset[\"Bowling Runs\"] = dataset[\"Bowling Runs\"].astype(int)\n",
    "    dataset[\"Wickets\"] = dataset[\"Wickets\"].astype(int)\n",
    "    dataset[\"Bowling Average\"] = dataset[\"Bowling Average\"].astype(float)\n",
    "    dataset[\"Bowling Economy\"] = dataset[\"Bowling Economy\"].astype(float)\n",
    "    dataset[\"Bowling SR\"] = dataset[\"Bowling SR\"].astype(float)\n",
    "    dataset[\"4W Haul\"] = dataset[\"4W Haul\"].astype(int)\n",
    "    dataset[\"5W Haul\"] = dataset[\"5W Haul\"].astype(int)\n",
    "    dataset[\"Year\"] = dataset[\"Year\"].astype(int)\n",
    "    \n",
    "    return dataset\n",
    "def read_player_data():\n",
    "    path = r'Data\\AllCSV'\n",
    "    all_files = glob.glob(path + \"/*.csv\")\n",
    "    columns=['Player', 'Matches', 'Batting Innings', 'Not out', 'Runs', 'High Score',\n",
    "       'Batting Average', 'Balls Faced', 'Batting SR', \"100's\", \"50's\", \"0's\",\n",
    "       '4s', '6s', 'Bowling Innings', 'Overs', 'Maidens', 'Bowling Runs',\n",
    "       'Wickets', 'BBI', 'Bowling Average', 'Bowling Economy', 'Bowling SR',\n",
    "       '4W Haul', '5W Haul', 'Catches', 'Stumpings']\n",
    "    path\n",
    "    li = []\n",
    "​\n",
    "    for filename in all_files:\n",
    "        df = pd.read_csv(filename, index_col=None, header=0)\n",
    "        df.columns = columns\n",
    "        df['High Score'] = df['High Score'].astype('str').str.strip('*')\n",
    "        df[\"Year\"] = filename[-8: -4]                                      #Extracting Year from filename \n",
    "        df[\"Team\"] = filename[-13: -9].strip(path[-1]+'\\\\').upper()        #Extracting Team Name from filename \n",
    "        df = df.replace('-','0')\n",
    "        li.append(df)\n",
    "​\n",
    "    all_years_player_performance = pd.concat(li, axis=0, ignore_index=True)\n",
    "    all_years_player_performance.drop(\"BBI\", axis=1, inplace=True) #BBI information is not needed\n",
    "    all_years_player_performance = convert_datatype(all_years_player_performance)\n",
    "    return all_years_player_performance\n",
    "    \n",
    "all_years_player_performance = read_player_data()\n",
    "Calculate Player Strength (DREAM11 Formula)\n",
    "Concept of Calculating Strength\n",
    "Initially we are calculating the strength of an individual player based on DREAM11 formula\n",
    "https://get.dream11.help/hc/en-us/articles/360021110932-Fantasy-Cricket-Points-System\n",
    "Aggregating the individual strength to calculate the overall team strength of the team.\n",
    "Feeding the strength of a team for a season to it's next season\n",
    "Eg. strength of MI for season 2010 will be fed to the 2011 season, for the prediction purpose. As while predicting the results of IPL2020 we will not have the strength of IPL2020 player performances. We will predict the results of 2020 based on 2019 IPL performance.\n",
    "Team1\tTeam2\tSeason\tStrength1\tStrength2\tWin\tDescription\n",
    "MI\tCSK\t2015\t100\t110\tMI\t(Strength1 and Strength2 is actual strength of 2014)\n",
    "Calculating the strength of a team based on the DREAM11 formula\n",
    "https://get.dream11.help/hc/en-us/articles/360021110932-Fantasy-Cricket-Points-System\n",
    "def player_strength(df):\n",
    "    \"\"\"Calculates Player Batting, Bowling and Overall Strength with Dream 11 Formula per inning played\n",
    "    \"\"\"\n",
    "    df['Batting Strength'] = (df['Batting Innings'] != 0).astype(int)*\\\n",
    "    ((df['Runs']+df['4s']+2*df['6s']+8*df[\"50's\"]+16*df[\"100's\"]-2*df[\"0's\"])//df['Batting Innings']\\\n",
    "    +(lambda a: (a<=50)*-6 +((a>50) & (a<=60))*-4 + ((a>60) & (a<=70))*-2)(df['Batting SR']))\n",
    "​\n",
    "    df['Bowling Strength'] = (df['Bowling Innings'] != 0).astype(int)*\\\n",
    "    ((25*df['Wickets']+8*df['Maidens']+8*df['4W Haul']+16*df['5W Haul'])/df['Bowling Innings']\\\n",
    "    +(lambda a: (a>=11)*-6 +((a>=10) & (a<11))*-4 + ((a>=9) & (a<10))*-2)(df['Bowling Economy'])\\\n",
    "    +(lambda a: (a<=4)*6 +((a>4) & (a<=5))*4 + ((a>5) & (a<=6))*2)(df['Bowling Economy']))\n",
    "   \n",
    "    df['Strength'] = (df['Runs']+25*df['Wickets']+8*df['Catches']+12*df['Stumpings']+df['4s']+2*df['6s']\\\n",
    "    +8*df[\"50's\"]+16*df[\"100's\"]+8*df['Maidens']+8*df['4W Haul']+16*df['5W Haul']-2*df[\"0's\"]\\\n",
    "    +(lambda a: (a>=11)*-6 +((a>=10) & (a<11))*-4 + ((a>=9) & (a<10))*-2)(df['Bowling Economy'])*df['Bowling Innings']\\\n",
    "    +(lambda a: (a<=4)*6 +((a>4) & (a<=5))*4 + ((a>5) & (a<=6))*2)(df['Bowling Economy'])*df['Bowling Innings']\\\n",
    "    +(lambda a: (a<=50)*-6 +((a>50) & (a<=60))*-4 + ((a>60) & (a<=70))*-2)(df['Batting SR'])*df['Batting Innings'])/df['Matches']\n",
    "#Run the desired function\n",
    "player_strength(all_years_player_performance)\n",
    "all_years_player_performance.fillna(0, inplace=True)\n",
    "all_years_player_performance.head()\n",
    "Player\tMatches\tBatting Innings\tNot out\tRuns\tHigh Score\tBatting Average\tBalls Faced\tBatting SR\t100's\t...\tBowling SR\t4W Haul\t5W Haul\tCatches\tStumpings\tYear\tTeam\tBatting Strength\tBowling Strength\tStrength\n",
    "0\tMEK Hussey\t4\t3\t1\t168\t116\t84.0\t100\t168.00\t1\t...\t0.0\t0\t0\t2\t0\t2008\tCSK\t72.0\t0.000000\t58.500000\n",
    "1\tM Ntini\t9\t2\t1\t11\t11\t11.0\t18\t61.11\t0\t...\t30.0\t1\t0\t1\t0\t2008\tCSK\t4.0\t22.111111\t24.000000\n",
    "2\tML Hayden\t4\t4\t1\t189\t81\t63.0\t131\t144.27\t0\t...\t0.0\t0\t0\t0\t0\t2008\tCSK\t60.0\t0.000000\t60.250000\n",
    "3\tM Muralitharan\t15\t1\t0\t0\t0\t"
   ]
  },
  {
   "cell_type": "code",
   "execution_count": 87,
   "metadata": {},
   "outputs": [],
   "source": [
    "#Initializing the strength columns\n",
    "\n",
    "all_years_player_performance[\"Strength For Model\"] = 0\n",
    "all_years_player_performance[\"Bat Strength For Model\"] = 0\n",
    "all_years_player_performance[\"Bowl Strength For Model\"] = 0\n",
    "all_years_player_performance[\"Cumul Strength For Model\"] = 0"
   ]
  },
  {
   "cell_type": "markdown",
   "metadata": {},
   "source": [
    "- Here we have shifted the current year strength to next year(For prediction)\n",
    "- 'Strength For Model' , 'Bat Strength For Model','Bowl Strength For Model' is shifted strength(Strength)\n",
    "- 'Cumulative Strength for Model' is the mean strength for all the previous year strengths \n",
    "- Eg for MI in 2016 : Strength will be 2015 strength : Cumulative strength will be mean(2015,2014,......2008 strength)"
   ]
  },
  {
   "cell_type": "code",
   "execution_count": 88,
   "metadata": {},
   "outputs": [
    {
     "name": "stdout",
     "output_type": "stream",
     "text": [
      "Wall time: 5.85 s\n"
     ]
    }
   ],
   "source": [
    "%%time\n",
    "for a in all_years_player_performance.Player.unique():          #Iteration for Players\n",
    "    \n",
    "    #Series of years the player has played sorted in descending order\n",
    "    b = all_years_player_performance[all_years_player_performance['Player']==a]['Year'].sort_values(ascending=False)\n",
    "    \n",
    "    #Mean strength of player over IPL\n",
    "    c = all_years_player_performance[all_years_player_performance['Player']==a]['Strength'].mean()\n",
    "    \n",
    "    #Mean strength of player over IPL\n",
    "    d = all_years_player_performance[all_years_player_performance['Player']==a]['Batting Strength'].mean()\n",
    "    \n",
    "    #Mean strength of player over IPL\n",
    "    e = all_years_player_performance[all_years_player_performance['Player']==a]['Bowling Strength'].mean()\n",
    "    \n",
    "    \n",
    "    for i in range(len(b)):                     #Iteration over the years\n",
    "        if sum(b.isin([b[b.index[i]]-1])):      #enters if year-1 is present in b\n",
    "            #copies value to stren_mod from previous year stren_calc\n",
    "            all_years_player_performance.loc[b.index[i],'Strength For Model'] = all_years_player_performance.loc[b.index[i+1],'Strength']   \n",
    "        else:                                   #enters when previous year is not available\n",
    "            #Mean strength of player over IPL is imputed\n",
    "            all_years_player_performance.loc[b.index[i],'Strength For Model'] = c\n",
    "\n",
    "        if sum(b.isin([b[b.index[i]]-1])):      #enters if year-1 is present in b\n",
    "            #copies value to stren_mod from previous year stren_calc\n",
    "            all_years_player_performance.loc[b.index[i],'Bat Strength For Model'] = all_years_player_performance.loc[b.index[i+1],'Batting Strength']   \n",
    "        else:                                   #enters when previous year is not available\n",
    "            #Mean strength of player over IPL is imputed\n",
    "            all_years_player_performance.loc[b.index[i],'Bat Strength For Model'] = d\n",
    "\n",
    "        if sum(b.isin([b[b.index[i]]-1])):      #enters if year-1 is present in b\n",
    "            #copies value to stren_mod from previous year stren_calc\n",
    "            all_years_player_performance.loc[b.index[i],'Bowl Strength For Model'] = all_years_player_performance.loc[b.index[i+1],'Bowling Strength']   \n",
    "        else:                                   #enters when previous year is not available\n",
    "            #Mean strength of player over IPL is imputed\n",
    "            all_years_player_performance.loc[b.index[i],'Bowl Strength For Model'] = e\n",
    "\n",
    "            \n",
    "        #Cumulative Strength over all years played\n",
    "        if i < len(b)-1:\n",
    "            all_years_player_performance.loc[b.index[i],'Cumul Strength For Model'] = all_years_player_performance.loc[b.index[i+1:], 'Strength'].mean()\n",
    "        else:\n",
    "            all_years_player_performance.loc[b.index[i],'Cumul Strength For Model'] = c"
   ]
  },
  {
   "cell_type": "code",
   "execution_count": 89,
   "metadata": {},
   "outputs": [
    {
     "data": {
      "text/html": [
       "<div>\n",
       "<style scoped>\n",
       "    .dataframe tbody tr th:only-of-type {\n",
       "        vertical-align: middle;\n",
       "    }\n",
       "\n",
       "    .dataframe tbody tr th {\n",
       "        vertical-align: top;\n",
       "    }\n",
       "\n",
       "    .dataframe thead th {\n",
       "        text-align: right;\n",
       "    }\n",
       "</style>\n",
       "<table border=\"1\" class=\"dataframe\">\n",
       "  <thead>\n",
       "    <tr style=\"text-align: right;\">\n",
       "      <th></th>\n",
       "      <th>Player</th>\n",
       "      <th>Matches</th>\n",
       "      <th>Batting Innings</th>\n",
       "      <th>Not out</th>\n",
       "      <th>Runs</th>\n",
       "      <th>High Score</th>\n",
       "      <th>Batting Average</th>\n",
       "      <th>Balls Faced</th>\n",
       "      <th>Batting SR</th>\n",
       "      <th>100's</th>\n",
       "      <th>...</th>\n",
       "      <th>Stumpings</th>\n",
       "      <th>Year</th>\n",
       "      <th>Team</th>\n",
       "      <th>Batting Strength</th>\n",
       "      <th>Bowling Strength</th>\n",
       "      <th>Strength</th>\n",
       "      <th>Strength For Model</th>\n",
       "      <th>Bat Strength For Model</th>\n",
       "      <th>Bowl Strength For Model</th>\n",
       "      <th>Cumul Strength For Model</th>\n",
       "    </tr>\n",
       "  </thead>\n",
       "  <tbody>\n",
       "    <tr>\n",
       "      <th>0</th>\n",
       "      <td>MEK Hussey</td>\n",
       "      <td>4</td>\n",
       "      <td>3</td>\n",
       "      <td>1</td>\n",
       "      <td>168</td>\n",
       "      <td>116</td>\n",
       "      <td>84.0</td>\n",
       "      <td>100</td>\n",
       "      <td>168.00</td>\n",
       "      <td>1</td>\n",
       "      <td>...</td>\n",
       "      <td>0</td>\n",
       "      <td>2008</td>\n",
       "      <td>CSK</td>\n",
       "      <td>72.0</td>\n",
       "      <td>0.000000</td>\n",
       "      <td>58.500000</td>\n",
       "      <td>39.357860</td>\n",
       "      <td>38.571429</td>\n",
       "      <td>0.000000</td>\n",
       "      <td>39.357860</td>\n",
       "    </tr>\n",
       "    <tr>\n",
       "      <th>1</th>\n",
       "      <td>M Ntini</td>\n",
       "      <td>9</td>\n",
       "      <td>2</td>\n",
       "      <td>1</td>\n",
       "      <td>11</td>\n",
       "      <td>11</td>\n",
       "      <td>11.0</td>\n",
       "      <td>18</td>\n",
       "      <td>61.11</td>\n",
       "      <td>0</td>\n",
       "      <td>...</td>\n",
       "      <td>0</td>\n",
       "      <td>2008</td>\n",
       "      <td>CSK</td>\n",
       "      <td>4.0</td>\n",
       "      <td>22.111111</td>\n",
       "      <td>24.000000</td>\n",
       "      <td>24.000000</td>\n",
       "      <td>4.000000</td>\n",
       "      <td>22.111111</td>\n",
       "      <td>24.000000</td>\n",
       "    </tr>\n",
       "    <tr>\n",
       "      <th>2</th>\n",
       "      <td>ML Hayden</td>\n",
       "      <td>4</td>\n",
       "      <td>4</td>\n",
       "      <td>1</td>\n",
       "      <td>189</td>\n",
       "      <td>81</td>\n",
       "      <td>63.0</td>\n",
       "      <td>131</td>\n",
       "      <td>144.27</td>\n",
       "      <td>0</td>\n",
       "      <td>...</td>\n",
       "      <td>0</td>\n",
       "      <td>2008</td>\n",
       "      <td>CSK</td>\n",
       "      <td>60.0</td>\n",
       "      <td>0.000000</td>\n",
       "      <td>60.250000</td>\n",
       "      <td>50.854167</td>\n",
       "      <td>48.333333</td>\n",
       "      <td>0.000000</td>\n",
       "      <td>50.854167</td>\n",
       "    </tr>\n",
       "    <tr>\n",
       "      <th>3</th>\n",
       "      <td>M Muralitharan</td>\n",
       "      <td>15</td>\n",
       "      <td>1</td>\n",
       "      <td>0</td>\n",
       "      <td>0</td>\n",
       "      <td>0</td>\n",
       "      <td>0.0</td>\n",
       "      <td>3</td>\n",
       "      <td>0.00</td>\n",
       "      <td>0</td>\n",
       "      <td>...</td>\n",
       "      <td>0</td>\n",
       "      <td>2008</td>\n",
       "      <td>CSK</td>\n",
       "      <td>-8.0</td>\n",
       "      <td>18.333333</td>\n",
       "      <td>19.933333</td>\n",
       "      <td>25.098718</td>\n",
       "      <td>-1.333333</td>\n",
       "      <td>23.186966</td>\n",
       "      <td>25.098718</td>\n",
       "    </tr>\n",
       "    <tr>\n",
       "      <th>4</th>\n",
       "      <td>MS Dhoni</td>\n",
       "      <td>16</td>\n",
       "      <td>14</td>\n",
       "      <td>4</td>\n",
       "      <td>414</td>\n",
       "      <td>65</td>\n",
       "      <td>41.4</td>\n",
       "      <td>310</td>\n",
       "      <td>133.54</td>\n",
       "      <td>0</td>\n",
       "      <td>...</td>\n",
       "      <td>0</td>\n",
       "      <td>2008</td>\n",
       "      <td>CSK</td>\n",
       "      <td>35.0</td>\n",
       "      <td>0.000000</td>\n",
       "      <td>34.125000</td>\n",
       "      <td>34.630915</td>\n",
       "      <td>31.166667</td>\n",
       "      <td>0.000000</td>\n",
       "      <td>34.630915</td>\n",
       "    </tr>\n",
       "  </tbody>\n",
       "</table>\n",
       "<p>5 rows × 35 columns</p>\n",
       "</div>"
      ],
      "text/plain": [
       "           Player  Matches  Batting Innings  Not out  Runs  High Score  \\\n",
       "0      MEK Hussey        4                3        1   168         116   \n",
       "1         M Ntini        9                2        1    11          11   \n",
       "2       ML Hayden        4                4        1   189          81   \n",
       "3  M Muralitharan       15                1        0     0           0   \n",
       "4        MS Dhoni       16               14        4   414          65   \n",
       "\n",
       "   Batting Average  Balls Faced  Batting SR  100's  ...  Stumpings  Year  \\\n",
       "0             84.0          100      168.00      1  ...          0  2008   \n",
       "1             11.0           18       61.11      0  ...          0  2008   \n",
       "2             63.0          131      144.27      0  ...          0  2008   \n",
       "3              0.0            3        0.00      0  ...          0  2008   \n",
       "4             41.4          310      133.54      0  ...          0  2008   \n",
       "\n",
       "   Team  Batting Strength  Bowling Strength   Strength  Strength For Model  \\\n",
       "0   CSK              72.0          0.000000  58.500000           39.357860   \n",
       "1   CSK               4.0         22.111111  24.000000           24.000000   \n",
       "2   CSK              60.0          0.000000  60.250000           50.854167   \n",
       "3   CSK              -8.0         18.333333  19.933333           25.098718   \n",
       "4   CSK              35.0          0.000000  34.125000           34.630915   \n",
       "\n",
       "   Bat Strength For Model  Bowl Strength For Model  Cumul Strength For Model  \n",
       "0               38.571429                 0.000000                 39.357860  \n",
       "1                4.000000                22.111111                 24.000000  \n",
       "2               48.333333                 0.000000                 50.854167  \n",
       "3               -1.333333                23.186966                 25.098718  \n",
       "4               31.166667                 0.000000                 34.630915  \n",
       "\n",
       "[5 rows x 35 columns]"
      ]
     },
     "execution_count": 89,
     "metadata": {},
     "output_type": "execute_result"
    }
   ],
   "source": [
    "all_years_player_performance.head()"
   ]
  },
  {
   "cell_type": "code",
   "execution_count": 90,
   "metadata": {},
   "outputs": [
    {
     "data": {
      "text/plain": [
       "(-10.0, 100.0)"
      ]
     },
     "execution_count": 90,
     "metadata": {},
     "output_type": "execute_result"
    },
    {
     "data": {
      "image/png": "[encoded data removed]",
      "text/plain": [
       "<Figure size 1296x396 with 3 Axes>"
      ]
     },
     "metadata": {
      "needs_background": "light"
     },
     "output_type": "display_data"
    }
   ],
   "source": [
    "plt.figure(figsize=(18,5.5))\n",
    "plt.subplot(131)\n",
    "sns.regplot(x=all_years_player_performance['Strength'], y=all_years_player_performance['Strength For Model'])\n",
    "plt.title('Scatter Plot of Actual Strength and\\nModel Strength')\n",
    "plt.xlim(-10, 100);plt.ylim(-10, 100)\n",
    "plt.subplot(132)\n",
    "sns.regplot(x=all_years_player_performance['Batting Strength'], y=all_years_player_performance['Bat Strength For Model'])\n",
    "plt.title('Scatter Plot of Actual Batting Strength and\\nBatting Model Strength')\n",
    "plt.xlim(-10, 100);plt.ylim(-10, 100)\n",
    "plt.subplot(133)\n",
    "sns.regplot(x=all_years_player_performance['Bowling Strength'], y=all_years_player_performance['Bowl Strength For Model'])\n",
    "plt.title('Scatter Plot of Actual Bowling Strength and\\nBowling Model Strength')\n",
    "plt.xlim(-10, 100);plt.ylim(-10, 100)"
   ]
  },
  {
   "cell_type": "markdown",
   "metadata": {},
   "source": [
    "- Actual Strength is the strength of the same season\n",
    "- Strength is the strength of a season before that we will feed into the model"
   ]
  },
  {
   "cell_type": "code",
   "execution_count": 91,
   "metadata": {},
   "outputs": [
    {
     "data": {
      "image/png": "[encoded data removed]",
      "text/plain": [
       "<Figure size 432x288 with 2 Axes>"
      ]
     },
     "metadata": {
      "needs_background": "light"
     },
     "output_type": "display_data"
    }
   ],
   "source": [
    "ax = sns.heatmap(all_years_player_performance.loc[:,all_years_player_performance.columns[-8:]].corr('spearman'), annot=True)"
   ]
  },
  {
   "cell_type": "markdown",
   "metadata": {},
   "source": [
    "- Here we have the strength of a player according to the formula\n",
    "- Aggregating the individual strength into the team strength of a team"
   ]
  },
  {
   "cell_type": "code",
   "execution_count": 92,
   "metadata": {},
   "outputs": [],
   "source": [
    "team_stren = \\\n",
    "all_years_player_performance.groupby(['Team', 'Year']).apply(lambda a: a[\"Strength For Model\"].sort_values(ascending=False)[:11].sum()/max(a[\"Matches\"]))\n",
    "\n",
    "cum_team_stren = \\\n",
    "all_years_player_performance.groupby(['Team', 'Year']).apply(lambda a: sum(a[\"Cumul Strength For Model\"].sort_values(ascending=False)[:11])/max(a[\"Matches\"]))\n",
    "\n",
    "team_bat_stren = \\\n",
    "all_years_player_performance.groupby(['Team', 'Year']).apply(lambda a: a[\"Bat Strength For Model\"].sort_values(ascending=False)[:11].sum()/max(a[\"Matches\"]))\n",
    "\n",
    "team_bowl_stren = \\\n",
    "all_years_player_performance.groupby(['Team', 'Year']).apply(lambda a: sum(a[\"Bowl Strength For Model\"].sort_values(ascending=False)[:11])/max(a[\"Matches\"]))"
   ]
  },
  {
   "cell_type": "code",
   "execution_count": 93,
   "metadata": {},
   "outputs": [],
   "source": [
    "#new = all_years_player_performance.groupby(['Year','Team'])['Player','Strength For Model','Team'].apply(lambda x: x.nlargest(11, columns=['Strength For Model']))"
   ]
  },
  {
   "cell_type": "code",
   "execution_count": 94,
   "metadata": {},
   "outputs": [
    {
     "data": {
      "text/html": [
       "<div>\n",
       "<style scoped>\n",
       "    .dataframe tbody tr th:only-of-type {\n",
       "        vertical-align: middle;\n",
       "    }\n",
       "\n",
       "    .dataframe tbody tr th {\n",
       "        vertical-align: top;\n",
       "    }\n",
       "\n",
       "    .dataframe thead th {\n",
       "        text-align: right;\n",
       "    }\n",
       "</style>\n",
       "<table border=\"1\" class=\"dataframe\">\n",
       "  <thead>\n",
       "    <tr style=\"text-align: right;\">\n",
       "      <th></th>\n",
       "      <th>Team_Strength</th>\n",
       "      <th>Batting_Team_Strength</th>\n",
       "      <th>Bowling_Team_Strength</th>\n",
       "      <th>Cumulative_Team_Strength</th>\n",
       "    </tr>\n",
       "  </thead>\n",
       "  <tbody>\n",
       "    <tr>\n",
       "      <th>count</th>\n",
       "      <td>100.000000</td>\n",
       "      <td>100.000000</td>\n",
       "      <td>100.000000</td>\n",
       "      <td>100.000000</td>\n",
       "    </tr>\n",
       "    <tr>\n",
       "      <th>mean</th>\n",
       "      <td>26.702428</td>\n",
       "      <td>17.165134</td>\n",
       "      <td>16.557766</td>\n",
       "      <td>26.038402</td>\n",
       "    </tr>\n",
       "    <tr>\n",
       "      <th>std</th>\n",
       "      <td>3.327214</td>\n",
       "      <td>2.560715</td>\n",
       "      <td>3.742815</td>\n",
       "      <td>3.014527</td>\n",
       "    </tr>\n",
       "    <tr>\n",
       "      <th>min</th>\n",
       "      <td>20.436569</td>\n",
       "      <td>11.491228</td>\n",
       "      <td>9.742660</td>\n",
       "      <td>19.937809</td>\n",
       "    </tr>\n",
       "    <tr>\n",
       "      <th>25%</th>\n",
       "      <td>24.262769</td>\n",
       "      <td>15.424370</td>\n",
       "      <td>14.306860</td>\n",
       "      <td>23.732599</td>\n",
       "    </tr>\n",
       "    <tr>\n",
       "      <th>50%</th>\n",
       "      <td>26.086471</td>\n",
       "      <td>17.060897</td>\n",
       "      <td>15.959770</td>\n",
       "      <td>25.800766</td>\n",
       "    </tr>\n",
       "    <tr>\n",
       "      <th>75%</th>\n",
       "      <td>28.765631</td>\n",
       "      <td>18.469538</td>\n",
       "      <td>18.225869</td>\n",
       "      <td>27.672141</td>\n",
       "    </tr>\n",
       "    <tr>\n",
       "      <th>max</th>\n",
       "      <td>35.255482</td>\n",
       "      <td>24.428571</td>\n",
       "      <td>39.307236</td>\n",
       "      <td>34.679584</td>\n",
       "    </tr>\n",
       "  </tbody>\n",
       "</table>\n",
       "</div>"
      ],
      "text/plain": [
       "       Team_Strength  Batting_Team_Strength  Bowling_Team_Strength  \\\n",
       "count     100.000000             100.000000             100.000000   \n",
       "mean       26.702428              17.165134              16.557766   \n",
       "std         3.327214               2.560715               3.742815   \n",
       "min        20.436569              11.491228               9.742660   \n",
       "25%        24.262769              15.424370              14.306860   \n",
       "50%        26.086471              17.060897              15.959770   \n",
       "75%        28.765631              18.469538              18.225869   \n",
       "max        35.255482              24.428571              39.307236   \n",
       "\n",
       "       Cumulative_Team_Strength  \n",
       "count                100.000000  \n",
       "mean                  26.038402  \n",
       "std                    3.014527  \n",
       "min                   19.937809  \n",
       "25%                   23.732599  \n",
       "50%                   25.800766  \n",
       "75%                   27.672141  \n",
       "max                   34.679584  "
      ]
     },
     "execution_count": 94,
     "metadata": {},
     "output_type": "execute_result"
    }
   ],
   "source": [
    "TeamStrength = pd.concat([\n",
    "                          team_stren,                          \n",
    "                          team_bat_stren,\n",
    "                          team_bowl_stren,\n",
    "                          cum_team_stren], axis=1) \n",
    "TeamStrength.columns= [\n",
    "                       'Team_Strength',                        \n",
    "                       'Batting_Team_Strength',\n",
    "                       'Bowling_Team_Strength',\n",
    "                       'Cumulative_Team_Strength']\n",
    "TeamStrength.describe()"
   ]
  },
  {
   "cell_type": "code",
   "execution_count": 95,
   "metadata": {},
   "outputs": [
    {
     "data": {
      "text/plain": [
       "Text(0.5, 1.0, 'Scatter Plot of Team Strength and\\nCumulative Team Strength')"
      ]
     },
     "execution_count": 95,
     "metadata": {},
     "output_type": "execute_result"
    },
    {
     "data": {
      "image/png": "[encoded data removed]",
      "text/plain": [
       "<Figure size 432x288 with 1 Axes>"
      ]
     },
     "metadata": {
      "needs_background": "light"
     },
     "output_type": "display_data"
    }
   ],
   "source": [
    "sns.regplot(x=TeamStrength.loc[:,'Team_Strength'], y=TeamStrength.loc[:,'Cumulative_Team_Strength'])\n",
    "plt.title('Scatter Plot of Team Strength and\\nCumulative Team Strength')"
   ]
  },
  {
   "cell_type": "code",
   "execution_count": 96,
   "metadata": {},
   "outputs": [
    {
     "data": {
      "image/png": "[encoded data removed]",
      "text/plain": [
       "<Figure size 432x288 with 2 Axes>"
      ]
     },
     "metadata": {
      "needs_background": "light"
     },
     "output_type": "display_data"
    }
   ],
   "source": [
    "ax = sns.heatmap(TeamStrength.corr(), annot=True)"
   ]
  },
  {
   "cell_type": "code",
   "execution_count": 97,
   "metadata": {},
   "outputs": [
    {
     "data": {
      "text/html": [
       "<div>\n",
       "<style scoped>\n",
       "    .dataframe tbody tr th:only-of-type {\n",
       "        vertical-align: middle;\n",
       "    }\n",
       "\n",
       "    .dataframe tbody tr th {\n",
       "        vertical-align: top;\n",
       "    }\n",
       "\n",
       "    .dataframe thead th {\n",
       "        text-align: right;\n",
       "    }\n",
       "</style>\n",
       "<table border=\"1\" class=\"dataframe\">\n",
       "  <thead>\n",
       "    <tr style=\"text-align: right;\">\n",
       "      <th></th>\n",
       "      <th></th>\n",
       "      <th>Team_Strength</th>\n",
       "      <th>Batting_Team_Strength</th>\n",
       "      <th>Bowling_Team_Strength</th>\n",
       "      <th>Cumulative_Team_Strength</th>\n",
       "    </tr>\n",
       "    <tr>\n",
       "      <th>Team</th>\n",
       "      <th>Year</th>\n",
       "      <th></th>\n",
       "      <th></th>\n",
       "      <th></th>\n",
       "      <th></th>\n",
       "    </tr>\n",
       "  </thead>\n",
       "  <tbody>\n",
       "    <tr>\n",
       "      <th rowspan=\"5\" valign=\"top\">CSK</th>\n",
       "      <th>2008</th>\n",
       "      <td>22.746533</td>\n",
       "      <td>17.146825</td>\n",
       "      <td>11.497391</td>\n",
       "      <td>22.746533</td>\n",
       "    </tr>\n",
       "    <tr>\n",
       "      <th>2009</th>\n",
       "      <td>30.966321</td>\n",
       "      <td>21.192857</td>\n",
       "      <td>18.312296</td>\n",
       "      <td>30.966321</td>\n",
       "    </tr>\n",
       "    <tr>\n",
       "      <th>2010</th>\n",
       "      <td>27.781762</td>\n",
       "      <td>17.410714</td>\n",
       "      <td>19.920292</td>\n",
       "      <td>28.814597</td>\n",
       "    </tr>\n",
       "    <tr>\n",
       "      <th>2011</th>\n",
       "      <td>24.183259</td>\n",
       "      <td>14.083333</td>\n",
       "      <td>14.535135</td>\n",
       "      <td>27.026374</td>\n",
       "    </tr>\n",
       "    <tr>\n",
       "      <th>2012</th>\n",
       "      <td>21.166494</td>\n",
       "      <td>15.984962</td>\n",
       "      <td>12.667610</td>\n",
       "      <td>21.665932</td>\n",
       "    </tr>\n",
       "  </tbody>\n",
       "</table>\n",
       "</div>"
      ],
      "text/plain": [
       "           Team_Strength  Batting_Team_Strength  Bowling_Team_Strength  \\\n",
       "Team Year                                                                \n",
       "CSK  2008      22.746533              17.146825              11.497391   \n",
       "     2009      30.966321              21.192857              18.312296   \n",
       "     2010      27.781762              17.410714              19.920292   \n",
       "     2011      24.183259              14.083333              14.535135   \n",
       "     2012      21.166494              15.984962              12.667610   \n",
       "\n",
       "           Cumulative_Team_Strength  \n",
       "Team Year                            \n",
       "CSK  2008                 22.746533  \n",
       "     2009                 30.966321  \n",
       "     2010                 28.814597  \n",
       "     2011                 27.026374  \n",
       "     2012                 21.665932  "
      ]
     },
     "execution_count": 97,
     "metadata": {},
     "output_type": "execute_result"
    }
   ],
   "source": [
    "TeamStrength.head()"
   ]
  },
  {
   "cell_type": "code",
   "execution_count": 98,
   "metadata": {},
   "outputs": [],
   "source": [
    "TeamStrength.reset_index(inplace = True)"
   ]
  },
  {
   "cell_type": "markdown",
   "metadata": {},
   "source": [
    "### <font color = 'blue'>We will use TeamStrength later and merge it with our final model</font>"
   ]
  },
  {
   "cell_type": "markdown",
   "metadata": {},
   "source": [
    "# Win Ratio Ratio of each team vs another Calculations(AHP)"
   ]
  },
  {
   "cell_type": "markdown",
   "metadata": {},
   "source": [
    "- Using Analytic Hierarchy Process (AHP) we will find the coefficient(weights) for win rate of each team with respect to the other\n",
    "- https://www.youtube.com/watch?v=J4T70o8gjlk&t=17s\n",
    "- The below codes are the standard process(algorithm) for the AHP and can be avoided "
   ]
  },
  {
   "cell_type": "code",
   "execution_count": 99,
   "metadata": {},
   "outputs": [],
   "source": [
    "Data = match_data.copy()"
   ]
  },
  {
   "cell_type": "markdown",
   "metadata": {},
   "source": [
    "We are dropping KTK and GL Teams temporarily because these teams have not played against each other."
   ]
  },
  {
   "cell_type": "code",
   "execution_count": 100,
   "metadata": {},
   "outputs": [],
   "source": [
    "# Dropping teams who hasn't played against each other\n",
    "Data.drop(Data[Data[\"TEAM1\"] == \"KTK\"].index, inplace = True) \n",
    "Data.drop(Data[Data[\"TEAM2\"] == \"KTK\"].index, inplace = True) \n",
    "Data.drop(Data[Data[\"TEAM1\"] == \"GL\"].index, inplace = True) \n",
    "Data.drop(Data[Data[\"TEAM2\"] == \"GL\"].index, inplace = True) "
   ]
  },
  {
   "cell_type": "code",
   "execution_count": 101,
   "metadata": {},
   "outputs": [
    {
     "name": "stderr",
     "output_type": "stream",
     "text": [
      "<ipython-input-101-72dc8638bfef>:3: SettingWithCopyWarning: \n",
      "A value is trying to be set on a copy of a slice from a DataFrame\n",
      "\n",
      "See the caveats in the documentation: https://pandas.pydata.org/pandas-docs/stable/user_guide/indexing.html#returning-a-view-versus-a-copy\n",
      "  Data['Selector'][Data['TEAM1']>Data['TEAM2']] = Data['TEAM1'][Data['TEAM1']>Data['TEAM2']] + \" v/s \" + Data['TEAM2'][Data['TEAM1']>Data['TEAM2']]\n",
      "<ipython-input-101-72dc8638bfef>:4: SettingWithCopyWarning: \n",
      "A value is trying to be set on a copy of a slice from a DataFrame\n",
      "\n",
      "See the caveats in the documentation: https://pandas.pydata.org/pandas-docs/stable/user_guide/indexing.html#returning-a-view-versus-a-copy\n",
      "  Data['Selector'][Data['TEAM1']<Data['TEAM2']] = Data['TEAM2'][Data['TEAM1']<Data['TEAM2']] + \" v/s \" + Data['TEAM1'][Data['TEAM1']<Data['TEAM2']]\n"
     ]
    }
   ],
   "source": [
    "#Creating Selector variable of form 'TEAMBig v/s TEAMSmall'\n",
    "Data['Selector'] = ''\n",
    "Data['Selector'][Data['TEAM1']>Data['TEAM2']] = Data['TEAM1'][Data['TEAM1']>Data['TEAM2']] + \" v/s \" + Data['TEAM2'][Data['TEAM1']>Data['TEAM2']]\n",
    "Data['Selector'][Data['TEAM1']<Data['TEAM2']] = Data['TEAM2'][Data['TEAM1']<Data['TEAM2']] + \" v/s \" + Data['TEAM1'][Data['TEAM1']<Data['TEAM2']]\n",
    "\n",
    "Data = Data[[\"Selector\", \"WINNER\"]]"
   ]
  },
  {
   "cell_type": "code",
   "execution_count": 102,
   "metadata": {},
   "outputs": [],
   "source": [
    "#Applying groupby to find winner count\n",
    "df = pd.DataFrame(Data.groupby('Selector').apply(lambda a: a['WINNER'].value_counts())).reset_index()\n",
    "\n",
    "#Initializing Win Ratio Column\n",
    "df['Win Ratio']=0"
   ]
  },
  {
   "cell_type": "code",
   "execution_count": 103,
   "metadata": {},
   "outputs": [
    {
     "data": {
      "text/html": [
       "<div>\n",
       "<style scoped>\n",
       "    .dataframe tbody tr th:only-of-type {\n",
       "        vertical-align: middle;\n",
       "    }\n",
       "\n",
       "    .dataframe tbody tr th {\n",
       "        vertical-align: top;\n",
       "    }\n",
       "\n",
       "    .dataframe thead th {\n",
       "        text-align: right;\n",
       "    }\n",
       "</style>\n",
       "<table border=\"1\" class=\"dataframe\">\n",
       "  <thead>\n",
       "    <tr style=\"text-align: right;\">\n",
       "      <th></th>\n",
       "      <th>Selector</th>\n",
       "      <th>WINNER</th>\n",
       "    </tr>\n",
       "  </thead>\n",
       "  <tbody>\n",
       "    <tr>\n",
       "      <th>0</th>\n",
       "      <td>RCB v/s KKR</td>\n",
       "      <td>KKR</td>\n",
       "    </tr>\n",
       "    <tr>\n",
       "      <th>1</th>\n",
       "      <td>KXIP v/s CSK</td>\n",
       "      <td>CSK</td>\n",
       "    </tr>\n",
       "    <tr>\n",
       "      <th>2</th>\n",
       "      <td>RR v/s DD</td>\n",
       "      <td>DD</td>\n",
       "    </tr>\n",
       "    <tr>\n",
       "      <th>3</th>\n",
       "      <td>RCB v/s MI</td>\n",
       "      <td>RCB</td>\n",
       "    </tr>\n",
       "    <tr>\n",
       "      <th>4</th>\n",
       "      <td>SRH v/s KKR</td>\n",
       "      <td>KKR</td>\n",
       "    </tr>\n",
       "  </tbody>\n",
       "</table>\n",
       "</div>"
      ],
      "text/plain": [
       "       Selector WINNER\n",
       "0   RCB v/s KKR    KKR\n",
       "1  KXIP v/s CSK    CSK\n",
       "2     RR v/s DD     DD\n",
       "3    RCB v/s MI    RCB\n",
       "4   SRH v/s KKR    KKR"
      ]
     },
     "execution_count": 103,
     "metadata": {},
     "output_type": "execute_result"
    }
   ],
   "source": [
    "Data = Data[[\"Selector\", \"WINNER\"]]\n",
    "Data.head()"
   ]
  },
  {
   "cell_type": "code",
   "execution_count": 104,
   "metadata": {},
   "outputs": [
    {
     "data": {
      "text/html": [
       "<div>\n",
       "<style scoped>\n",
       "    .dataframe tbody tr th:only-of-type {\n",
       "        vertical-align: middle;\n",
       "    }\n",
       "\n",
       "    .dataframe tbody tr th {\n",
       "        vertical-align: top;\n",
       "    }\n",
       "\n",
       "    .dataframe thead th {\n",
       "        text-align: right;\n",
       "    }\n",
       "</style>\n",
       "<table border=\"1\" class=\"dataframe\">\n",
       "  <thead>\n",
       "    <tr style=\"text-align: right;\">\n",
       "      <th></th>\n",
       "      <th>Selector</th>\n",
       "      <th>level_1</th>\n",
       "      <th>WINNER</th>\n",
       "      <th>Win Ratio</th>\n",
       "    </tr>\n",
       "  </thead>\n",
       "  <tbody>\n",
       "    <tr>\n",
       "      <th>0</th>\n",
       "      <td>DD v/s CSK</td>\n",
       "      <td>CSK</td>\n",
       "      <td>15</td>\n",
       "      <td>0</td>\n",
       "    </tr>\n",
       "    <tr>\n",
       "      <th>1</th>\n",
       "      <td>DD v/s CSK</td>\n",
       "      <td>DD</td>\n",
       "      <td>6</td>\n",
       "      <td>0</td>\n",
       "    </tr>\n",
       "    <tr>\n",
       "      <th>2</th>\n",
       "      <td>KKR v/s CSK</td>\n",
       "      <td>CSK</td>\n",
       "      <td>13</td>\n",
       "      <td>0</td>\n",
       "    </tr>\n",
       "    <tr>\n",
       "      <th>3</th>\n",
       "      <td>KKR v/s CSK</td>\n",
       "      <td>KKR</td>\n",
       "      <td>7</td>\n",
       "      <td>0</td>\n",
       "    </tr>\n",
       "    <tr>\n",
       "      <th>4</th>\n",
       "      <td>KKR v/s DD</td>\n",
       "      <td>KKR</td>\n",
       "      <td>13</td>\n",
       "      <td>0</td>\n",
       "    </tr>\n",
       "  </tbody>\n",
       "</table>\n",
       "</div>"
      ],
      "text/plain": [
       "      Selector level_1  WINNER  Win Ratio\n",
       "0   DD v/s CSK     CSK      15          0\n",
       "1   DD v/s CSK      DD       6          0\n",
       "2  KKR v/s CSK     CSK      13          0\n",
       "3  KKR v/s CSK     KKR       7          0\n",
       "4   KKR v/s DD     KKR      13          0"
      ]
     },
     "execution_count": 104,
     "metadata": {},
     "output_type": "execute_result"
    }
   ],
   "source": [
    "#Applying groupby to find winner count\n",
    "df = pd.DataFrame(Data.groupby('Selector').apply(lambda a: a['WINNER'].value_counts())).reset_index()\n",
    "\n",
    "#Initializing Win Ratio Column\n",
    "df['Win Ratio']=0\n",
    "#df['AHP']=0\n",
    "\n",
    "df.head()"
   ]
  },
  {
   "cell_type": "code",
   "execution_count": 105,
   "metadata": {},
   "outputs": [
    {
     "name": "stderr",
     "output_type": "stream",
     "text": [
      "c:\\users\\rashid\\appdata\\local\\programs\\python\\python38\\lib\\site-packages\\pandas\\core\\indexing.py:670: SettingWithCopyWarning: \n",
      "A value is trying to be set on a copy of a slice from a DataFrame\n",
      "\n",
      "See the caveats in the documentation: https://pandas.pydata.org/pandas-docs/stable/user_guide/indexing.html#returning-a-view-versus-a-copy\n",
      "  iloc._setitem_with_indexer(indexer, value)\n"
     ]
    }
   ],
   "source": [
    "#Computing Win Ratio using WINNER feature\n",
    "for i in range(0, 72, 2):\n",
    "    df[\"Win Ratio\"].iloc[i] = df[\"WINNER\"].iloc[i]/df[\"WINNER\"].iloc[i+1]\n",
    "    df[\"Win Ratio\"].iloc[i+1] = df[\"WINNER\"].iloc[i+1]/df[\"WINNER\"].iloc[i]"
   ]
  },
  {
   "cell_type": "markdown",
   "metadata": {},
   "source": [
    "# AHP Matrix"
   ]
  },
  {
   "cell_type": "markdown",
   "metadata": {},
   "source": [
    "- <font color = 'red'> This is the final matrix that we got after the AHP process </font>\n",
    "- Matrix meaning:\n",
    "- Eg CSK row:\n",
    "- DD value is 2.5 it means CSK win rate against DD is 2.5 times more. Bascically CSK has 2.5 times more importance than DD. Similarly 1.85 times more importance than KKR\n"
   ]
  },
  {
   "cell_type": "code",
   "execution_count": 106,
   "metadata": {},
   "outputs": [
    {
     "data": {
      "text/html": [
       "<div>\n",
       "<style scoped>\n",
       "    .dataframe tbody tr th:only-of-type {\n",
       "        vertical-align: middle;\n",
       "    }\n",
       "\n",
       "    .dataframe tbody tr th {\n",
       "        vertical-align: top;\n",
       "    }\n",
       "\n",
       "    .dataframe thead th {\n",
       "        text-align: right;\n",
       "    }\n",
       "</style>\n",
       "<table border=\"1\" class=\"dataframe\">\n",
       "  <thead>\n",
       "    <tr style=\"text-align: right;\">\n",
       "      <th></th>\n",
       "      <th>CSK</th>\n",
       "      <th>DD</th>\n",
       "      <th>KKR</th>\n",
       "      <th>KXIP</th>\n",
       "      <th>MI</th>\n",
       "      <th>RCB</th>\n",
       "      <th>RPS</th>\n",
       "      <th>RR</th>\n",
       "      <th>SRH</th>\n",
       "    </tr>\n",
       "  </thead>\n",
       "  <tbody>\n",
       "    <tr>\n",
       "      <th>CSK</th>\n",
       "      <td>1</td>\n",
       "      <td>2.5</td>\n",
       "      <td>1.85714</td>\n",
       "      <td>1.33333</td>\n",
       "      <td>0.6875</td>\n",
       "      <td>2.14286</td>\n",
       "      <td>2</td>\n",
       "      <td>2</td>\n",
       "      <td>2.14286</td>\n",
       "    </tr>\n",
       "    <tr>\n",
       "      <th>DD</th>\n",
       "      <td>0.4</td>\n",
       "      <td>1</td>\n",
       "      <td>0.769231</td>\n",
       "      <td>0.642857</td>\n",
       "      <td>1</td>\n",
       "      <td>0.571429</td>\n",
       "      <td>1.25</td>\n",
       "      <td>0.727273</td>\n",
       "      <td>1</td>\n",
       "    </tr>\n",
       "    <tr>\n",
       "      <th>KKR</th>\n",
       "      <td>0.538462</td>\n",
       "      <td>1.3</td>\n",
       "      <td>1</td>\n",
       "      <td>2.125</td>\n",
       "      <td>0.315789</td>\n",
       "      <td>1.4</td>\n",
       "      <td>3.5</td>\n",
       "      <td>1</td>\n",
       "      <td>1.88889</td>\n",
       "    </tr>\n",
       "    <tr>\n",
       "      <th>KXIP</th>\n",
       "      <td>0.75</td>\n",
       "      <td>1.55556</td>\n",
       "      <td>0.470588</td>\n",
       "      <td>1</td>\n",
       "      <td>0.846154</td>\n",
       "      <td>1</td>\n",
       "      <td>1</td>\n",
       "      <td>0.9</td>\n",
       "      <td>0.846154</td>\n",
       "    </tr>\n",
       "    <tr>\n",
       "      <th>MI</th>\n",
       "      <td>1.45455</td>\n",
       "      <td>1</td>\n",
       "      <td>3.16667</td>\n",
       "      <td>1.18182</td>\n",
       "      <td>1</td>\n",
       "      <td>1.77778</td>\n",
       "      <td>1.4</td>\n",
       "      <td>1</td>\n",
       "      <td>1.18182</td>\n",
       "    </tr>\n",
       "    <tr>\n",
       "      <th>RCB</th>\n",
       "      <td>0.466667</td>\n",
       "      <td>1.75</td>\n",
       "      <td>0.714286</td>\n",
       "      <td>1</td>\n",
       "      <td>0.5625</td>\n",
       "      <td>1</td>\n",
       "      <td>3.5</td>\n",
       "      <td>0.7</td>\n",
       "      <td>0.785714</td>\n",
       "    </tr>\n",
       "    <tr>\n",
       "      <th>RPS</th>\n",
       "      <td>0.5</td>\n",
       "      <td>0.8</td>\n",
       "      <td>0.285714</td>\n",
       "      <td>1</td>\n",
       "      <td>0.714286</td>\n",
       "      <td>0.285714</td>\n",
       "      <td>1</td>\n",
       "      <td>0.25</td>\n",
       "      <td>0.666667</td>\n",
       "    </tr>\n",
       "    <tr>\n",
       "      <th>RR</th>\n",
       "      <td>0.5</td>\n",
       "      <td>1.375</td>\n",
       "      <td>1</td>\n",
       "      <td>1.11111</td>\n",
       "      <td>1</td>\n",
       "      <td>1.42857</td>\n",
       "      <td>4</td>\n",
       "      <td>1</td>\n",
       "      <td>1.5</td>\n",
       "    </tr>\n",
       "    <tr>\n",
       "      <th>SRH</th>\n",
       "      <td>0.466667</td>\n",
       "      <td>1</td>\n",
       "      <td>0.529412</td>\n",
       "      <td>1.18182</td>\n",
       "      <td>0.846154</td>\n",
       "      <td>1.27273</td>\n",
       "      <td>1.5</td>\n",
       "      <td>0.666667</td>\n",
       "      <td>1</td>\n",
       "    </tr>\n",
       "  </tbody>\n",
       "</table>\n",
       "</div>"
      ],
      "text/plain": [
       "           CSK       DD       KKR      KXIP        MI       RCB   RPS  \\\n",
       "CSK          1      2.5   1.85714   1.33333    0.6875   2.14286     2   \n",
       "DD         0.4        1  0.769231  0.642857         1  0.571429  1.25   \n",
       "KKR   0.538462      1.3         1     2.125  0.315789       1.4   3.5   \n",
       "KXIP      0.75  1.55556  0.470588         1  0.846154         1     1   \n",
       "MI     1.45455        1   3.16667   1.18182         1   1.77778   1.4   \n",
       "RCB   0.466667     1.75  0.714286         1    0.5625         1   3.5   \n",
       "RPS        0.5      0.8  0.285714         1  0.714286  0.285714     1   \n",
       "RR         0.5    1.375         1   1.11111         1   1.42857     4   \n",
       "SRH   0.466667        1  0.529412   1.18182  0.846154   1.27273   1.5   \n",
       "\n",
       "            RR       SRH  \n",
       "CSK          2   2.14286  \n",
       "DD    0.727273         1  \n",
       "KKR          1   1.88889  \n",
       "KXIP       0.9  0.846154  \n",
       "MI           1   1.18182  \n",
       "RCB        0.7  0.785714  \n",
       "RPS       0.25  0.666667  \n",
       "RR           1       1.5  \n",
       "SRH   0.666667         1  "
      ]
     },
     "execution_count": 106,
     "metadata": {},
     "output_type": "execute_result"
    }
   ],
   "source": [
    "#Initializing Null Dataframe for pair-wise weight matrix \n",
    "Teams = df.level_1.unique()\n",
    "init_df = pd.DataFrame([], index = Teams, columns = Teams)\n",
    "\n",
    "#Assigning pair-wise weights using win ratio\n",
    "for i in range(0,init_df.shape[0]):               #Iteration over rows in init_df\n",
    "    for j in range(0,init_df.shape[0]):           #Iteration over columns in init_df\n",
    "        \n",
    "        if i == j:                                #Enters if element is diagonal\n",
    "            init_df.iloc[i,j] = 1\n",
    "    \n",
    "        elif i != j:                              #Enters if element is non-diagonal\n",
    "            #Creating Selector variable for given pair\n",
    "            if init_df.columns[j]>init_df.index[i]: \n",
    "                a = init_df.columns[j]+\" v/s \"+init_df.index[i]\n",
    "            if init_df.columns[j]<init_df.index[i]:\n",
    "                a = init_df.index[i]+\" v/s \"+init_df.columns[j]\n",
    "            \n",
    "            #Assigns Win Ratio(column index 3) as pair-wise weight \n",
    "            init_df.iloc[i,j] = \\\n",
    "            df[(df['Selector'] == a) & (df['level_1'] == init_df.index[i])].iloc[0,3]\n",
    "\n",
    "init_df"
   ]
  },
  {
   "cell_type": "markdown",
   "metadata": {},
   "source": [
    "# Process Verification for AHP"
   ]
  },
  {
   "cell_type": "markdown",
   "metadata": {},
   "source": [
    "- This is the verification Code for AHP. It verifies that the ratios are consistent \n",
    "- Condition : Consistency Ratio < 0.1"
   ]
  },
  {
   "cell_type": "code",
   "execution_count": 107,
   "metadata": {},
   "outputs": [],
   "source": [
    "def AHP(df,random_index):\n",
    "    \"\"\"Reads Dataframe of numerical pair-wise order columns & random index and\n",
    "    returns an array of criteria weights if consistency ratio i.e. CR<0.1 is satisfied.\"\"\"\n",
    "\n",
    "    matrix=np.mat(df)         #Conveting df to numpy matrix\n",
    "        \n",
    "    n=matrix.shape[0]              #Extracting matrix size\n",
    "    \n",
    "    if n != matrix.shape[1]:       #Dimension check\n",
    "        print('Input matrix is not square.\\Please verify the matrix dimensions.')\n",
    "    elif np.multiply(matrix.T,matrix).round(decimals=5).sum()%1 != 0:       #Trnspose elements inverse check\n",
    "        print('Transpose elements are not reciprocal.\\nPlease verify the weights.')\n",
    "    else:                          #Enters AHP algorithm\n",
    "        #Pair-wise weight matrix divided column sums\n",
    "        mat1 = np.divide(matrix, matrix.sum(axis=0))\n",
    "        \n",
    "        #Criteria weights computed by Row-wise mean of mat1\n",
    "        criteria_weights = mat1.mean(axis=1)\n",
    "        \n",
    "        #Weighted sum computed by element wise multiplication of pair-wise matrix with criteria weight followed by\n",
    "        #row-wise addition\n",
    "        weighted_sum = np.multiply(matrix, criteria_weights.T).sum(axis=1)\n",
    "        \n",
    "        #lamda computed by averaging of ratio of weighted sum and criteria weights\n",
    "        lambda_max = (weighted_sum/criteria_weights).mean()\n",
    "    \n",
    "        #CI & CR Calculation\n",
    "        consistency_index = (lambda_max-n)/(n-1)\n",
    "        consistency_ratio = consistency_index/random_index\n",
    "\n",
    "        if consistency_ratio<0.1:\n",
    "            print(f'Consistency Ratio {consistency_ratio:.4} satisfies CR < 0.1 condition')\n",
    "            return criteria_weights\n",
    "        else:\n",
    "            print(f'Consistency Ratio {consistency_ratio:.4} does not satisfy CR < 0.1 condition')\n",
    "            return None"
   ]
  },
  {
   "cell_type": "code",
   "execution_count": 108,
   "metadata": {},
   "outputs": [
    {
     "name": "stdout",
     "output_type": "stream",
     "text": [
      "Consistency Ratio 0.04966 satisfies CR < 0.1 condition\n"
     ]
    }
   ],
   "source": [
    "weights = AHP(init_df.astype('float'), 1.45)"
   ]
  },
  {
   "cell_type": "markdown",
   "metadata": {},
   "source": [
    "## <font color = 'red'>Final Coefficients that we recieved after the AHP Process</red>"
   ]
  },
  {
   "cell_type": "code",
   "execution_count": 109,
   "metadata": {},
   "outputs": [
    {
     "data": {
      "text/html": [
       "<div>\n",
       "<style scoped>\n",
       "    .dataframe tbody tr th:only-of-type {\n",
       "        vertical-align: middle;\n",
       "    }\n",
       "\n",
       "    .dataframe tbody tr th {\n",
       "        vertical-align: top;\n",
       "    }\n",
       "\n",
       "    .dataframe thead th {\n",
       "        text-align: right;\n",
       "    }\n",
       "</style>\n",
       "<table border=\"1\" class=\"dataframe\">\n",
       "  <thead>\n",
       "    <tr style=\"text-align: right;\">\n",
       "      <th></th>\n",
       "      <th>0</th>\n",
       "    </tr>\n",
       "  </thead>\n",
       "  <tbody>\n",
       "    <tr>\n",
       "      <th>RPS</th>\n",
       "      <td>0.604341</td>\n",
       "    </tr>\n",
       "    <tr>\n",
       "      <th>DD</th>\n",
       "      <td>0.809025</td>\n",
       "    </tr>\n",
       "    <tr>\n",
       "      <th>SRH</th>\n",
       "      <td>0.904243</td>\n",
       "    </tr>\n",
       "    <tr>\n",
       "      <th>KXIP</th>\n",
       "      <td>0.939665</td>\n",
       "    </tr>\n",
       "    <tr>\n",
       "      <th>RCB</th>\n",
       "      <td>1.000000</td>\n",
       "    </tr>\n",
       "    <tr>\n",
       "      <th>RR</th>\n",
       "      <td>1.271740</td>\n",
       "    </tr>\n",
       "    <tr>\n",
       "      <th>KKR</th>\n",
       "      <td>1.276790</td>\n",
       "    </tr>\n",
       "    <tr>\n",
       "      <th>MI</th>\n",
       "      <td>1.518754</td>\n",
       "    </tr>\n",
       "    <tr>\n",
       "      <th>CSK</th>\n",
       "      <td>1.693047</td>\n",
       "    </tr>\n",
       "  </tbody>\n",
       "</table>\n",
       "</div>"
      ],
      "text/plain": [
       "             0\n",
       "RPS   0.604341\n",
       "DD    0.809025\n",
       "SRH   0.904243\n",
       "KXIP  0.939665\n",
       "RCB   1.000000\n",
       "RR    1.271740\n",
       "KKR   1.276790\n",
       "MI    1.518754\n",
       "CSK   1.693047"
      ]
     },
     "execution_count": 109,
     "metadata": {},
     "output_type": "execute_result"
    }
   ],
   "source": [
    "Team_criteria_weights= pd.DataFrame(weights, index = init_df.index).sort_values(by=0)\n",
    "Team_weights = Team_criteria_weights/Team_criteria_weights.median()\n",
    "Team_weights"
   ]
  },
  {
   "cell_type": "markdown",
   "metadata": {},
   "source": [
    "## We have given rankings to the AHP weights highest will be 1 "
   ]
  },
  {
   "cell_type": "code",
   "execution_count": 110,
   "metadata": {},
   "outputs": [
    {
     "data": {
      "text/html": [
       "<div>\n",
       "<style scoped>\n",
       "    .dataframe tbody tr th:only-of-type {\n",
       "        vertical-align: middle;\n",
       "    }\n",
       "\n",
       "    .dataframe tbody tr th {\n",
       "        vertical-align: top;\n",
       "    }\n",
       "\n",
       "    .dataframe thead th {\n",
       "        text-align: right;\n",
       "    }\n",
       "</style>\n",
       "<table border=\"1\" class=\"dataframe\">\n",
       "  <thead>\n",
       "    <tr style=\"text-align: right;\">\n",
       "      <th></th>\n",
       "      <th>Team</th>\n",
       "      <th>Year</th>\n",
       "    </tr>\n",
       "  </thead>\n",
       "  <tbody>\n",
       "    <tr>\n",
       "      <th>0</th>\n",
       "      <td>CSK</td>\n",
       "      <td>2008</td>\n",
       "    </tr>\n",
       "    <tr>\n",
       "      <th>1</th>\n",
       "      <td>CSK</td>\n",
       "      <td>2009</td>\n",
       "    </tr>\n",
       "    <tr>\n",
       "      <th>2</th>\n",
       "      <td>CSK</td>\n",
       "      <td>2010</td>\n",
       "    </tr>\n",
       "    <tr>\n",
       "      <th>3</th>\n",
       "      <td>CSK</td>\n",
       "      <td>2011</td>\n",
       "    </tr>\n",
       "    <tr>\n",
       "      <th>4</th>\n",
       "      <td>CSK</td>\n",
       "      <td>2012</td>\n",
       "    </tr>\n",
       "  </tbody>\n",
       "</table>\n",
       "</div>"
      ],
      "text/plain": [
       "  Team  Year\n",
       "0  CSK  2008\n",
       "1  CSK  2009\n",
       "2  CSK  2010\n",
       "3  CSK  2011\n",
       "4  CSK  2012"
      ]
     },
     "execution_count": 110,
     "metadata": {},
     "output_type": "execute_result"
    }
   ],
   "source": [
    "Team_priority_using_AHP = TeamStrength.iloc[:,[0,1]]\n",
    "Team_priority_using_AHP.head()"
   ]
  },
  {
   "cell_type": "code",
   "execution_count": 111,
   "metadata": {},
   "outputs": [
    {
     "name": "stderr",
     "output_type": "stream",
     "text": [
      "c:\\users\\rashid\\appdata\\local\\programs\\python\\python38\\lib\\site-packages\\pandas\\core\\indexing.py:1596: SettingWithCopyWarning: \n",
      "A value is trying to be set on a copy of a slice from a DataFrame.\n",
      "Try using .loc[row_indexer,col_indexer] = value instead\n",
      "\n",
      "See the caveats in the documentation: https://pandas.pydata.org/pandas-docs/stable/user_guide/indexing.html#returning-a-view-versus-a-copy\n",
      "  self.obj[key] = _infer_fill_value(value)\n",
      "c:\\users\\rashid\\appdata\\local\\programs\\python\\python38\\lib\\site-packages\\pandas\\core\\indexing.py:1765: SettingWithCopyWarning: \n",
      "A value is trying to be set on a copy of a slice from a DataFrame.\n",
      "Try using .loc[row_indexer,col_indexer] = value instead\n",
      "\n",
      "See the caveats in the documentation: https://pandas.pydata.org/pandas-docs/stable/user_guide/indexing.html#returning-a-view-versus-a-copy\n",
      "  isetter(loc, value)\n"
     ]
    }
   ],
   "source": [
    "for team in Team_weights.index:\n",
    "    \n",
    "    i = Team_priority_using_AHP[Team_priority_using_AHP['Team']==team].index\n",
    "    Team_priority_using_AHP.loc[i,'AHP'] = Team_weights.loc[team,0]"
   ]
  },
  {
   "cell_type": "code",
   "execution_count": 112,
   "metadata": {},
   "outputs": [],
   "source": [
    "Team_priority_using_AHP=Team_priority_using_AHP.fillna(1)"
   ]
  },
  {
   "cell_type": "code",
   "execution_count": 113,
   "metadata": {},
   "outputs": [],
   "source": [
    "Team_priority_using_AHP = Team_priority_using_AHP.round(5)"
   ]
  },
  {
   "cell_type": "code",
   "execution_count": 114,
   "metadata": {},
   "outputs": [
    {
     "data": {
      "text/plain": [
       "array([1.69305, 0.80903, 1.     , 1.27679, 0.93966, 1.51875, 0.60434,\n",
       "       1.27174, 0.90424])"
      ]
     },
     "execution_count": 114,
     "metadata": {},
     "output_type": "execute_result"
    }
   ],
   "source": [
    "Team_priority_using_AHP['AHP'].unique()"
   ]
  },
  {
   "cell_type": "code",
   "execution_count": 115,
   "metadata": {},
   "outputs": [],
   "source": [
    "dictw={1.69305:1, 0.80903:8, 1.:5, 1.27679:3, 0.93966:6,\n",
    "       1.51875:2, 0.60434:9, 1.27174:4 , 0.90424:7 }"
   ]
  },
  {
   "cell_type": "markdown",
   "metadata": {},
   "source": [
    "- Adding the AHP values that we got into the main model"
   ]
  },
  {
   "cell_type": "code",
   "execution_count": 116,
   "metadata": {},
   "outputs": [
    {
     "data": {
      "text/html": [
       "<div>\n",
       "<style scoped>\n",
       "    .dataframe tbody tr th:only-of-type {\n",
       "        vertical-align: middle;\n",
       "    }\n",
       "\n",
       "    .dataframe tbody tr th {\n",
       "        vertical-align: top;\n",
       "    }\n",
       "\n",
       "    .dataframe thead th {\n",
       "        text-align: right;\n",
       "    }\n",
       "</style>\n",
       "<table border=\"1\" class=\"dataframe\">\n",
       "  <thead>\n",
       "    <tr style=\"text-align: right;\">\n",
       "      <th></th>\n",
       "      <th>Team</th>\n",
       "      <th>Year</th>\n",
       "      <th>AHP</th>\n",
       "    </tr>\n",
       "  </thead>\n",
       "  <tbody>\n",
       "    <tr>\n",
       "      <th>0</th>\n",
       "      <td>CSK</td>\n",
       "      <td>2008</td>\n",
       "      <td>1.0</td>\n",
       "    </tr>\n",
       "    <tr>\n",
       "      <th>1</th>\n",
       "      <td>CSK</td>\n",
       "      <td>2009</td>\n",
       "      <td>1.0</td>\n",
       "    </tr>\n",
       "    <tr>\n",
       "      <th>2</th>\n",
       "      <td>CSK</td>\n",
       "      <td>2010</td>\n",
       "      <td>1.0</td>\n",
       "    </tr>\n",
       "    <tr>\n",
       "      <th>3</th>\n",
       "      <td>CSK</td>\n",
       "      <td>2011</td>\n",
       "      <td>1.0</td>\n",
       "    </tr>\n",
       "    <tr>\n",
       "      <th>4</th>\n",
       "      <td>CSK</td>\n",
       "      <td>2012</td>\n",
       "      <td>1.0</td>\n",
       "    </tr>\n",
       "  </tbody>\n",
       "</table>\n",
       "</div>"
      ],
      "text/plain": [
       "  Team  Year  AHP\n",
       "0  CSK  2008  1.0\n",
       "1  CSK  2009  1.0\n",
       "2  CSK  2010  1.0\n",
       "3  CSK  2011  1.0\n",
       "4  CSK  2012  1.0"
      ]
     },
     "execution_count": 116,
     "metadata": {},
     "output_type": "execute_result"
    }
   ],
   "source": [
    "Team_priority_using_AHP = Team_priority_using_AHP.replace(dictw)\n",
    "Team_priority_using_AHP.head()"
   ]
  },
  {
   "cell_type": "markdown",
   "metadata": {},
   "source": [
    "<font color ='red'>\n",
    " Conclusion for AHP Process:<br/>\n",
    " We are finding ranks of team (each year) on the basis of win ratios among the teams\n",
    "    </font>"
   ]
  },
  {
   "cell_type": "markdown",
   "metadata": {},
   "source": [
    "# AHP Player Strength "
   ]
  },
  {
   "cell_type": "markdown",
   "metadata": {},
   "source": [
    "- We have used a method (AHP) to calculate the strength of a player(Batting and Bowling Strength)\n",
    "- Batting Strength = C1*average + C2*no. of innings + C3*SR + C4*Fifties +\n",
    "    C5*Centuries – C6*Zeros \n",
    "- We will find the coefficients C1,C2... with the help of AHP\n",
    "- Similarly for Bowling Strength"
   ]
  },
  {
   "cell_type": "code",
   "execution_count": 117,
   "metadata": {},
   "outputs": [],
   "source": [
    "player_ahp = all_years_player_performance.drop(['Batting Strength', 'Bowling Strength', \\\n",
    "                                               'Strength', 'Strength For Model', 'Bat Strength For Model', \\\n",
    "                                               'Bowl Strength For Model', \\\n",
    "                                               'Cumul Strength For Model'], axis=1).copy()"
   ]
  },
  {
   "cell_type": "code",
   "execution_count": 118,
   "metadata": {},
   "outputs": [
    {
     "data": {
      "text/html": [
       "<div>\n",
       "<style scoped>\n",
       "    .dataframe tbody tr th:only-of-type {\n",
       "        vertical-align: middle;\n",
       "    }\n",
       "\n",
       "    .dataframe tbody tr th {\n",
       "        vertical-align: top;\n",
       "    }\n",
       "\n",
       "    .dataframe thead th {\n",
       "        text-align: right;\n",
       "    }\n",
       "</style>\n",
       "<table border=\"1\" class=\"dataframe\">\n",
       "  <thead>\n",
       "    <tr style=\"text-align: right;\">\n",
       "      <th></th>\n",
       "      <th>Player</th>\n",
       "      <th>Matches</th>\n",
       "      <th>Batting Innings</th>\n",
       "      <th>Not out</th>\n",
       "      <th>Runs</th>\n",
       "      <th>High Score</th>\n",
       "      <th>Batting Average</th>\n",
       "      <th>Balls Faced</th>\n",
       "      <th>Batting SR</th>\n",
       "      <th>100's</th>\n",
       "      <th>...</th>\n",
       "      <th>Wickets</th>\n",
       "      <th>Bowling Average</th>\n",
       "      <th>Bowling Economy</th>\n",
       "      <th>Bowling SR</th>\n",
       "      <th>4W Haul</th>\n",
       "      <th>5W Haul</th>\n",
       "      <th>Catches</th>\n",
       "      <th>Stumpings</th>\n",
       "      <th>Year</th>\n",
       "      <th>Team</th>\n",
       "    </tr>\n",
       "  </thead>\n",
       "  <tbody>\n",
       "    <tr>\n",
       "      <th>0</th>\n",
       "      <td>MEK Hussey</td>\n",
       "      <td>4</td>\n",
       "      <td>3</td>\n",
       "      <td>1</td>\n",
       "      <td>168</td>\n",
       "      <td>116</td>\n",
       "      <td>84.0</td>\n",
       "      <td>100</td>\n",
       "      <td>168.00</td>\n",
       "      <td>1</td>\n",
       "      <td>...</td>\n",
       "      <td>0</td>\n",
       "      <td>0.00</td>\n",
       "      <td>0.00</td>\n",
       "      <td>0.0</td>\n",
       "      <td>0</td>\n",
       "      <td>0</td>\n",
       "      <td>2</td>\n",
       "      <td>0</td>\n",
       "      <td>2008</td>\n",
       "      <td>CSK</td>\n",
       "    </tr>\n",
       "    <tr>\n",
       "      <th>1</th>\n",
       "      <td>M Ntini</td>\n",
       "      <td>9</td>\n",
       "      <td>2</td>\n",
       "      <td>1</td>\n",
       "      <td>11</td>\n",
       "      <td>11</td>\n",
       "      <td>11.0</td>\n",
       "      <td>18</td>\n",
       "      <td>61.11</td>\n",
       "      <td>0</td>\n",
       "      <td>...</td>\n",
       "      <td>7</td>\n",
       "      <td>34.57</td>\n",
       "      <td>6.91</td>\n",
       "      <td>30.0</td>\n",
       "      <td>1</td>\n",
       "      <td>0</td>\n",
       "      <td>1</td>\n",
       "      <td>0</td>\n",
       "      <td>2008</td>\n",
       "      <td>CSK</td>\n",
       "    </tr>\n",
       "    <tr>\n",
       "      <th>2</th>\n",
       "      <td>ML Hayden</td>\n",
       "      <td>4</td>\n",
       "      <td>4</td>\n",
       "      <td>1</td>\n",
       "      <td>189</td>\n",
       "      <td>81</td>\n",
       "      <td>63.0</td>\n",
       "      <td>131</td>\n",
       "      <td>144.27</td>\n",
       "      <td>0</td>\n",
       "      <td>...</td>\n",
       "      <td>0</td>\n",
       "      <td>0.00</td>\n",
       "      <td>0.00</td>\n",
       "      <td>0.0</td>\n",
       "      <td>0</td>\n",
       "      <td>0</td>\n",
       "      <td>0</td>\n",
       "      <td>0</td>\n",
       "      <td>2008</td>\n",
       "      <td>CSK</td>\n",
       "    </tr>\n",
       "    <tr>\n",
       "      <th>3</th>\n",
       "      <td>M Muralitharan</td>\n",
       "      <td>15</td>\n",
       "      <td>1</td>\n",
       "      <td>0</td>\n",
       "      <td>0</td>\n",
       "      <td>0</td>\n",
       "      <td>0.0</td>\n",
       "      <td>3</td>\n",
       "      <td>0.00</td>\n",
       "      <td>0</td>\n",
       "      <td>...</td>\n",
       "      <td>11</td>\n",
       "      <td>36.72</td>\n",
       "      <td>6.96</td>\n",
       "      <td>31.6</td>\n",
       "      <td>0</td>\n",
       "      <td>0</td>\n",
       "      <td>4</td>\n",
       "      <td>0</td>\n",
       "      <td>2008</td>\n",
       "      <td>CSK</td>\n",
       "    </tr>\n",
       "    <tr>\n",
       "      <th>4</th>\n",
       "      <td>MS Dhoni</td>\n",
       "      <td>16</td>\n",
       "      <td>14</td>\n",
       "      <td>4</td>\n",
       "      <td>414</td>\n",
       "      <td>65</td>\n",
       "      <td>41.4</td>\n",
       "      <td>310</td>\n",
       "      <td>133.54</td>\n",
       "      <td>0</td>\n",
       "      <td>...</td>\n",
       "      <td>0</td>\n",
       "      <td>0.00</td>\n",
       "      <td>0.00</td>\n",
       "      <td>0.0</td>\n",
       "      <td>0</td>\n",
       "      <td>0</td>\n",
       "      <td>6</td>\n",
       "      <td>0</td>\n",
       "      <td>2008</td>\n",
       "      <td>CSK</td>\n",
       "    </tr>\n",
       "  </tbody>\n",
       "</table>\n",
       "<p>5 rows × 28 columns</p>\n",
       "</div>"
      ],
      "text/plain": [
       "           Player  Matches  Batting Innings  Not out  Runs  High Score  \\\n",
       "0      MEK Hussey        4                3        1   168         116   \n",
       "1         M Ntini        9                2        1    11          11   \n",
       "2       ML Hayden        4                4        1   189          81   \n",
       "3  M Muralitharan       15                1        0     0           0   \n",
       "4        MS Dhoni       16               14        4   414          65   \n",
       "\n",
       "   Batting Average  Balls Faced  Batting SR  100's  ...  Wickets  \\\n",
       "0             84.0          100      168.00      1  ...        0   \n",
       "1             11.0           18       61.11      0  ...        7   \n",
       "2             63.0          131      144.27      0  ...        0   \n",
       "3              0.0            3        0.00      0  ...       11   \n",
       "4             41.4          310      133.54      0  ...        0   \n",
       "\n",
       "   Bowling Average  Bowling Economy  Bowling SR  4W Haul  5W Haul  Catches  \\\n",
       "0             0.00             0.00         0.0        0        0        2   \n",
       "1            34.57             6.91        30.0        1        0        1   \n",
       "2             0.00             0.00         0.0        0        0        0   \n",
       "3            36.72             6.96        31.6        0        0        4   \n",
       "4             0.00             0.00         0.0        0        0        6   \n",
       "\n",
       "   Stumpings  Year  Team  \n",
       "0          0  2008   CSK  \n",
       "1          0  2008   CSK  \n",
       "2          0  2008   CSK  \n",
       "3          0  2008   CSK  \n",
       "4          0  2008   CSK  \n",
       "\n",
       "[5 rows x 28 columns]"
      ]
     },
     "execution_count": 118,
     "metadata": {},
     "output_type": "execute_result"
    }
   ],
   "source": [
    "player_ahp.head()"
   ]
  },
  {
   "cell_type": "markdown",
   "metadata": {},
   "source": [
    "- Defining the priorities 1 is the highest while 7 is the least"
   ]
  },
  {
   "cell_type": "markdown",
   "metadata": {},
   "source": [
    "### AHP Batting Initial Matrix"
   ]
  },
  {
   "cell_type": "markdown",
   "metadata": {},
   "source": [
    "![AHP batting](batting_ahp.png \"AHP Batting Initial Matrix\")"
   ]
  },
  {
   "cell_type": "markdown",
   "metadata": {},
   "source": [
    "### AHP Bowling Initial Matrix"
   ]
  },
  {
   "cell_type": "markdown",
   "metadata": {},
   "source": [
    "![AHP bowling](bowling_ahp.png \"AHP Bowling Initial Matrix\")"
   ]
  },
  {
   "cell_type": "markdown",
   "metadata": {},
   "source": [
    "- The below constants(Coefficients) are calculated using the Excel and are the standard algorithm and can not be manipulated"
   ]
  },
  {
   "cell_type": "code",
   "execution_count": 119,
   "metadata": {},
   "outputs": [],
   "source": [
    "def ahp_bat_strength(df):\n",
    "    \"\"\"\n",
    "    Calculates Player Batting Strength using the formula calculated using AHP.\n",
    "    \"\"\"\n",
    "    \n",
    "    df[\"AHP_bat\"] = 0.388726074*df[\"Batting Average\"] + 0.260099468*df[\"Batting Innings\"]\\\n",
    "                  + 0.175428513*df[\"Batting SR\"] + 0.083438652*df[\"50's\"]\\\n",
    "                  + 0.055018035*df[\"100's\"] + 0.037289258*df[\"0's\"]\n",
    "    \n",
    "\n",
    "def ahp_bowl_strength(df):\n",
    "    \"\"\"\n",
    "    Calculates Player Bowling Strength using the formula calculated using AHP.\n",
    "    \"\"\"\n",
    "    \n",
    "    df[\"AHP_bowl\"] = 0.387508576*df[\"Overs\"] + 0.281308382*df[\"Bowling Economy\"]\\\n",
    "                  + 0.158764794*df[\"Wickets\"] + 0.073609038*df[\"Bowling Average\"]\\\n",
    "                  + 0.067861912*df[\"Bowling SR\"] + 0.030947298*df[\"4W Haul\"]\n",
    "    \n",
    "ahp_bat_strength(player_ahp)\n",
    "ahp_bowl_strength(player_ahp)"
   ]
  },
  {
   "cell_type": "code",
   "execution_count": 120,
   "metadata": {},
   "outputs": [
    {
     "data": {
      "text/html": [
       "<div>\n",
       "<style scoped>\n",
       "    .dataframe tbody tr th:only-of-type {\n",
       "        vertical-align: middle;\n",
       "    }\n",
       "\n",
       "    .dataframe tbody tr th {\n",
       "        vertical-align: top;\n",
       "    }\n",
       "\n",
       "    .dataframe thead th {\n",
       "        text-align: right;\n",
       "    }\n",
       "</style>\n",
       "<table border=\"1\" class=\"dataframe\">\n",
       "  <thead>\n",
       "    <tr style=\"text-align: right;\">\n",
       "      <th></th>\n",
       "      <th>Year</th>\n",
       "      <th>Team</th>\n",
       "      <th>Player</th>\n",
       "      <th>AHP_bat</th>\n",
       "      <th>AHP_bowl</th>\n",
       "    </tr>\n",
       "  </thead>\n",
       "  <tbody>\n",
       "    <tr>\n",
       "      <th>0</th>\n",
       "      <td>2008</td>\n",
       "      <td>CSK</td>\n",
       "      <td>MEK Hussey</td>\n",
       "      <td>62.960297</td>\n",
       "      <td>0.000000</td>\n",
       "    </tr>\n",
       "    <tr>\n",
       "      <th>1</th>\n",
       "      <td>2008</td>\n",
       "      <td>CSK</td>\n",
       "      <td>M Ntini</td>\n",
       "      <td>15.516622</td>\n",
       "      <td>21.229464</td>\n",
       "    </tr>\n",
       "    <tr>\n",
       "      <th>2</th>\n",
       "      <td>2008</td>\n",
       "      <td>CSK</td>\n",
       "      <td>ML Hayden</td>\n",
       "      <td>51.006089</td>\n",
       "      <td>0.000000</td>\n",
       "    </tr>\n",
       "    <tr>\n",
       "      <th>3</th>\n",
       "      <td>2008</td>\n",
       "      <td>CSK</td>\n",
       "      <td>M Muralitharan</td>\n",
       "      <td>0.297389</td>\n",
       "      <td>31.027177</td>\n",
       "    </tr>\n",
       "    <tr>\n",
       "      <th>4</th>\n",
       "      <td>2008</td>\n",
       "      <td>CSK</td>\n",
       "      <td>MS Dhoni</td>\n",
       "      <td>43.328253</td>\n",
       "      <td>0.000000</td>\n",
       "    </tr>\n",
       "    <tr>\n",
       "      <th>...</th>\n",
       "      <td>...</td>\n",
       "      <td>...</td>\n",
       "      <td>...</td>\n",
       "      <td>...</td>\n",
       "      <td>...</td>\n",
       "    </tr>\n",
       "    <tr>\n",
       "      <th>2018</th>\n",
       "      <td>2019</td>\n",
       "      <td>SRH</td>\n",
       "      <td>DJ Hooda</td>\n",
       "      <td>23.821834</td>\n",
       "      <td>6.247653</td>\n",
       "    </tr>\n",
       "    <tr>\n",
       "      <th>2019</th>\n",
       "      <td>2019</td>\n",
       "      <td>SRH</td>\n",
       "      <td>Basil Thampi</td>\n",
       "      <td>17.802951</td>\n",
       "      <td>7.226888</td>\n",
       "    </tr>\n",
       "    <tr>\n",
       "      <th>2020</th>\n",
       "      <td>2019</td>\n",
       "      <td>SRH</td>\n",
       "      <td>S Nadeem</td>\n",
       "      <td>0.000000</td>\n",
       "      <td>11.762869</td>\n",
       "    </tr>\n",
       "    <tr>\n",
       "      <th>2021</th>\n",
       "      <td>2019</td>\n",
       "      <td>SRH</td>\n",
       "      <td>RK Bhui</td>\n",
       "      <td>13.213927</td>\n",
       "      <td>0.000000</td>\n",
       "    </tr>\n",
       "    <tr>\n",
       "      <th>2022</th>\n",
       "      <td>2019</td>\n",
       "      <td>SRH</td>\n",
       "      <td>Abhishek Sharma</td>\n",
       "      <td>20.072417</td>\n",
       "      <td>6.247653</td>\n",
       "    </tr>\n",
       "  </tbody>\n",
       "</table>\n",
       "<p>2023 rows × 5 columns</p>\n",
       "</div>"
      ],
      "text/plain": [
       "      Year Team           Player    AHP_bat   AHP_bowl\n",
       "0     2008  CSK       MEK Hussey  62.960297   0.000000\n",
       "1     2008  CSK          M Ntini  15.516622  21.229464\n",
       "2     2008  CSK        ML Hayden  51.006089   0.000000\n",
       "3     2008  CSK   M Muralitharan   0.297389  31.027177\n",
       "4     2008  CSK         MS Dhoni  43.328253   0.000000\n",
       "...    ...  ...              ...        ...        ...\n",
       "2018  2019  SRH         DJ Hooda  23.821834   6.247653\n",
       "2019  2019  SRH     Basil Thampi  17.802951   7.226888\n",
       "2020  2019  SRH         S Nadeem   0.000000  11.762869\n",
       "2021  2019  SRH          RK Bhui  13.213927   0.000000\n",
       "2022  2019  SRH  Abhishek Sharma  20.072417   6.247653\n",
       "\n",
       "[2023 rows x 5 columns]"
      ]
     },
     "execution_count": 120,
     "metadata": {},
     "output_type": "execute_result"
    }
   ],
   "source": [
    "player_ahp = player_ahp[['Year', 'Team', 'Player', 'AHP_bat', 'AHP_bowl']]\n",
    "player_ahp"
   ]
  },
  {
   "cell_type": "code",
   "execution_count": 121,
   "metadata": {},
   "outputs": [
    {
     "data": {
      "text/plain": [
       "(0.0, 87.40383884089)"
      ]
     },
     "execution_count": 121,
     "metadata": {},
     "output_type": "execute_result"
    }
   ],
   "source": [
    "player_ahp[\"AHP_bat\"].min(), player_ahp[\"AHP_bat\"].max()"
   ]
  },
  {
   "cell_type": "code",
   "execution_count": 122,
   "metadata": {},
   "outputs": [
    {
     "data": {
      "text/plain": [
       "(0.0, 40.39204295606)"
      ]
     },
     "execution_count": 122,
     "metadata": {},
     "output_type": "execute_result"
    }
   ],
   "source": [
    "player_ahp[\"AHP_bowl\"].min(), player_ahp[\"AHP_bowl\"].max()"
   ]
  },
  {
   "cell_type": "markdown",
   "metadata": {},
   "source": [
    "## We need to scale the values the AHP columns"
   ]
  },
  {
   "cell_type": "code",
   "execution_count": 123,
   "metadata": {},
   "outputs": [],
   "source": [
    "from sklearn.preprocessing import MinMaxScaler\n",
    "scaler = MinMaxScaler()\n",
    "player_ahp.iloc[:, 3:] = scaler.fit_transform(player_ahp.iloc[:, 3:])"
   ]
  },
  {
   "cell_type": "code",
   "execution_count": 124,
   "metadata": {},
   "outputs": [
    {
     "data": {
      "text/html": [
       "<div>\n",
       "<style scoped>\n",
       "    .dataframe tbody tr th:only-of-type {\n",
       "        vertical-align: middle;\n",
       "    }\n",
       "\n",
       "    .dataframe tbody tr th {\n",
       "        vertical-align: top;\n",
       "    }\n",
       "\n",
       "    .dataframe thead th {\n",
       "        text-align: right;\n",
       "    }\n",
       "</style>\n",
       "<table border=\"1\" class=\"dataframe\">\n",
       "  <thead>\n",
       "    <tr style=\"text-align: right;\">\n",
       "      <th></th>\n",
       "      <th>Year</th>\n",
       "      <th>Team</th>\n",
       "      <th>Player</th>\n",
       "      <th>AHP_bat</th>\n",
       "      <th>AHP_bowl</th>\n",
       "    </tr>\n",
       "  </thead>\n",
       "  <tbody>\n",
       "    <tr>\n",
       "      <th>0</th>\n",
       "      <td>2008</td>\n",
       "      <td>CSK</td>\n",
       "      <td>MEK Hussey</td>\n",
       "      <td>0.720338</td>\n",
       "      <td>0.000000</td>\n",
       "    </tr>\n",
       "    <tr>\n",
       "      <th>1</th>\n",
       "      <td>2008</td>\n",
       "      <td>CSK</td>\n",
       "      <td>M Ntini</td>\n",
       "      <td>0.177528</td>\n",
       "      <td>0.525585</td>\n",
       "    </tr>\n",
       "    <tr>\n",
       "      <th>2</th>\n",
       "      <td>2008</td>\n",
       "      <td>CSK</td>\n",
       "      <td>ML Hayden</td>\n",
       "      <td>0.583568</td>\n",
       "      <td>0.000000</td>\n",
       "    </tr>\n",
       "    <tr>\n",
       "      <th>3</th>\n",
       "      <td>2008</td>\n",
       "      <td>CSK</td>\n",
       "      <td>M Muralitharan</td>\n",
       "      <td>0.003402</td>\n",
       "      <td>0.768151</td>\n",
       "    </tr>\n",
       "    <tr>\n",
       "      <th>4</th>\n",
       "      <td>2008</td>\n",
       "      <td>CSK</td>\n",
       "      <td>MS Dhoni</td>\n",
       "      <td>0.495725</td>\n",
       "      <td>0.000000</td>\n",
       "    </tr>\n",
       "    <tr>\n",
       "      <th>...</th>\n",
       "      <td>...</td>\n",
       "      <td>...</td>\n",
       "      <td>...</td>\n",
       "      <td>...</td>\n",
       "      <td>...</td>\n",
       "    </tr>\n",
       "    <tr>\n",
       "      <th>2018</th>\n",
       "      <td>2019</td>\n",
       "      <td>SRH</td>\n",
       "      <td>DJ Hooda</td>\n",
       "      <td>0.272549</td>\n",
       "      <td>0.154675</td>\n",
       "    </tr>\n",
       "    <tr>\n",
       "      <th>2019</th>\n",
       "      <td>2019</td>\n",
       "      <td>SRH</td>\n",
       "      <td>Basil Thampi</td>\n",
       "      <td>0.203686</td>\n",
       "      <td>0.178919</td>\n",
       "    </tr>\n",
       "    <tr>\n",
       "      <th>2020</th>\n",
       "      <td>2019</td>\n",
       "      <td>SRH</td>\n",
       "      <td>S Nadeem</td>\n",
       "      <td>0.000000</td>\n",
       "      <td>0.291217</td>\n",
       "    </tr>\n",
       "    <tr>\n",
       "      <th>2021</th>\n",
       "      <td>2019</td>\n",
       "      <td>SRH</td>\n",
       "      <td>RK Bhui</td>\n",
       "      <td>0.151182</td>\n",
       "      <td>0.000000</td>\n",
       "    </tr>\n",
       "    <tr>\n",
       "      <th>2022</th>\n",
       "      <td>2019</td>\n",
       "      <td>SRH</td>\n",
       "      <td>Abhishek Sharma</td>\n",
       "      <td>0.229651</td>\n",
       "      <td>0.154675</td>\n",
       "    </tr>\n",
       "  </tbody>\n",
       "</table>\n",
       "<p>2023 rows × 5 columns</p>\n",
       "</div>"
      ],
      "text/plain": [
       "      Year Team           Player   AHP_bat  AHP_bowl\n",
       "0     2008  CSK       MEK Hussey  0.720338  0.000000\n",
       "1     2008  CSK          M Ntini  0.177528  0.525585\n",
       "2     2008  CSK        ML Hayden  0.583568  0.000000\n",
       "3     2008  CSK   M Muralitharan  0.003402  0.768151\n",
       "4     2008  CSK         MS Dhoni  0.495725  0.000000\n",
       "...    ...  ...              ...       ...       ...\n",
       "2018  2019  SRH         DJ Hooda  0.272549  0.154675\n",
       "2019  2019  SRH     Basil Thampi  0.203686  0.178919\n",
       "2020  2019  SRH         S Nadeem  0.000000  0.291217\n",
       "2021  2019  SRH          RK Bhui  0.151182  0.000000\n",
       "2022  2019  SRH  Abhishek Sharma  0.229651  0.154675\n",
       "\n",
       "[2023 rows x 5 columns]"
      ]
     },
     "execution_count": 124,
     "metadata": {},
     "output_type": "execute_result"
    }
   ],
   "source": [
    "player_ahp"
   ]
  },
  {
   "cell_type": "markdown",
   "metadata": {},
   "source": [
    "### Now the range of both AHP_bat and AHP_bowl is (0, 1)"
   ]
  },
  {
   "cell_type": "code",
   "execution_count": 125,
   "metadata": {},
   "outputs": [
    {
     "data": {
      "text/html": [
       "<div>\n",
       "<style scoped>\n",
       "    .dataframe tbody tr th:only-of-type {\n",
       "        vertical-align: middle;\n",
       "    }\n",
       "\n",
       "    .dataframe tbody tr th {\n",
       "        vertical-align: top;\n",
       "    }\n",
       "\n",
       "    .dataframe thead th {\n",
       "        text-align: right;\n",
       "    }\n",
       "</style>\n",
       "<table border=\"1\" class=\"dataframe\">\n",
       "  <thead>\n",
       "    <tr style=\"text-align: right;\">\n",
       "      <th></th>\n",
       "      <th>Year</th>\n",
       "      <th>Team</th>\n",
       "      <th>Player</th>\n",
       "      <th>AHP_bat</th>\n",
       "      <th>AHP_bowl</th>\n",
       "      <th>AHP_bat+bowl</th>\n",
       "    </tr>\n",
       "  </thead>\n",
       "  <tbody>\n",
       "    <tr>\n",
       "      <th>0</th>\n",
       "      <td>2008</td>\n",
       "      <td>CSK</td>\n",
       "      <td>MEK Hussey</td>\n",
       "      <td>0.720338</td>\n",
       "      <td>0.000000</td>\n",
       "      <td>0.720338</td>\n",
       "    </tr>\n",
       "    <tr>\n",
       "      <th>1</th>\n",
       "      <td>2008</td>\n",
       "      <td>CSK</td>\n",
       "      <td>M Ntini</td>\n",
       "      <td>0.177528</td>\n",
       "      <td>0.525585</td>\n",
       "      <td>0.703113</td>\n",
       "    </tr>\n",
       "    <tr>\n",
       "      <th>2</th>\n",
       "      <td>2008</td>\n",
       "      <td>CSK</td>\n",
       "      <td>ML Hayden</td>\n",
       "      <td>0.583568</td>\n",
       "      <td>0.000000</td>\n",
       "      <td>0.583568</td>\n",
       "    </tr>\n",
       "    <tr>\n",
       "      <th>3</th>\n",
       "      <td>2008</td>\n",
       "      <td>CSK</td>\n",
       "      <td>M Muralitharan</td>\n",
       "      <td>0.003402</td>\n",
       "      <td>0.768151</td>\n",
       "      <td>0.771553</td>\n",
       "    </tr>\n",
       "    <tr>\n",
       "      <th>4</th>\n",
       "      <td>2008</td>\n",
       "      <td>CSK</td>\n",
       "      <td>MS Dhoni</td>\n",
       "      <td>0.495725</td>\n",
       "      <td>0.000000</td>\n",
       "      <td>0.495725</td>\n",
       "    </tr>\n",
       "    <tr>\n",
       "      <th>...</th>\n",
       "      <td>...</td>\n",
       "      <td>...</td>\n",
       "      <td>...</td>\n",
       "      <td>...</td>\n",
       "      <td>...</td>\n",
       "      <td>...</td>\n",
       "    </tr>\n",
       "    <tr>\n",
       "      <th>2018</th>\n",
       "      <td>2019</td>\n",
       "      <td>SRH</td>\n",
       "      <td>DJ Hooda</td>\n",
       "      <td>0.272549</td>\n",
       "      <td>0.154675</td>\n",
       "      <td>0.427224</td>\n",
       "    </tr>\n",
       "    <tr>\n",
       "      <th>2019</th>\n",
       "      <td>2019</td>\n",
       "      <td>SRH</td>\n",
       "      <td>Basil Thampi</td>\n",
       "      <td>0.203686</td>\n",
       "      <td>0.178919</td>\n",
       "      <td>0.382605</td>\n",
       "    </tr>\n",
       "    <tr>\n",
       "      <th>2020</th>\n",
       "      <td>2019</td>\n",
       "      <td>SRH</td>\n",
       "      <td>S Nadeem</td>\n",
       "      <td>0.000000</td>\n",
       "      <td>0.291217</td>\n",
       "      <td>0.291217</td>\n",
       "    </tr>\n",
       "    <tr>\n",
       "      <th>2021</th>\n",
       "      <td>2019</td>\n",
       "      <td>SRH</td>\n",
       "      <td>RK Bhui</td>\n",
       "      <td>0.151182</td>\n",
       "      <td>0.000000</td>\n",
       "      <td>0.151182</td>\n",
       "    </tr>\n",
       "    <tr>\n",
       "      <th>2022</th>\n",
       "      <td>2019</td>\n",
       "      <td>SRH</td>\n",
       "      <td>Abhishek Sharma</td>\n",
       "      <td>0.229651</td>\n",
       "      <td>0.154675</td>\n",
       "      <td>0.384327</td>\n",
       "    </tr>\n",
       "  </tbody>\n",
       "</table>\n",
       "<p>2023 rows × 6 columns</p>\n",
       "</div>"
      ],
      "text/plain": [
       "      Year Team           Player   AHP_bat  AHP_bowl  AHP_bat+bowl\n",
       "0     2008  CSK       MEK Hussey  0.720338  0.000000      0.720338\n",
       "1     2008  CSK          M Ntini  0.177528  0.525585      0.703113\n",
       "2     2008  CSK        ML Hayden  0.583568  0.000000      0.583568\n",
       "3     2008  CSK   M Muralitharan  0.003402  0.768151      0.771553\n",
       "4     2008  CSK         MS Dhoni  0.495725  0.000000      0.495725\n",
       "...    ...  ...              ...       ...       ...           ...\n",
       "2018  2019  SRH         DJ Hooda  0.272549  0.154675      0.427224\n",
       "2019  2019  SRH     Basil Thampi  0.203686  0.178919      0.382605\n",
       "2020  2019  SRH         S Nadeem  0.000000  0.291217      0.291217\n",
       "2021  2019  SRH          RK Bhui  0.151182  0.000000      0.151182\n",
       "2022  2019  SRH  Abhishek Sharma  0.229651  0.154675      0.384327\n",
       "\n",
       "[2023 rows x 6 columns]"
      ]
     },
     "execution_count": 125,
     "metadata": {},
     "output_type": "execute_result"
    }
   ],
   "source": [
    "player_ahp[\"AHP_bat+bowl\"] = player_ahp[\"AHP_bat\"] + player_ahp[\"AHP_bowl\"]\n",
    "player_ahp"
   ]
  },
  {
   "cell_type": "markdown",
   "metadata": {},
   "source": [
    "## Selecting the best 11 players from each team and each year"
   ]
  },
  {
   "cell_type": "code",
   "execution_count": 126,
   "metadata": {},
   "outputs": [
    {
     "name": "stderr",
     "output_type": "stream",
     "text": [
      "<ipython-input-126-d0c3d7dd8627>:1: FutureWarning: Indexing with multiple keys (implicitly converted to a tuple of keys) will be deprecated, use a list instead.\n",
      "  AhpStrength = player_ahp.groupby(['Year','Team'])['Year', 'Player','Team', 'AHP_bat', 'AHP_bowl', 'AHP_bat+bowl'].apply(lambda x: x.nlargest(11, columns=['AHP_bat+bowl']))\n"
     ]
    },
    {
     "data": {
      "text/html": [
       "<div>\n",
       "<style scoped>\n",
       "    .dataframe tbody tr th:only-of-type {\n",
       "        vertical-align: middle;\n",
       "    }\n",
       "\n",
       "    .dataframe tbody tr th {\n",
       "        vertical-align: top;\n",
       "    }\n",
       "\n",
       "    .dataframe thead th {\n",
       "        text-align: right;\n",
       "    }\n",
       "</style>\n",
       "<table border=\"1\" class=\"dataframe\">\n",
       "  <thead>\n",
       "    <tr style=\"text-align: right;\">\n",
       "      <th></th>\n",
       "      <th></th>\n",
       "      <th></th>\n",
       "      <th>Year</th>\n",
       "      <th>Player</th>\n",
       "      <th>Team</th>\n",
       "      <th>AHP_bat</th>\n",
       "      <th>AHP_bowl</th>\n",
       "      <th>AHP_bat+bowl</th>\n",
       "    </tr>\n",
       "    <tr>\n",
       "      <th>Year</th>\n",
       "      <th>Team</th>\n",
       "      <th></th>\n",
       "      <th></th>\n",
       "      <th></th>\n",
       "      <th></th>\n",
       "      <th></th>\n",
       "      <th></th>\n",
       "      <th></th>\n",
       "    </tr>\n",
       "  </thead>\n",
       "  <tbody>\n",
       "    <tr>\n",
       "      <th rowspan=\"5\" valign=\"top\">2008</th>\n",
       "      <th rowspan=\"5\" valign=\"top\">CSK</th>\n",
       "      <th>5</th>\n",
       "      <td>2008</td>\n",
       "      <td>MS Gony</td>\n",
       "      <td>CSK</td>\n",
       "      <td>0.475962</td>\n",
       "      <td>0.776761</td>\n",
       "      <td>1.252723</td>\n",
       "    </tr>\n",
       "    <tr>\n",
       "      <th>7</th>\n",
       "      <td>2008</td>\n",
       "      <td>JA Morkel</td>\n",
       "      <td>CSK</td>\n",
       "      <td>0.480545</td>\n",
       "      <td>0.657122</td>\n",
       "      <td>1.137667</td>\n",
       "    </tr>\n",
       "    <tr>\n",
       "      <th>3</th>\n",
       "      <td>2008</td>\n",
       "      <td>M Muralitharan</td>\n",
       "      <td>CSK</td>\n",
       "      <td>0.003402</td>\n",
       "      <td>0.768151</td>\n",
       "      <td>0.771553</td>\n",
       "    </tr>\n",
       "    <tr>\n",
       "      <th>10</th>\n",
       "      <td>2008</td>\n",
       "      <td>JDP Oram</td>\n",
       "      <td>CSK</td>\n",
       "      <td>0.390047</td>\n",
       "      <td>0.374391</td>\n",
       "      <td>0.764438</td>\n",
       "    </tr>\n",
       "    <tr>\n",
       "      <th>12</th>\n",
       "      <td>2008</td>\n",
       "      <td>Joginder Sharma</td>\n",
       "      <td>CSK</td>\n",
       "      <td>0.336867</td>\n",
       "      <td>0.418462</td>\n",
       "      <td>0.755329</td>\n",
       "    </tr>\n",
       "    <tr>\n",
       "      <th>...</th>\n",
       "      <th>...</th>\n",
       "      <th>...</th>\n",
       "      <td>...</td>\n",
       "      <td>...</td>\n",
       "      <td>...</td>\n",
       "      <td>...</td>\n",
       "      <td>...</td>\n",
       "      <td>...</td>\n",
       "    </tr>\n",
       "    <tr>\n",
       "      <th rowspan=\"5\" valign=\"top\">2019</th>\n",
       "      <th rowspan=\"5\" valign=\"top\">SRH</th>\n",
       "      <th>2005</th>\n",
       "      <td>2019</td>\n",
       "      <td>JM Bairstow</td>\n",
       "      <td>SRH</td>\n",
       "      <td>0.595689</td>\n",
       "      <td>0.000000</td>\n",
       "      <td>0.595689</td>\n",
       "    </tr>\n",
       "    <tr>\n",
       "      <th>2016</th>\n",
       "      <td>2019</td>\n",
       "      <td>Shakib Al Hasan</td>\n",
       "      <td>SRH</td>\n",
       "      <td>0.223642</td>\n",
       "      <td>0.310768</td>\n",
       "      <td>0.534411</td>\n",
       "    </tr>\n",
       "    <tr>\n",
       "      <th>2012</th>\n",
       "      <td>2019</td>\n",
       "      <td>KK Ahmed</td>\n",
       "      <td>SRH</td>\n",
       "      <td>0.003402</td>\n",
       "      <td>0.508980</td>\n",
       "      <td>0.512382</td>\n",
       "    </tr>\n",
       "    <tr>\n",
       "      <th>2007</th>\n",
       "      <td>2019</td>\n",
       "      <td>MK Pandey</td>\n",
       "      <td>SRH</td>\n",
       "      <td>0.489348</td>\n",
       "      <td>0.000000</td>\n",
       "      <td>0.489348</td>\n",
       "    </tr>\n",
       "    <tr>\n",
       "      <th>2017</th>\n",
       "      <td>2019</td>\n",
       "      <td>S Kaul</td>\n",
       "      <td>SRH</td>\n",
       "      <td>0.006378</td>\n",
       "      <td>0.463873</td>\n",
       "      <td>0.470251</td>\n",
       "    </tr>\n",
       "  </tbody>\n",
       "</table>\n",
       "<p>1100 rows × 6 columns</p>\n",
       "</div>"
      ],
      "text/plain": [
       "                Year           Player Team   AHP_bat  AHP_bowl  AHP_bat+bowl\n",
       "Year Team                                                                   \n",
       "2008 CSK  5     2008          MS Gony  CSK  0.475962  0.776761      1.252723\n",
       "          7     2008        JA Morkel  CSK  0.480545  0.657122      1.137667\n",
       "          3     2008   M Muralitharan  CSK  0.003402  0.768151      0.771553\n",
       "          10    2008         JDP Oram  CSK  0.390047  0.374391      0.764438\n",
       "          12    2008  Joginder Sharma  CSK  0.336867  0.418462      0.755329\n",
       "...              ...              ...  ...       ...       ...           ...\n",
       "2019 SRH  2005  2019      JM Bairstow  SRH  0.595689  0.000000      0.595689\n",
       "          2016  2019  Shakib Al Hasan  SRH  0.223642  0.310768      0.534411\n",
       "          2012  2019         KK Ahmed  SRH  0.003402  0.508980      0.512382\n",
       "          2007  2019        MK Pandey  SRH  0.489348  0.000000      0.489348\n",
       "          2017  2019           S Kaul  SRH  0.006378  0.463873      0.470251\n",
       "\n",
       "[1100 rows x 6 columns]"
      ]
     },
     "execution_count": 126,
     "metadata": {},
     "output_type": "execute_result"
    }
   ],
   "source": [
    "AhpStrength = player_ahp.groupby(['Year','Team'])['Year', 'Player','Team', 'AHP_bat', 'AHP_bowl', 'AHP_bat+bowl'].apply(lambda x: x.nlargest(11, columns=['AHP_bat+bowl']))\n",
    "AhpStrength"
   ]
  },
  {
   "cell_type": "code",
   "execution_count": 127,
   "metadata": {},
   "outputs": [
    {
     "data": {
      "text/html": [
       "<div>\n",
       "<style scoped>\n",
       "    .dataframe tbody tr th:only-of-type {\n",
       "        vertical-align: middle;\n",
       "    }\n",
       "\n",
       "    .dataframe tbody tr th {\n",
       "        vertical-align: top;\n",
       "    }\n",
       "\n",
       "    .dataframe thead th {\n",
       "        text-align: right;\n",
       "    }\n",
       "</style>\n",
       "<table border=\"1\" class=\"dataframe\">\n",
       "  <thead>\n",
       "    <tr style=\"text-align: right;\">\n",
       "      <th></th>\n",
       "      <th>Year</th>\n",
       "      <th>Player</th>\n",
       "      <th>Team</th>\n",
       "      <th>AHP_bat</th>\n",
       "      <th>AHP_bowl</th>\n",
       "      <th>AHP_bat+bowl</th>\n",
       "    </tr>\n",
       "  </thead>\n",
       "  <tbody>\n",
       "    <tr>\n",
       "      <th>0</th>\n",
       "      <td>2008</td>\n",
       "      <td>MS Gony</td>\n",
       "      <td>CSK</td>\n",
       "      <td>0.475962</td>\n",
       "      <td>0.776761</td>\n",
       "      <td>1.252723</td>\n",
       "    </tr>\n",
       "    <tr>\n",
       "      <th>1</th>\n",
       "      <td>2008</td>\n",
       "      <td>JA Morkel</td>\n",
       "      <td>CSK</td>\n",
       "      <td>0.480545</td>\n",
       "      <td>0.657122</td>\n",
       "      <td>1.137667</td>\n",
       "    </tr>\n",
       "    <tr>\n",
       "      <th>2</th>\n",
       "      <td>2008</td>\n",
       "      <td>M Muralitharan</td>\n",
       "      <td>CSK</td>\n",
       "      <td>0.003402</td>\n",
       "      <td>0.768151</td>\n",
       "      <td>0.771553</td>\n",
       "    </tr>\n",
       "    <tr>\n",
       "      <th>3</th>\n",
       "      <td>2008</td>\n",
       "      <td>JDP Oram</td>\n",
       "      <td>CSK</td>\n",
       "      <td>0.390047</td>\n",
       "      <td>0.374391</td>\n",
       "      <td>0.764438</td>\n",
       "    </tr>\n",
       "    <tr>\n",
       "      <th>4</th>\n",
       "      <td>2008</td>\n",
       "      <td>Joginder Sharma</td>\n",
       "      <td>CSK</td>\n",
       "      <td>0.336867</td>\n",
       "      <td>0.418462</td>\n",
       "      <td>0.755329</td>\n",
       "    </tr>\n",
       "    <tr>\n",
       "      <th>...</th>\n",
       "      <td>...</td>\n",
       "      <td>...</td>\n",
       "      <td>...</td>\n",
       "      <td>...</td>\n",
       "      <td>...</td>\n",
       "      <td>...</td>\n",
       "    </tr>\n",
       "    <tr>\n",
       "      <th>1095</th>\n",
       "      <td>2019</td>\n",
       "      <td>JM Bairstow</td>\n",
       "      <td>SRH</td>\n",
       "      <td>0.595689</td>\n",
       "      <td>0.000000</td>\n",
       "      <td>0.595689</td>\n",
       "    </tr>\n",
       "    <tr>\n",
       "      <th>1096</th>\n",
       "      <td>2019</td>\n",
       "      <td>Shakib Al Hasan</td>\n",
       "      <td>SRH</td>\n",
       "      <td>0.223642</td>\n",
       "      <td>0.310768</td>\n",
       "      <td>0.534411</td>\n",
       "    </tr>\n",
       "    <tr>\n",
       "      <th>1097</th>\n",
       "      <td>2019</td>\n",
       "      <td>KK Ahmed</td>\n",
       "      <td>SRH</td>\n",
       "      <td>0.003402</td>\n",
       "      <td>0.508980</td>\n",
       "      <td>0.512382</td>\n",
       "    </tr>\n",
       "    <tr>\n",
       "      <th>1098</th>\n",
       "      <td>2019</td>\n",
       "      <td>MK Pandey</td>\n",
       "      <td>SRH</td>\n",
       "      <td>0.489348</td>\n",
       "      <td>0.000000</td>\n",
       "      <td>0.489348</td>\n",
       "    </tr>\n",
       "    <tr>\n",
       "      <th>1099</th>\n",
       "      <td>2019</td>\n",
       "      <td>S Kaul</td>\n",
       "      <td>SRH</td>\n",
       "      <td>0.006378</td>\n",
       "      <td>0.463873</td>\n",
       "      <td>0.470251</td>\n",
       "    </tr>\n",
       "  </tbody>\n",
       "</table>\n",
       "<p>1100 rows × 6 columns</p>\n",
       "</div>"
      ],
      "text/plain": [
       "      Year           Player Team   AHP_bat  AHP_bowl  AHP_bat+bowl\n",
       "0     2008          MS Gony  CSK  0.475962  0.776761      1.252723\n",
       "1     2008        JA Morkel  CSK  0.480545  0.657122      1.137667\n",
       "2     2008   M Muralitharan  CSK  0.003402  0.768151      0.771553\n",
       "3     2008         JDP Oram  CSK  0.390047  0.374391      0.764438\n",
       "4     2008  Joginder Sharma  CSK  0.336867  0.418462      0.755329\n",
       "...    ...              ...  ...       ...       ...           ...\n",
       "1095  2019      JM Bairstow  SRH  0.595689  0.000000      0.595689\n",
       "1096  2019  Shakib Al Hasan  SRH  0.223642  0.310768      0.534411\n",
       "1097  2019         KK Ahmed  SRH  0.003402  0.508980      0.512382\n",
       "1098  2019        MK Pandey  SRH  0.489348  0.000000      0.489348\n",
       "1099  2019           S Kaul  SRH  0.006378  0.463873      0.470251\n",
       "\n",
       "[1100 rows x 6 columns]"
      ]
     },
     "execution_count": 127,
     "metadata": {},
     "output_type": "execute_result"
    }
   ],
   "source": [
    "AhpStrength.reset_index(drop=True, inplace=True)\n",
    "AhpStrength"
   ]
  },
  {
   "cell_type": "markdown",
   "metadata": {},
   "source": [
    "# We have taken Some Assumptions in our model:\n",
    "- Deccan Charges are the same as Sunrises Hyderabad\n",
    "- Delhi Capitals are same as Delhi Daredevils\n",
    "- Pune Warriors are same as Rising Pune"
   ]
  },
  {
   "cell_type": "code",
   "execution_count": 128,
   "metadata": {},
   "outputs": [
    {
     "name": "stderr",
     "output_type": "stream",
     "text": [
      "<ipython-input-128-a5452caa4081>:5: FutureWarning: Indexing with multiple keys (implicitly converted to a tuple of keys) will be deprecated, use a list instead.\n",
      "  Team_Ahp = AhpStrength.groupby(['Year', 'Team'])['AHP_bat','AHP_bowl','AHP_bat+bowl'].mean().reset_index()\n"
     ]
    },
    {
     "data": {
      "text/html": [
       "<div>\n",
       "<style scoped>\n",
       "    .dataframe tbody tr th:only-of-type {\n",
       "        vertical-align: middle;\n",
       "    }\n",
       "\n",
       "    .dataframe tbody tr th {\n",
       "        vertical-align: top;\n",
       "    }\n",
       "\n",
       "    .dataframe thead th {\n",
       "        text-align: right;\n",
       "    }\n",
       "</style>\n",
       "<table border=\"1\" class=\"dataframe\">\n",
       "  <thead>\n",
       "    <tr style=\"text-align: right;\">\n",
       "      <th></th>\n",
       "      <th>Year</th>\n",
       "      <th>Player</th>\n",
       "      <th>Team</th>\n",
       "      <th>AHP_bat</th>\n",
       "      <th>AHP_bowl</th>\n",
       "      <th>AHP_bat+bowl</th>\n",
       "    </tr>\n",
       "  </thead>\n",
       "  <tbody>\n",
       "    <tr>\n",
       "      <th>0</th>\n",
       "      <td>2008</td>\n",
       "      <td>MS Gony</td>\n",
       "      <td>CSK</td>\n",
       "      <td>0.475962</td>\n",
       "      <td>0.776761</td>\n",
       "      <td>1.252723</td>\n",
       "    </tr>\n",
       "    <tr>\n",
       "      <th>1</th>\n",
       "      <td>2008</td>\n",
       "      <td>JA Morkel</td>\n",
       "      <td>CSK</td>\n",
       "      <td>0.480545</td>\n",
       "      <td>0.657122</td>\n",
       "      <td>1.137667</td>\n",
       "    </tr>\n",
       "    <tr>\n",
       "      <th>2</th>\n",
       "      <td>2008</td>\n",
       "      <td>M Muralitharan</td>\n",
       "      <td>CSK</td>\n",
       "      <td>0.003402</td>\n",
       "      <td>0.768151</td>\n",
       "      <td>0.771553</td>\n",
       "    </tr>\n",
       "    <tr>\n",
       "      <th>3</th>\n",
       "      <td>2008</td>\n",
       "      <td>JDP Oram</td>\n",
       "      <td>CSK</td>\n",
       "      <td>0.390047</td>\n",
       "      <td>0.374391</td>\n",
       "      <td>0.764438</td>\n",
       "    </tr>\n",
       "    <tr>\n",
       "      <th>4</th>\n",
       "      <td>2008</td>\n",
       "      <td>Joginder Sharma</td>\n",
       "      <td>CSK</td>\n",
       "      <td>0.336867</td>\n",
       "      <td>0.418462</td>\n",
       "      <td>0.755329</td>\n",
       "    </tr>\n",
       "  </tbody>\n",
       "</table>\n",
       "</div>"
      ],
      "text/plain": [
       "   Year           Player Team   AHP_bat  AHP_bowl  AHP_bat+bowl\n",
       "0  2008          MS Gony  CSK  0.475962  0.776761      1.252723\n",
       "1  2008        JA Morkel  CSK  0.480545  0.657122      1.137667\n",
       "2  2008   M Muralitharan  CSK  0.003402  0.768151      0.771553\n",
       "3  2008         JDP Oram  CSK  0.390047  0.374391      0.764438\n",
       "4  2008  Joginder Sharma  CSK  0.336867  0.418462      0.755329"
      ]
     },
     "execution_count": 128,
     "metadata": {},
     "output_type": "execute_result"
    }
   ],
   "source": [
    "AhpStrength = AhpStrength.replace('PWI','RPS')\n",
    "AhpStrength = AhpStrength.replace('PWI','RPS')\n",
    "AhpStrength.loc[((AhpStrength['Year'] < 2016) & (AhpStrength['Team'] == 'DC')),'Team']='SRH'\n",
    "AhpStrength.loc[((AhpStrength['Year'] > 2016) & (AhpStrength['Team'] == 'DC')),'Team']='DD'\n",
    "Team_Ahp = AhpStrength.groupby(['Year', 'Team'])['AHP_bat','AHP_bowl','AHP_bat+bowl'].mean().reset_index()\n",
    "AhpStrength.loc[((AhpStrength['Year'] > 2016) & (AhpStrength['Team'] == 'DC')),'Team']='DD'\n",
    "AhpStrength.head()"
   ]
  },
  {
   "cell_type": "markdown",
   "metadata": {},
   "source": [
    "###  Merging the individual team player strength into the team strength"
   ]
  },
  {
   "cell_type": "code",
   "execution_count": 129,
   "metadata": {},
   "outputs": [],
   "source": [
    "for a in AhpStrength.Player.unique():          #Iteration over Players\n",
    "    \n",
    "    #Series of years the player has played sorted in descending order\n",
    "    b = AhpStrength[AhpStrength['Player']==a]['Year'].sort_values(ascending=False)\n",
    "    \n",
    "    #Mean ahp_bat strength of player over IPL\n",
    "    c = AhpStrength[AhpStrength['Player']==a]['AHP_bat'].mean()\n",
    "    #Mean ahp_bowl strength of player over IPL\n",
    "    d = AhpStrength[AhpStrength['Player']==a]['AHP_bowl'].mean()\n",
    "    #Mean ahp_bat+bowl strength of player over IPL\n",
    "    e = AhpStrength[AhpStrength['Player']==a]['AHP_bat+bowl'].mean()\n",
    "    \n",
    "    \n",
    "    for i in range(len(b)):                     #Iteration over the years\n",
    "        if sum(b.isin([b[b.index[i]]-1])):      #enters if year-1 is present in b\n",
    "            #copies value to stren_mod from previous year stren_calc\n",
    "            AhpStrength.loc[b.index[i],'AHPM_bat'] = AhpStrength.loc[b.index[i+1],'AHP_bat']   \n",
    "        else:                                   #enters when previous year is not available\n",
    "            #Mean strength of player over IPL is imputed\n",
    "            AhpStrength.loc[b.index[i],'AHPM_bat'] = c\n",
    "            \n",
    "        if sum(b.isin([b[b.index[i]]-1])):      #enters if year-1 is present in b\n",
    "            #copies value to stren_mod from previous year stren_calc\n",
    "            AhpStrength.loc[b.index[i],'AHPM_bowl'] = AhpStrength.loc[b.index[i+1],'AHP_bowl']   \n",
    "        else:                                   #enters when previous year is not available\n",
    "            #Mean strength of player over IPL is imputed\n",
    "            AhpStrength.loc[b.index[i],'AHPM_bowl'] = d\n",
    "            \n",
    "        if sum(b.isin([b[b.index[i]]-1])):      #enters if year-1 is present in b\n",
    "            #copies value to stren_mod from previous year stren_calc\n",
    "            AhpStrength.loc[b.index[i],'AHPM_bat+bowl'] = AhpStrength.loc[b.index[i+1],'AHP_bat+bowl']   \n",
    "        else:                                   #enters when previous year is not available\n",
    "            #Mean strength of player over IPL is imputed\n",
    "            AhpStrength.loc[b.index[i],'AHPM_bat+bowl'] = e\n",
    "            \n",
    "    "
   ]
  },
  {
   "cell_type": "code",
   "execution_count": 130,
   "metadata": {},
   "outputs": [],
   "source": [
    "AhpStrength.drop(['AHP_bat', 'AHP_bowl', 'AHP_bat+bowl'],axis=1,inplace=True)"
   ]
  },
  {
   "cell_type": "code",
   "execution_count": 131,
   "metadata": {},
   "outputs": [],
   "source": [
    "AhpStrength = AhpStrength.groupby(['Team','Year']).sum().reset_index()"
   ]
  },
  {
   "cell_type": "code",
   "execution_count": 132,
   "metadata": {},
   "outputs": [
    {
     "data": {
      "text/html": [
       "<div>\n",
       "<style scoped>\n",
       "    .dataframe tbody tr th:only-of-type {\n",
       "        vertical-align: middle;\n",
       "    }\n",
       "\n",
       "    .dataframe tbody tr th {\n",
       "        vertical-align: top;\n",
       "    }\n",
       "\n",
       "    .dataframe thead th {\n",
       "        text-align: right;\n",
       "    }\n",
       "</style>\n",
       "<table border=\"1\" class=\"dataframe\">\n",
       "  <thead>\n",
       "    <tr style=\"text-align: right;\">\n",
       "      <th></th>\n",
       "      <th>Team</th>\n",
       "      <th>Year</th>\n",
       "      <th>AHPM_bat</th>\n",
       "      <th>AHPM_bowl</th>\n",
       "      <th>AHPM_bat+bowl</th>\n",
       "    </tr>\n",
       "  </thead>\n",
       "  <tbody>\n",
       "    <tr>\n",
       "      <th>0</th>\n",
       "      <td>CSK</td>\n",
       "      <td>2008</td>\n",
       "      <td>3.910677</td>\n",
       "      <td>3.776844</td>\n",
       "      <td>7.687521</td>\n",
       "    </tr>\n",
       "    <tr>\n",
       "      <th>1</th>\n",
       "      <td>CSK</td>\n",
       "      <td>2009</td>\n",
       "      <td>3.865522</td>\n",
       "      <td>4.553235</td>\n",
       "      <td>8.418757</td>\n",
       "    </tr>\n",
       "    <tr>\n",
       "      <th>2</th>\n",
       "      <td>CSK</td>\n",
       "      <td>2010</td>\n",
       "      <td>3.253596</td>\n",
       "      <td>5.100120</td>\n",
       "      <td>8.353716</td>\n",
       "    </tr>\n",
       "    <tr>\n",
       "      <th>3</th>\n",
       "      <td>CSK</td>\n",
       "      <td>2011</td>\n",
       "      <td>3.853226</td>\n",
       "      <td>3.926944</td>\n",
       "      <td>7.780170</td>\n",
       "    </tr>\n",
       "    <tr>\n",
       "      <th>4</th>\n",
       "      <td>CSK</td>\n",
       "      <td>2012</td>\n",
       "      <td>3.129688</td>\n",
       "      <td>4.891053</td>\n",
       "      <td>8.020741</td>\n",
       "    </tr>\n",
       "  </tbody>\n",
       "</table>\n",
       "</div>"
      ],
      "text/plain": [
       "  Team  Year  AHPM_bat  AHPM_bowl  AHPM_bat+bowl\n",
       "0  CSK  2008  3.910677   3.776844       7.687521\n",
       "1  CSK  2009  3.865522   4.553235       8.418757\n",
       "2  CSK  2010  3.253596   5.100120       8.353716\n",
       "3  CSK  2011  3.853226   3.926944       7.780170\n",
       "4  CSK  2012  3.129688   4.891053       8.020741"
      ]
     },
     "execution_count": 132,
     "metadata": {},
     "output_type": "execute_result"
    }
   ],
   "source": [
    "AhpStrength.head()"
   ]
  },
  {
   "cell_type": "markdown",
   "metadata": {},
   "source": [
    "### <font color = 'blue'>We will use AhpStrength later and merge it with our final model</font>"
   ]
  },
  {
   "cell_type": "markdown",
   "metadata": {},
   "source": [
    "# Previous IPL Team Points\n",
    "The previous year performance of the team is captured by loading the Points of that a team scored previous year and mean of points scored over all previous years"
   ]
  },
  {
   "cell_type": "code",
   "execution_count": 133,
   "metadata": {},
   "outputs": [
    {
     "data": {
      "text/html": [
       "<div>\n",
       "<style scoped>\n",
       "    .dataframe tbody tr th:only-of-type {\n",
       "        vertical-align: middle;\n",
       "    }\n",
       "\n",
       "    .dataframe tbody tr th {\n",
       "        vertical-align: top;\n",
       "    }\n",
       "\n",
       "    .dataframe thead th {\n",
       "        text-align: right;\n",
       "    }\n",
       "</style>\n",
       "<table border=\"1\" class=\"dataframe\">\n",
       "  <thead>\n",
       "    <tr style=\"text-align: right;\">\n",
       "      <th></th>\n",
       "      <th>Team</th>\n",
       "      <th>Year</th>\n",
       "      <th>Points</th>\n",
       "    </tr>\n",
       "  </thead>\n",
       "  <tbody>\n",
       "    <tr>\n",
       "      <th>0</th>\n",
       "      <td>MI</td>\n",
       "      <td>2019</td>\n",
       "      <td>18</td>\n",
       "    </tr>\n",
       "    <tr>\n",
       "      <th>1</th>\n",
       "      <td>CSK</td>\n",
       "      <td>2019</td>\n",
       "      <td>18</td>\n",
       "    </tr>\n",
       "    <tr>\n",
       "      <th>2</th>\n",
       "      <td>DD</td>\n",
       "      <td>2019</td>\n",
       "      <td>18</td>\n",
       "    </tr>\n",
       "    <tr>\n",
       "      <th>3</th>\n",
       "      <td>SRH</td>\n",
       "      <td>2019</td>\n",
       "      <td>12</td>\n",
       "    </tr>\n",
       "    <tr>\n",
       "      <th>4</th>\n",
       "      <td>KKR</td>\n",
       "      <td>2019</td>\n",
       "      <td>12</td>\n",
       "    </tr>\n",
       "  </tbody>\n",
       "</table>\n",
       "</div>"
      ],
      "text/plain": [
       "  Team  Year  Points\n",
       "0   MI  2019      18\n",
       "1  CSK  2019      18\n",
       "2   DD  2019      18\n",
       "3  SRH  2019      12\n",
       "4  KKR  2019      12"
      ]
     },
     "execution_count": 133,
     "metadata": {},
     "output_type": "execute_result"
    }
   ],
   "source": [
    "path = r'Data\\ipl_points.csv'\n",
    "PointFeature = pd.read_csv(path)\n",
    "PointFeature = PointFeature[['Team','Year','Points']]\n",
    "PointFeature.head()"
   ]
  },
  {
   "cell_type": "code",
   "execution_count": 134,
   "metadata": {},
   "outputs": [
    {
     "data": {
      "text/plain": [
       "Team      object\n",
       "Year       int64\n",
       "Points     int64\n",
       "dtype: object"
      ]
     },
     "execution_count": 134,
     "metadata": {},
     "output_type": "execute_result"
    }
   ],
   "source": [
    "PointFeature.dtypes"
   ]
  },
  {
   "cell_type": "code",
   "execution_count": 135,
   "metadata": {},
   "outputs": [],
   "source": [
    "PointFeature['Points_for_model']=np.nan\n",
    "PointFeature['Cumul_points_for_model']=np.nan"
   ]
  },
  {
   "cell_type": "code",
   "execution_count": 136,
   "metadata": {},
   "outputs": [],
   "source": [
    "for team in PointFeature['Team'].unique():\n",
    "\n",
    "    a = PointFeature[PointFeature['Team']==team]\n",
    "    years=a['Year'].sort_values(ascending=False)\n",
    "\n",
    "    mean_points = a['Points'].mean()\n",
    "\n",
    "    for i in range(0,len(years)-1):\n",
    "        PointFeature.loc[years.index[i],'Points_for_model'] = PointFeature.loc[years.index[i+1],'Points']\n",
    "\n",
    "        if i < len(years):\n",
    "            PointFeature.loc[years.index[i],'Cumul_points_for_model'] = PointFeature.loc[years.index[i+1:], 'Points'].mean()\n",
    "        else:\n",
    "            PointFeature.loc[years.index[i],'Cumul_points_for_model'] = mean_points\n",
    "\n",
    "    PointFeature.loc[years.index[len(years)-1],'Points_for_model'] = mean_points\n",
    "    PointFeature.loc[years.index[len(years)-1],'Cumul_points_for_model'] = mean_points\n"
   ]
  },
  {
   "cell_type": "code",
   "execution_count": 137,
   "metadata": {},
   "outputs": [],
   "source": [
    "PointFeature.drop(['Points'],axis=1,inplace=True)"
   ]
  },
  {
   "cell_type": "code",
   "execution_count": 138,
   "metadata": {},
   "outputs": [
    {
     "data": {
      "text/html": [
       "<div>\n",
       "<style scoped>\n",
       "    .dataframe tbody tr th:only-of-type {\n",
       "        vertical-align: middle;\n",
       "    }\n",
       "\n",
       "    .dataframe tbody tr th {\n",
       "        vertical-align: top;\n",
       "    }\n",
       "\n",
       "    .dataframe thead th {\n",
       "        text-align: right;\n",
       "    }\n",
       "</style>\n",
       "<table border=\"1\" class=\"dataframe\">\n",
       "  <thead>\n",
       "    <tr style=\"text-align: right;\">\n",
       "      <th></th>\n",
       "      <th>Team</th>\n",
       "      <th>Year</th>\n",
       "      <th>Points_for_model</th>\n",
       "      <th>Cumul_points_for_model</th>\n",
       "    </tr>\n",
       "  </thead>\n",
       "  <tbody>\n",
       "    <tr>\n",
       "      <th>0</th>\n",
       "      <td>MI</td>\n",
       "      <td>2019</td>\n",
       "      <td>12.0</td>\n",
       "      <td>16.454545</td>\n",
       "    </tr>\n",
       "    <tr>\n",
       "      <th>1</th>\n",
       "      <td>CSK</td>\n",
       "      <td>2019</td>\n",
       "      <td>18.0</td>\n",
       "      <td>17.555556</td>\n",
       "    </tr>\n",
       "    <tr>\n",
       "      <th>2</th>\n",
       "      <td>DD</td>\n",
       "      <td>2019</td>\n",
       "      <td>10.0</td>\n",
       "      <td>12.454545</td>\n",
       "    </tr>\n",
       "    <tr>\n",
       "      <th>3</th>\n",
       "      <td>SRH</td>\n",
       "      <td>2019</td>\n",
       "      <td>18.0</td>\n",
       "      <td>13.818182</td>\n",
       "    </tr>\n",
       "    <tr>\n",
       "      <th>4</th>\n",
       "      <td>KKR</td>\n",
       "      <td>2019</td>\n",
       "      <td>16.0</td>\n",
       "      <td>14.909091</td>\n",
       "    </tr>\n",
       "  </tbody>\n",
       "</table>\n",
       "</div>"
      ],
      "text/plain": [
       "  Team  Year  Points_for_model  Cumul_points_for_model\n",
       "0   MI  2019              12.0               16.454545\n",
       "1  CSK  2019              18.0               17.555556\n",
       "2   DD  2019              10.0               12.454545\n",
       "3  SRH  2019              18.0               13.818182\n",
       "4  KKR  2019              16.0               14.909091"
      ]
     },
     "execution_count": 138,
     "metadata": {},
     "output_type": "execute_result"
    }
   ],
   "source": [
    "PointFeature.head()"
   ]
  },
  {
   "cell_type": "markdown",
   "metadata": {},
   "source": [
    "### <font color = 'blue'>We will use PointFeature later and merge it with our final model</font>"
   ]
  },
  {
   "cell_type": "markdown",
   "metadata": {},
   "source": [
    "# Player Auction Data"
   ]
  },
  {
   "cell_type": "markdown",
   "metadata": {},
   "source": [
    "path = 'Data/final_auction_data_complete2.csv'\n",
    "AuctionData = pd.read_csv(path, usecols = ['Year', 'Team', 'Player', 'Price'])\n",
    "AuctionData.replace(0,np.nan,inplace=True)"
   ]
  },
  {
   "cell_type": "markdown",
   "metadata": {},
   "source": [
    "sum(AuctionData.Price.isnull())"
   ]
  },
  {
   "cell_type": "markdown",
   "metadata": {},
   "source": [
    "for player in AuctionData.Player.unique():\n",
    "\n",
    "    fill_index = AuctionData[(AuctionData['Player']==player) & ((AuctionData['Year']==2008)\\\n",
    "                                                            | (AuctionData['Year']==2009) |(AuctionData['Year']==2010))].index\n",
    "    AuctionData.loc[fill_index, 'Price']=\\\n",
    "    AuctionData.loc[fill_index, 'Price'].fillna(method='ffill')"
   ]
  },
  {
   "cell_type": "markdown",
   "metadata": {},
   "source": [
    "len(AuctionData[AuctionData.Price.isnull()])"
   ]
  },
  {
   "cell_type": "markdown",
   "metadata": {},
   "source": [
    "# Merge DataFrames "
   ]
  },
  {
   "cell_type": "markdown",
   "metadata": {},
   "source": [
    "### This section is for merging the 2 dataframes \n",
    "\n",
    "- Match Data : Data containing all the match features\n",
    "- Strength Data : Features that we had already builtbuilt (Team_priority_using_AHP , TeamStrength)\n",
    "- Feature Data Format: ['Team', 'Year', 'Feature_1', 'Feature_2', ....] "
   ]
  },
  {
   "cell_type": "code",
   "execution_count": 139,
   "metadata": {},
   "outputs": [],
   "source": [
    "def feature_joiner(df1,df2):\n",
    "    \"\"\"Reads Dataframe containing match data (df1) & Dataframe containing Team Features (df2) and \n",
    "    returns df1 with additional features joined from df2\n",
    "    \n",
    "    df2 should be in this format:\n",
    "    df2.columns = ['Team', 'Year', 'Feature_1', 'Feature_2', ....] \"\"\"\n",
    "    \n",
    "    new_columns = list('TEAM1_'+df2.columns[2:])+list('TEAM2_'+df2.columns[2:])   #Extracting names of new columns\n",
    "    n_features = int(len(new_columns)/2)                                          #Number of new features for a given team    \n",
    "    \n",
    "    df1 = pd.concat([df1, pd.DataFrame(columns = new_columns)],sort=False)        #Adding new columns to the original dataframe\n",
    "    \n",
    "    for team in df2.iloc[:,0].unique():   #Iteration over teams\n",
    "        for year in df2[df2.iloc[:,0] == team].iloc[:,1].unique():    #Iteration over seasons\n",
    "            #Reading index of rows with team in TEAM1 column\n",
    "            i = df1[(df1.loc[:,'TEAM1'] == team) & (df1.loc[:,'SEASON'] == year)].index\n",
    "            #Assigning values\n",
    "            df1.iloc[i, -n_features*2:-n_features] = df2[(df2.iloc[:,0] == team) & (df2.iloc[:,1] == year)].iloc[:,2:].values\n",
    "            \n",
    "            #Reading index of rows with team in TEAM2 column\n",
    "            j = df1[(df1.loc[:,'TEAM2'] == team) & (df1.loc[:,'SEASON'] == year)].index\n",
    "            #Assigning values\n",
    "            df1.iloc[j, -n_features:] = df2[(df2.iloc[:,0] == team) & (df2.iloc[:,1] == year)].iloc[:,2:].values\n",
    "        \n",
    "    return df1"
   ]
  },
  {
   "cell_type": "markdown",
   "metadata": {},
   "source": [
    "#### Merging match_data(Main Table ) and TeamStrength(Strengths using Dream11)"
   ]
  },
  {
   "cell_type": "code",
   "execution_count": 140,
   "metadata": {},
   "outputs": [],
   "source": [
    "Data = feature_joiner(match_data, TeamStrength)"
   ]
  },
  {
   "cell_type": "markdown",
   "metadata": {},
   "source": [
    "#### Merging match_data(Main Table ) and AhpStrength(Strengths using Dream11)"
   ]
  },
  {
   "cell_type": "code",
   "execution_count": 141,
   "metadata": {},
   "outputs": [],
   "source": [
    "Data = feature_joiner(Data, AhpStrength)"
   ]
  },
  {
   "cell_type": "markdown",
   "metadata": {},
   "source": [
    "#### Merging match_data(Main Table ) and Team_priority_using_AHP(Strengths using Dream11)"
   ]
  },
  {
   "cell_type": "code",
   "execution_count": 142,
   "metadata": {},
   "outputs": [
    {
     "ename": "ValueError",
     "evalue": "cannot set using a multi-index selection indexer with a different length than the value",
     "output_type": "error",
     "traceback": [
      "\u001b[1;31m---------------------------------------------------------------------------\u001b[0m",
      "\u001b[1;31mValueError\u001b[0m                                Traceback (most recent call last)",
      "\u001b[1;32m<ipython-input-142-c130f25007bd>\u001b[0m in \u001b[0;36m<module>\u001b[1;34m\u001b[0m\n\u001b[1;32m----> 1\u001b[1;33m \u001b[0mData\u001b[0m \u001b[1;33m=\u001b[0m \u001b[0mfeature_joiner\u001b[0m\u001b[1;33m(\u001b[0m\u001b[0mData\u001b[0m\u001b[1;33m,\u001b[0m \u001b[0mTeam_priority_using_AHP\u001b[0m\u001b[1;33m)\u001b[0m\u001b[1;33m\u001b[0m\u001b[1;33m\u001b[0m\u001b[0m\n\u001b[0m",
      "\u001b[1;32m<ipython-input-139-a60a036e6253>\u001b[0m in \u001b[0;36mfeature_joiner\u001b[1;34m(df1, df2)\u001b[0m\n\u001b[0;32m     16\u001b[0m             \u001b[0mi\u001b[0m \u001b[1;33m=\u001b[0m \u001b[0mdf1\u001b[0m\u001b[1;33m[\u001b[0m\u001b[1;33m(\u001b[0m\u001b[0mdf1\u001b[0m\u001b[1;33m.\u001b[0m\u001b[0mloc\u001b[0m\u001b[1;33m[\u001b[0m\u001b[1;33m:\u001b[0m\u001b[1;33m,\u001b[0m\u001b[1;34m'TEAM1'\u001b[0m\u001b[1;33m]\u001b[0m \u001b[1;33m==\u001b[0m \u001b[0mteam\u001b[0m\u001b[1;33m)\u001b[0m \u001b[1;33m&\u001b[0m \u001b[1;33m(\u001b[0m\u001b[0mdf1\u001b[0m\u001b[1;33m.\u001b[0m\u001b[0mloc\u001b[0m\u001b[1;33m[\u001b[0m\u001b[1;33m:\u001b[0m\u001b[1;33m,\u001b[0m\u001b[1;34m'SEASON'\u001b[0m\u001b[1;33m]\u001b[0m \u001b[1;33m==\u001b[0m \u001b[0myear\u001b[0m\u001b[1;33m)\u001b[0m\u001b[1;33m]\u001b[0m\u001b[1;33m.\u001b[0m\u001b[0mindex\u001b[0m\u001b[1;33m\u001b[0m\u001b[1;33m\u001b[0m\u001b[0m\n\u001b[0;32m     17\u001b[0m             \u001b[1;31m#Assigning values\u001b[0m\u001b[1;33m\u001b[0m\u001b[1;33m\u001b[0m\u001b[1;33m\u001b[0m\u001b[0m\n\u001b[1;32m---> 18\u001b[1;33m             \u001b[0mdf1\u001b[0m\u001b[1;33m.\u001b[0m\u001b[0miloc\u001b[0m\u001b[1;33m[\u001b[0m\u001b[0mi\u001b[0m\u001b[1;33m,\u001b[0m \u001b[1;33m-\u001b[0m\u001b[0mn_features\u001b[0m\u001b[1;33m*\u001b[0m\u001b[1;36m2\u001b[0m\u001b[1;33m:\u001b[0m\u001b[1;33m-\u001b[0m\u001b[0mn_features\u001b[0m\u001b[1;33m]\u001b[0m \u001b[1;33m=\u001b[0m \u001b[0mdf2\u001b[0m\u001b[1;33m[\u001b[0m\u001b[1;33m(\u001b[0m\u001b[0mdf2\u001b[0m\u001b[1;33m.\u001b[0m\u001b[0miloc\u001b[0m\u001b[1;33m[\u001b[0m\u001b[1;33m:\u001b[0m\u001b[1;33m,\u001b[0m\u001b[1;36m0\u001b[0m\u001b[1;33m]\u001b[0m \u001b[1;33m==\u001b[0m \u001b[0mteam\u001b[0m\u001b[1;33m)\u001b[0m \u001b[1;33m&\u001b[0m \u001b[1;33m(\u001b[0m\u001b[0mdf2\u001b[0m\u001b[1;33m.\u001b[0m\u001b[0miloc\u001b[0m\u001b[1;33m[\u001b[0m\u001b[1;33m:\u001b[0m\u001b[1;33m,\u001b[0m\u001b[1;36m1\u001b[0m\u001b[1;33m]\u001b[0m \u001b[1;33m==\u001b[0m \u001b[0myear\u001b[0m\u001b[1;33m)\u001b[0m\u001b[1;33m]\u001b[0m\u001b[1;33m.\u001b[0m\u001b[0miloc\u001b[0m\u001b[1;33m[\u001b[0m\u001b[1;33m:\u001b[0m\u001b[1;33m,\u001b[0m\u001b[1;36m2\u001b[0m\u001b[1;33m:\u001b[0m\u001b[1;33m]\u001b[0m\u001b[1;33m.\u001b[0m\u001b[0mvalues\u001b[0m\u001b[1;33m\u001b[0m\u001b[1;33m\u001b[0m\u001b[0m\n\u001b[0m\u001b[0;32m     19\u001b[0m \u001b[1;33m\u001b[0m\u001b[0m\n\u001b[0;32m     20\u001b[0m             \u001b[1;31m#Reading index of rows with team in TEAM2 column\u001b[0m\u001b[1;33m\u001b[0m\u001b[1;33m\u001b[0m\u001b[1;33m\u001b[0m\u001b[0m\n",
      "\u001b[1;32mc:\\users\\rashid\\appdata\\local\\programs\\python\\python38\\lib\\site-packages\\pandas\\core\\indexing.py\u001b[0m in \u001b[0;36m__setitem__\u001b[1;34m(self, key, value)\u001b[0m\n\u001b[0;32m    668\u001b[0m \u001b[1;33m\u001b[0m\u001b[0m\n\u001b[0;32m    669\u001b[0m         \u001b[0miloc\u001b[0m \u001b[1;33m=\u001b[0m \u001b[0mself\u001b[0m \u001b[1;32mif\u001b[0m \u001b[0mself\u001b[0m\u001b[1;33m.\u001b[0m\u001b[0mname\u001b[0m \u001b[1;33m==\u001b[0m \u001b[1;34m\"iloc\"\u001b[0m \u001b[1;32melse\u001b[0m \u001b[0mself\u001b[0m\u001b[1;33m.\u001b[0m\u001b[0mobj\u001b[0m\u001b[1;33m.\u001b[0m\u001b[0miloc\u001b[0m\u001b[1;33m\u001b[0m\u001b[1;33m\u001b[0m\u001b[0m\n\u001b[1;32m--> 670\u001b[1;33m         \u001b[0miloc\u001b[0m\u001b[1;33m.\u001b[0m\u001b[0m_setitem_with_indexer\u001b[0m\u001b[1;33m(\u001b[0m\u001b[0mindexer\u001b[0m\u001b[1;33m,\u001b[0m \u001b[0mvalue\u001b[0m\u001b[1;33m)\u001b[0m\u001b[1;33m\u001b[0m\u001b[1;33m\u001b[0m\u001b[0m\n\u001b[0m\u001b[0;32m    671\u001b[0m \u001b[1;33m\u001b[0m\u001b[0m\n\u001b[0;32m    672\u001b[0m     \u001b[1;32mdef\u001b[0m \u001b[0m_validate_key\u001b[0m\u001b[1;33m(\u001b[0m\u001b[0mself\u001b[0m\u001b[1;33m,\u001b[0m \u001b[0mkey\u001b[0m\u001b[1;33m,\u001b[0m \u001b[0maxis\u001b[0m\u001b[1;33m:\u001b[0m \u001b[0mint\u001b[0m\u001b[1;33m)\u001b[0m\u001b[1;33m:\u001b[0m\u001b[1;33m\u001b[0m\u001b[1;33m\u001b[0m\u001b[0m\n",
      "\u001b[1;32mc:\\users\\rashid\\appdata\\local\\programs\\python\\python38\\lib\\site-packages\\pandas\\core\\indexing.py\u001b[0m in \u001b[0;36m_setitem_with_indexer\u001b[1;34m(self, indexer, value)\u001b[0m\n\u001b[0;32m   1664\u001b[0m                 \u001b[1;32mif\u001b[0m \u001b[0mis_list_like_indexer\u001b[0m\u001b[1;33m(\u001b[0m\u001b[0mvalue\u001b[0m\u001b[1;33m)\u001b[0m \u001b[1;32mand\u001b[0m \u001b[1;36m0\u001b[0m \u001b[1;33m!=\u001b[0m \u001b[0mlplane_indexer\u001b[0m \u001b[1;33m!=\u001b[0m \u001b[0mlen\u001b[0m\u001b[1;33m(\u001b[0m\u001b[0mvalue\u001b[0m\u001b[1;33m)\u001b[0m\u001b[1;33m:\u001b[0m\u001b[1;33m\u001b[0m\u001b[1;33m\u001b[0m\u001b[0m\n\u001b[0;32m   1665\u001b[0m                     \u001b[1;31m# Exclude zero-len for e.g. boolean masking that is all-false\u001b[0m\u001b[1;33m\u001b[0m\u001b[1;33m\u001b[0m\u001b[1;33m\u001b[0m\u001b[0m\n\u001b[1;32m-> 1666\u001b[1;33m                     raise ValueError(\n\u001b[0m\u001b[0;32m   1667\u001b[0m                         \u001b[1;34m\"cannot set using a multi-index \"\u001b[0m\u001b[1;33m\u001b[0m\u001b[1;33m\u001b[0m\u001b[0m\n\u001b[0;32m   1668\u001b[0m                         \u001b[1;34m\"selection indexer with a different \"\u001b[0m\u001b[1;33m\u001b[0m\u001b[1;33m\u001b[0m\u001b[0m\n",
      "\u001b[1;31mValueError\u001b[0m: cannot set using a multi-index selection indexer with a different length than the value"
     ]
    }
   ],
   "source": [
    "Data = feature_joiner(Data, Team_priority_using_AHP)"
   ]
  },
  {
   "cell_type": "markdown",
   "metadata": {},
   "source": [
    "#### Merging match_data(Main Table ) and Team_priority_using_AHP(Strengths using Dream11)"
   ]
  },
  {
   "cell_type": "code",
   "execution_count": null,
   "metadata": {},
   "outputs": [],
   "source": [
    "Data = feature_joiner(Data, PointFeature) \n",
    "Data.head().T"
   ]
  },
  {
   "cell_type": "markdown",
   "metadata": {},
   "source": [
    "# Interaction Features\n",
    "<ul>\n",
    "    <li><code>TEAMX_WINxSTREN</code> : Product of Win Rate and Team strengths</li>\n",
    "    <li><code>TEAMX_WINxCUMSTREN</code> : Product of Win Rate and Cumulative Team strengths</li>\n",
    "    <li><code>TEAMX_CONSISTENCY</code> : Weighted average of Strength and Cumulative strength </li>\n",
    "</ul>"
   ]
  },
  {
   "cell_type": "code",
   "execution_count": null,
   "metadata": {},
   "outputs": [],
   "source": [
    "Data['TEAM1_WINxSTREN'] = Data['TEAM1_WIN_RATE']*Data['TEAM1_Team_Strength']\n",
    "Data['TEAM1_WINxCUMSTREN'] = Data['TEAM1_WIN_RATE']*Data['TEAM1_Cumulative_Team_Strength']\n",
    "\n",
    "Data['TEAM2_WINxSTREN'] = Data['TEAM2_WIN_RATE']*Data['TEAM2_Team_Strength']\n",
    "Data['TEAM2_WINxCUMSTREN'] = Data['TEAM2_WIN_RATE']*Data['TEAM2_Cumulative_Team_Strength']\n"
   ]
  },
  {
   "cell_type": "code",
   "execution_count": null,
   "metadata": {},
   "outputs": [],
   "source": [
    "Data['TEAM1_CONSISTENCY'] = ((Data['TEAM1_Team_Strength'] * 0.8) + (Data['TEAM1_Cumulative_Team_Strength'] * 0.2)) / 2\n",
    "Data['TEAM2_CONSISTENCY'] = ((Data['TEAM2_Team_Strength'] * 0.8) + (Data['TEAM2_Cumulative_Team_Strength'] * 0.2)) / 2"
   ]
  },
  {
   "cell_type": "code",
   "execution_count": null,
   "metadata": {},
   "outputs": [],
   "source": [
    "Data.columns"
   ]
  },
  {
   "cell_type": "markdown",
   "metadata": {},
   "source": [
    "# Difference Features\n",
    "The absolute values may not sometimes immediately capture the win trends and therefore we create difference features<br>\n",
    "<pre>DIFF_FEATURE = TEAM1_FEATURE-TEAM2_FEATURE\n",
    "</pre>"
   ]
  },
  {
   "cell_type": "code",
   "execution_count": null,
   "metadata": {
    "scrolled": false
   },
   "outputs": [],
   "source": [
    "Diff_Features = Data.columns[Data.columns.str.contains('TEAM1_')].str.replace('TEAM1_','DIFF_').drop('DIFF_MODEL')\n",
    "Diff_Features"
   ]
  },
  {
   "cell_type": "code",
   "execution_count": null,
   "metadata": {},
   "outputs": [],
   "source": [
    "Data[list('TEAM1_'+Diff_Features.str.replace('DIFF_',''))+list('TEAM2_'+Diff_Features.str.replace('DIFF_',''))]=\\\n",
    "Data[list('TEAM1_'+Diff_Features.str.replace('DIFF_',''))+list('TEAM2_'+Diff_Features.str.replace('DIFF_',''))].astype('float64',copy=True)"
   ]
  },
  {
   "cell_type": "code",
   "execution_count": null,
   "metadata": {},
   "outputs": [],
   "source": [
    "for f in Diff_Features:\n",
    "    Data[f] = Data['TEAM1_'+f.replace('DIFF_','')]-Data['TEAM2_'+f.replace('DIFF_','')]\n"
   ]
  },
  {
   "cell_type": "code",
   "execution_count": null,
   "metadata": {},
   "outputs": [],
   "source": [
    "Ratio_Features = Data.columns[Data.columns.str.contains('TEAM1_')].str.replace('TEAM1_','RATIO_').drop('RATIO_MODEL')\n",
    "Ratio_Features"
   ]
  },
  {
   "cell_type": "code",
   "execution_count": null,
   "metadata": {},
   "outputs": [],
   "source": [
    "Data.head()"
   ]
  },
  {
   "cell_type": "code",
   "execution_count": null,
   "metadata": {},
   "outputs": [],
   "source": [
    "Data.dropna(inplace = True)"
   ]
  },
  {
   "cell_type": "code",
   "execution_count": null,
   "metadata": {
    "scrolled": false
   },
   "outputs": [],
   "source": [
    "Data.isnull().sum()"
   ]
  },
  {
   "cell_type": "markdown",
   "metadata": {},
   "source": [
    "# Feature and Label Splitting"
   ]
  },
  {
   "cell_type": "code",
   "execution_count": null,
   "metadata": {},
   "outputs": [],
   "source": [
    "X = Data.drop(['ID','CITY',\n",
    "             'CITY_Corrrected', \n",
    "             'TEAM1', 'TEAM2', \n",
    "             'TEAM1_MODEL', 'TEAM2_MODEL', \n",
    "             'TOSS_WINNER', 'TOSS_DECISION', 'RESULT', \n",
    "             'WINNER','WINNER_MODEL',\n",
    "             'WIN_BY_RUNS'],axis=1)"
   ]
  },
  {
   "cell_type": "code",
   "execution_count": null,
   "metadata": {},
   "outputs": [],
   "source": [
    "y = Data['WINNER_MODEL'] "
   ]
  },
  {
   "cell_type": "code",
   "execution_count": null,
   "metadata": {},
   "outputs": [],
   "source": [
    "X.head()"
   ]
  },
  {
   "cell_type": "markdown",
   "metadata": {},
   "source": [
    "# Solving the Asymmetry: Mirroring the Data"
   ]
  },
  {
   "cell_type": "markdown",
   "metadata": {},
   "source": [
    "|TEAM1|TEAM2|TEAM1_STRENGTH|TEAM2_STRENGTH|WINNER|\n",
    "|-----|-----|--------------|--------------|------|\n",
    "|CSK|MI|X|Y|1|\n"
   ]
  },
  {
   "cell_type": "markdown",
   "metadata": {},
   "source": [
    "When we consider the above row, it is apparent to a human that when TEAM1 & TEAM2 are switched, the results will still be the same. However, to a model this is not apparent and hence we need to input the this information.<br>\n",
    "Therefore, we mirror each row in the training set so that the model understands both the cases"
   ]
  },
  {
   "cell_type": "markdown",
   "metadata": {},
   "source": [
    "|TEAM1|TEAM2|TEAM1_STRENGTH|TEAM2_STRENGTH|WINNER|\n",
    "|-----|-----|--------------|--------------|------|\n",
    "|CSK|MI|X|Y|1|\n",
    "|MI|CSK|Y|X|0|\n"
   ]
  },
  {
   "cell_type": "markdown",
   "metadata": {},
   "source": [
    "Steps invloved in creating the train and test sets:\n",
    "<ol>\n",
    "    <li>The original dataset is split using <code>train_test_split</code> into training and test sets</li>\n",
    "    <li>The training set is then mirrored as shown above and append to the orginal training set which result in the number of rows being doubled</li>\n",
    "    <li>The test set is also mirrored but we don't append them and create two test sets</li>\n",
    "</ol>"
   ]
  },
  {
   "cell_type": "code",
   "execution_count": null,
   "metadata": {},
   "outputs": [],
   "source": [
    "from sklearn.model_selection import train_test_split"
   ]
  },
  {
   "cell_type": "code",
   "execution_count": null,
   "metadata": {},
   "outputs": [],
   "source": [
    "def symmetric_splitting(X,Y, split_size=0.1, test_index=None, random=0):\n",
    "\n",
    "    if test_index is None: \n",
    "        #Splitting the Data into train and test\n",
    "        X_train, X_test, y_train, y_test = train_test_split(X, Y, test_size=split_size, random_state=random)\n",
    "    else:\n",
    "        X_train, X_test, y_train, y_test = X.drop(test_index), X.loc[test_index,:], Y.drop(test_index), Y.loc[test_index]\n",
    "    \n",
    "    #Training Set mirrored and merged\n",
    "    Xsyn_train=pd.DataFrame([],columns=X_train.columns)\n",
    "\n",
    "    Xsyn_train['SEASON'] = X_train['SEASON']\n",
    "    Xsyn_train['TOSS_DECISION_MODEL'] = (X_train['TOSS_DECISION_MODEL']==1)*0+(X_train['TOSS_DECISION_MODEL']==0)*1\n",
    "    Xsyn_train['TOSS_WINNER_MODEL'] = (X_train['TOSS_WINNER_MODEL']==1)*0+(X_train['TOSS_WINNER_MODEL']==0)*1\n",
    "    Xsyn_train['CITY_MODEL'] =(X_train['CITY_MODEL']==1)*0+(X_train['CITY_MODEL']==0)*1+(X_train['CITY_MODEL']==2)*2\n",
    "    \n",
    "    Flip = Data.columns[Data.columns.str.contains('TEAM1_')].str.replace('TEAM1_','').drop('MODEL')\n",
    "    Xsyn_train['TEAM1_'+Flip] = X_train['TEAM2_'+Flip]\n",
    "    Xsyn_train['TEAM2_'+Flip] = X_train['TEAM1_'+Flip]\n",
    "    \n",
    "    Xsyn_train[Diff_Features]=-X_train[Diff_Features]\n",
    "    \n",
    "    ysyn_train = (y_train==1)*0+(y_train==0)*1\n",
    "    \n",
    "    Xsymm_train = X_train.append(Xsyn_train,ignore_index=True)\n",
    "    ysymm_train = y_train.append(ysyn_train,ignore_index=True)\n",
    "    \n",
    "    #Test Set mirrored\n",
    "    Xsyn_test=pd.DataFrame([],columns=X_train.columns)\n",
    "\n",
    "    Xsyn_test['SEASON'] = X_test['SEASON']\n",
    "    Xsyn_test['TOSS_DECISION_MODEL'] = (X_test['TOSS_DECISION_MODEL']==1)*0+(X_test['TOSS_DECISION_MODEL']==0)*1\n",
    "    Xsyn_test['TOSS_WINNER_MODEL'] = (X_test['TOSS_WINNER_MODEL']==1)*0+(X_test['TOSS_WINNER_MODEL']==0)*1\n",
    "    Xsyn_test['CITY_MODEL'] =(X_test['CITY_MODEL']==1)*0+(X_test['CITY_MODEL']==0)*1+(X_test['CITY_MODEL']==2)*2\n",
    "    \n",
    "    Xsyn_test['TEAM1_'+Flip] = X_test['TEAM2_'+Flip]\n",
    "    Xsyn_test['TEAM2_'+Flip] = X_test['TEAM1_'+Flip]\n",
    "    \n",
    "    Xsyn_test[Diff_Features]=-X_test[Diff_Features]\n",
    "    \n",
    "    ysyn_test = (y_test==1)*0+(y_test==0)*1\n",
    "    \n",
    "    return Xsymm_train, ysymm_train, X_test, y_test, Xsyn_test, ysyn_test"
   ]
  },
  {
   "cell_type": "code",
   "execution_count": null,
   "metadata": {},
   "outputs": [],
   "source": [
    "X_train, y_train, X_test1, y_test1, X_test2, y_test2 = symmetric_splitting(X,y,split_size=0.1,random=101)"
   ]
  },
  {
   "cell_type": "code",
   "execution_count": null,
   "metadata": {},
   "outputs": [],
   "source": [
    "X_train.isnull().sum()"
   ]
  },
  {
   "cell_type": "code",
   "execution_count": null,
   "metadata": {},
   "outputs": [],
   "source": [
    "X_train.head().T"
   ]
  },
  {
   "cell_type": "markdown",
   "metadata": {},
   "source": [
    "# Model Ambiguity"
   ]
  },
  {
   "cell_type": "markdown",
   "metadata": {},
   "source": [
    "The asymmetric nature of the model in a few rows leads to ambiguity in the results.<br>\n",
    "For instance:"
   ]
  },
  {
   "cell_type": "markdown",
   "metadata": {},
   "source": [
    "|TEST SET|TEAM1|TEAM2|WINNER|PREDICTION|\n",
    "|--------|-----|-----|------|----------|\n",
    "|    1   | KKR | KXIP|  1   |    1     |\n",
    "|    2   | KXIP| KKR |  0   |    1     |\n"
   ]
  },
  {
   "cell_type": "markdown",
   "metadata": {},
   "source": [
    "So in the above case, we have different predictions for same case. We will call such an occurance as Model Ambiguity. Note that this is not the same as incorrect prediction as the prediction will count correct in either test set 1 or test set 2."
   ]
  },
  {
   "cell_type": "markdown",
   "metadata": {},
   "source": [
    "Therefore we will evalute the model using 5 parameter rather than just training and test accuracy:\n",
    "<ul>\n",
    "    <li>Training Accuracy:  Percent of correct predictions in mirror and merged train set</li>\n",
    "    <li>Test 1 Accuracy:    Percent of correct prediction in original test set</li>\n",
    "    <li>Test 2 Accuracy:    Percent of correct prediction in mirrored test set</li>\n",
    "    <li>Real Test Accuracy: Percent of correct prediction after discrediting the scores for ambiguous rows</li>\n",
    "    <li>Ambiguity:          Percent of rows in which ambiguity is observed</li>\n",
    "</ul>"
   ]
  },
  {
   "cell_type": "code",
   "execution_count": null,
   "metadata": {},
   "outputs": [],
   "source": [
    "def print_score(model,X_t,y_t,X_v1,y_v1,X_v2,y_v2, print_result=False):\n",
    "    \n",
    "    ambiguity = sum(model.predict(X_v1)==model.predict(X_v2))/len(model.predict(X_v1))\n",
    "    \n",
    "    ambi_rows = X_v1[model.predict(X_v1)==model.predict(X_v2)]\n",
    "    real_test_score = model.score(X_v1.drop(ambi_rows.index),y_v1.drop(ambi_rows.index))\\\n",
    "    *len(y_v1.drop(ambi_rows.index))/len(y_v1)\n",
    "    \n",
    "    if print_result == True:\n",
    "        print(f\"\"\"Training Accuracy of the model:      {model.score(X_t,y_t):.3%}\n",
    "Test 1 Accuracy of the model:        {model.score(X_v1,y_v1):.3%}\n",
    "Test 2 Accuracy of the model:        {model.score(X_v2,y_v2):.3%}\n",
    "True Test Accuracy of the model:     {real_test_score:.3%}\n",
    "Ambiguity of the model:              {ambiguity:.3%}\"\"\")\n",
    "    \n",
    "    return model.score(X_t,y_t),model.score(X_v1,y_v1),model.score(X_v2,y_v2),real_test_score,ambiguity"
   ]
  },
  {
   "cell_type": "markdown",
   "metadata": {},
   "source": [
    "# Modelling\n",
    "We observed that Tree based classifier are performing better on this Data than other clasifiers.<br>So we primarily focused on Tree based classifiers and additionally support vector classifier."
   ]
  },
  {
   "cell_type": "code",
   "execution_count": 2,
   "metadata": {},
   "outputs": [
    {
     "ename": "ModuleNotFoundError",
     "evalue": "No module named 'sklearn'",
     "output_type": "error",
     "traceback": [
      "\u001b[1;31m---------------------------------------------------------------------------\u001b[0m",
      "\u001b[1;31mModuleNotFoundError\u001b[0m                       Traceback (most recent call last)",
      "\u001b[1;32m<ipython-input-2-7cc4e558354a>\u001b[0m in \u001b[0;36m<module>\u001b[1;34m\u001b[0m\n\u001b[1;32m----> 1\u001b[1;33m \u001b[1;32mfrom\u001b[0m \u001b[0msklearn\u001b[0m\u001b[1;33m.\u001b[0m\u001b[0mensemble\u001b[0m \u001b[1;32mimport\u001b[0m \u001b[0mRandomForestClassifier\u001b[0m\u001b[1;33m\u001b[0m\u001b[1;33m\u001b[0m\u001b[0m\n\u001b[0m\u001b[0;32m      2\u001b[0m \u001b[1;32mfrom\u001b[0m \u001b[0msklearn\u001b[0m\u001b[1;33m.\u001b[0m\u001b[0mensemble\u001b[0m \u001b[1;32mimport\u001b[0m \u001b[0mRandomForestRegressor\u001b[0m\u001b[1;33m\u001b[0m\u001b[1;33m\u001b[0m\u001b[0m\n\u001b[0;32m      3\u001b[0m \u001b[1;32mfrom\u001b[0m \u001b[0msklearn\u001b[0m\u001b[1;33m.\u001b[0m\u001b[0msvm\u001b[0m \u001b[1;32mimport\u001b[0m \u001b[0mSVC\u001b[0m\u001b[1;33m\u001b[0m\u001b[1;33m\u001b[0m\u001b[0m\n\u001b[0;32m      4\u001b[0m \u001b[1;32mfrom\u001b[0m \u001b[0mxgboost\u001b[0m \u001b[1;32mimport\u001b[0m \u001b[0mXGBClassifier\u001b[0m\u001b[1;33m\u001b[0m\u001b[1;33m\u001b[0m\u001b[0m\n\u001b[0;32m      5\u001b[0m \u001b[1;32mfrom\u001b[0m \u001b[0msklearn\u001b[0m\u001b[1;33m.\u001b[0m\u001b[0mlinear_model\u001b[0m \u001b[1;32mimport\u001b[0m \u001b[0mLogisticRegression\u001b[0m\u001b[1;33m\u001b[0m\u001b[1;33m\u001b[0m\u001b[0m\n",
      "\u001b[1;31mModuleNotFoundError\u001b[0m: No module named 'sklearn'"
     ]
    }
   ],
   "source": [
    "from sklearn.ensemble import RandomForestClassifier\n",
    "from sklearn.ensemble import RandomForestRegressor\n",
    "from sklearn.svm import SVC\n",
    "from xgboost import XGBClassifier\n",
    "from sklearn.linear_model import LogisticRegression\n",
    "from sklearn.ensemble import ExtraTreesClassifier\n",
    "from sklearn.ensemble import AdaBoostClassifier\n",
    "\n",
    "from sklearn.feature_selection import RFE\n",
    "from sklearn.feature_selection import RFECV\n",
    "from sklearn.inspection import permutation_importance\n",
    "from sklearn.model_selection import cross_val_score\n",
    "\n",
    "from sklearn.base import clone"
   ]
  },
  {
   "cell_type": "markdown",
   "metadata": {},
   "source": [
    "### Loading the models to be tested along with the hyperparameters"
   ]
  },
  {
   "cell_type": "code",
   "execution_count": 101,
   "metadata": {},
   "outputs": [],
   "source": [
    "RFC = RandomForestClassifier(n_estimators=800,\n",
    "                             max_depth=5,\n",
    "                             min_samples_leaf=5,\n",
    "                             n_jobs=-1,\n",
    "                             max_features='log2',\n",
    "                             random_state=5)\n",
    "#                             oob_score=True)\n",
    "\n",
    "ETC = ExtraTreesClassifier(n_estimators=500,\n",
    "                             max_depth=5,\n",
    "                             min_samples_leaf=5,\n",
    "                             n_jobs=-1,\n",
    "                             max_features='log2',\n",
    "                             random_state=1)\n",
    "#                             oob_score=True)\n",
    "\n",
    "ABC = AdaBoostClassifier(n_estimators=200,\n",
    "                         learning_rate = 0.01,\n",
    "                         random_state=0)\n",
    "\n",
    "XGC = XGBClassifier(n_estimators=700,\n",
    "                    learning_rate=0.01,\n",
    "                    max_depth=5)\n",
    "\n",
    "SVMC = SVC(C=0.5,\n",
    "           kernel='linear')"
   ]
  },
  {
   "cell_type": "markdown",
   "metadata": {},
   "source": [
    "### The Random Forest Classifier is cloned and used to select top 10 features using <code>RFE</code>. The above defined models are evaluted using these selected features."
   ]
  },
  {
   "cell_type": "code",
   "execution_count": 102,
   "metadata": {},
   "outputs": [],
   "source": [
    "#mod = clone(RFC)\n",
    "#selector = RFE(mod, n_features_to_select=10, step=1)\n",
    "#selector = selector.fit(X_train, y_train)"
   ]
  },
  {
   "cell_type": "code",
   "execution_count": 103,
   "metadata": {
    "scrolled": true
   },
   "outputs": [],
   "source": [
    "#print_score(selector,X_train, y_train, X_test1, y_test1, X_test2, y_test2, print_result = True)"
   ]
  },
  {
   "cell_type": "code",
   "execution_count": 104,
   "metadata": {},
   "outputs": [],
   "source": [
    "#A = X_train.columns[selector.support_]\n",
    "#A"
   ]
  },
  {
   "cell_type": "markdown",
   "metadata": {},
   "source": [
    "### Multi Model Evalution\n",
    "Set the <code>split_ratio</code> for dividing train and test sets<br>\n",
    "Change the <code>rand_st</code> to set the random states for <code>train_test_split</code><br>\n",
    "Load the models defined earlier into <code>all_mod</code> for evaluation"
   ]
  },
  {
   "cell_type": "code",
   "execution_count": 105,
   "metadata": {},
   "outputs": [],
   "source": [
    "from sklearn.model_selection import KFold\n",
    "from sklearn.model_selection import StratifiedKFold\n",
    "from sklearn.model_selection import RepeatedKFold\n",
    "from sklearn.model_selection import RepeatedStratifiedKFold\n",
    "\n",
    "import time"
   ]
  },
  {
   "cell_type": "code",
   "execution_count": 106,
   "metadata": {
    "scrolled": false
   },
   "outputs": [],
   "source": [
    "# time_start = time.perf_counter()\n",
    "# #split_ratio=0.1\n",
    "# #rand_st = range(0,100,10)\n",
    "# skf = RepeatedStratifiedKFold(n_splits=10, n_repeats=50 , random_state=827)\n",
    "# all_mod = [ABC,]# ETC, ABC, XGC, SVMC]\n",
    "\n",
    "# df_metrics=pd.DataFrame([],columns=['Train Accuracy','Test Accuracy 1','Test Accuracy 2','Real Test Accuracy','Ambiguity'],\n",
    "#                         index=pd.MultiIndex(levels=[[],[]],codes=[[],[]],names=['Model','Random state']))\n",
    "\n",
    "# for model in all_mod:\n",
    "# #    for random_st in rand_st:\n",
    "#     for _,ts in skf.split(X,y):\n",
    "#         X_train, y_train, X_test1, y_test1, X_test2, y_test2 = symmetric_splitting(X,y, test_index=ts)\n",
    "        \n",
    "#         #X_train = X_train[A]\n",
    "#         #X_test1 = X_test1[A]\n",
    "#         #X_test2 = X_test2[A]\n",
    "        \n",
    "#         model.fit(X_train, y_train)\n",
    "#         TRA, TSA1, TSA2, RTA, AMB = print_score(model,X_train, y_train, X_test1, y_test1, X_test2, y_test2)\n",
    "        \n",
    "#         mod_name = [k for k,v in globals().items() if v is model][0]\n",
    "#         bomb=pd.Series(dict(zip(df_metrics.columns,(np.array([TRA, TSA1, TSA2, RTA, AMB])*100).round(2))),\n",
    "#                        name=(mod_name,skf.random_state))\n",
    "#         df_metrics = df_metrics.append(bomb)\n",
    "\n",
    "# time_end = time.perf_counter()\n",
    "# df_metrics;"
   ]
  },
  {
   "cell_type": "code",
   "execution_count": 107,
   "metadata": {},
   "outputs": [],
   "source": [
    "#df_metrics"
   ]
  },
  {
   "cell_type": "code",
   "execution_count": 108,
   "metadata": {},
   "outputs": [],
   "source": [
    "# iteration = 0\n",
    "# num = 1\n",
    "# result = [] \n",
    "# for index, row in df_metrics.iterrows(): \n",
    "#     result.append(num)\n",
    "#     iteration = iteration + 1\n",
    "#     if (iteration % 10 == 0):\n",
    "#         num = num + 1    \n",
    "    "
   ]
  },
  {
   "cell_type": "code",
   "execution_count": 109,
   "metadata": {},
   "outputs": [],
   "source": [
    "# df_metrics['Iteration'] = result"
   ]
  },
  {
   "cell_type": "code",
   "execution_count": 110,
   "metadata": {},
   "outputs": [],
   "source": [
    "# df_metrics.head(12)"
   ]
  },
  {
   "cell_type": "code",
   "execution_count": 111,
   "metadata": {},
   "outputs": [],
   "source": [
    "# df_metrics1 = df_metrics.groupby('Iteration').mean()"
   ]
  },
  {
   "cell_type": "code",
   "execution_count": 112,
   "metadata": {},
   "outputs": [],
   "source": [
    "# df_metrics1.describe()"
   ]
  },
  {
   "cell_type": "code",
   "execution_count": 113,
   "metadata": {},
   "outputs": [],
   "source": [
    "# column_values = df[[\"A\", \"B\"]].values\n",
    "# unique_values =  np.unique(column_values)\n"
   ]
  },
  {
   "cell_type": "code",
   "execution_count": 114,
   "metadata": {},
   "outputs": [],
   "source": [
    "# time.strftime(\"%M min %S sec\",time.gmtime(time_end-time_start))"
   ]
  },
  {
   "cell_type": "code",
   "execution_count": 115,
   "metadata": {
    "scrolled": true
   },
   "outputs": [],
   "source": [
    "# acc_mean = df_metrics.loc[('ABC'),:]['Real Test Accuracy'].mean()\n",
    "# acc_std = df_metrics.loc[('ABC'),:]['Real Test Accuracy'].std()\n",
    "\n",
    "# print(f'Real Test Accuracy of the Random Forest Classifier is {acc_mean:.4} ± {acc_std:.3} %')\n",
    "# print(f'Prediction Metrics for Random Forest Classifier:')\n",
    "\n",
    "# df_metrics.loc[('ABC'),:].describe().drop(['count',])# '25%', '50%', '75%'])"
   ]
  },
  {
   "cell_type": "code",
   "execution_count": 116,
   "metadata": {
    "scrolled": true
   },
   "outputs": [],
   "source": [
    "# from scipy import stats\n",
    "\n",
    "# kurt = stats.kurtosis(df_metrics.loc[('ABC'),:]['Real Test Accuracy'])\n",
    "# sk = stats.skew(df_metrics.loc[('ABC'),:]['Real Test Accuracy'])\n",
    "\n",
    "# print(f'''Kurtosis of the Real Test Accuracies: {kurt}\n",
    "# Skewness of the Real Test Accuracies: {sk}''')\n",
    "\n",
    "# sns.distplot(df_metrics.loc[('ABC'),:]['Real Test Accuracy'],);#norm_hist=True)"
   ]
  },
  {
   "cell_type": "markdown",
   "metadata": {},
   "source": [
    "# Hyperparameter Tuning"
   ]
  },
  {
   "cell_type": "markdown",
   "metadata": {},
   "source": [
    "### K Fold State selection"
   ]
  },
  {
   "cell_type": "code",
   "execution_count": 117,
   "metadata": {},
   "outputs": [],
   "source": [
    "import itertools\n",
    "from IPython.display import clear_output"
   ]
  },
  {
   "cell_type": "code",
   "execution_count": 118,
   "metadata": {},
   "outputs": [],
   "source": [
    "def avg_acc(X,Y, hyperparam, model, rand_state=None, split_ratio=None):\n",
    "    \n",
    "    model.set_params(**hyperparam)\n",
    "                  \n",
    "    df_score=pd.DataFrame([],columns=['Train Accuracy','Real Test Accuracy','Ambiguity'],\n",
    "                    index=pd.Series([],name='Random State'))\n",
    "    \n",
    "    skf = RepeatedStratifiedKFold(n_splits=11, n_repeats=5 , random_state=rand_state)\n",
    "    \n",
    "    for _, index in skf.split(X,y):\n",
    "        X_train, y_train, X_test1, y_test1, X_test2, y_test2 = symmetric_splitting(X, Y, \n",
    "                                                                                   #split_size = split_ratio, \n",
    "                                                                                   #random = rand_st, \n",
    "                                                                                   test_index = index )\n",
    "        model.fit(X_train, y_train)\n",
    "        TRA, _, _, RTA, AMB = print_score(model,X_train, y_train, X_test1, y_test1, X_test2, y_test2)\n",
    "        bomb = pd.Series(dict(zip(df_score.columns,(np.array([TRA, RTA, AMB])*100).round(2))),\n",
    "                       name=(rand_state))\n",
    "        df_score = df_score.append(bomb)\n",
    "    if hyperparam == {}:\n",
    "        return pd.Series(df_score.mean())\n",
    "    else:\n",
    "        return pd.Series(df_score.mean(),name = tuple(hyperparam.values()))"
   ]
  },
  {
   "cell_type": "markdown",
   "metadata": {
    "scrolled": true
   },
   "source": [
    "t_start = time.perf_counter()\n",
    "B = pd.DataFrame([], columns=[],index=pd.MultiIndex(levels=[[],[]],codes=[[],[]],names=['Iteration','Random State']))\n",
    "acc=0;i=0;\n",
    "\n",
    "while acc<60:\n",
    "    i=i+1\n",
    "    iteration_start = time.perf_counter()\n",
    "    rand_st = np.random.randint(1000) \n",
    "    A = avg_acc(X,y, {}, RFC, rand_state = rand_st)\n",
    "    A.name = (i,rand_st)\n",
    "    B = B.append(A)\n",
    "    acc=A[1]\n",
    "    clear_output()\n",
    "    print(f'Iteration {i}\\nRun Time: {time.perf_counter()-iteration_start:.6} secs')\n",
    "\n",
    "print('Iterations completed in '+ time.strftime('%H hr %M min %S sec',time.gmtime(time.perf_counter()-t_start)))"
   ]
  },
  {
   "cell_type": "markdown",
   "metadata": {},
   "source": [
    "B.loc[B['Real Test Accuracy'].argmax(),:]"
   ]
  },
  {
   "cell_type": "markdown",
   "metadata": {},
   "source": [
    "A = avg_acc(X,y, {}, RFC, rand_state = 489)"
   ]
  },
  {
   "cell_type": "markdown",
   "metadata": {},
   "source": [
    "### Hyperparameter Tuning"
   ]
  },
  {
   "cell_type": "code",
   "execution_count": 119,
   "metadata": {},
   "outputs": [],
   "source": [
    "# #Iteration set for Vatsal\n",
    "# param_grid_1={'n_estimators' : [400,500,600,700,800],\n",
    "#             'max_features' : ['log2','sqrt'],\n",
    "#             'min_samples_leaf' : [1,3,5],\n",
    "#             'criterion': ['gini','entropy'],\n",
    "#             'max_depth': [4],}#5,6]}"
   ]
  },
  {
   "cell_type": "code",
   "execution_count": 120,
   "metadata": {},
   "outputs": [],
   "source": [
    "# param_grid_2 = {'bootstrap': [True, False],\n",
    "#  'max_depth': [3,4,5,6,7],\n",
    "#  'max_features': [0.5, 'sqrt','log2'],\n",
    "#  'min_samples_leaf': [2, 4],\n",
    "#  'min_samples_split': [2, 5,],\n",
    "#  'criterion': ['gini','entropy'],\n",
    "#  'n_estimators': [800,1000,1600,2000]}"
   ]
  },
  {
   "cell_type": "code",
   "execution_count": 121,
   "metadata": {},
   "outputs": [],
   "source": [
    "#Iteration set for Ayush\n",
    "param_grid_2={\n",
    "              'n_estimators' : [2100],\n",
    "            'max_features' : ['log2'],\n",
    "            'min_samples_leaf' : [12],\n",
    "            'max_depth' : [12],}"
   ]
  },
  {
   "cell_type": "code",
   "execution_count": 122,
   "metadata": {},
   "outputs": [],
   "source": [
    "# n_estimators=2100,\n",
    "#                              max_depth=12,\n",
    "#                              min_samples_leaf=12,\n",
    "#                              n_jobs=-1,\n",
    "#                              max_features='log2',\n",
    "#                              random_state=1"
   ]
  },
  {
   "cell_type": "code",
   "execution_count": 123,
   "metadata": {},
   "outputs": [],
   "source": [
    "#Rashid/Ayush please look into Bayesian optimization library hyperopt"
   ]
  },
  {
   "cell_type": "code",
   "execution_count": 124,
   "metadata": {},
   "outputs": [
    {
     "name": "stdout",
     "output_type": "stream",
     "text": [
      "Iteration 1\n",
      "Run Time: 708.498 secs\n",
      "Iterations completed in 00 hr 11 min 48 sec\n"
     ]
    }
   ],
   "source": [
    "t_start = time.perf_counter()\n",
    "B = pd.DataFrame([], columns=[], index=pd.MultiIndex(levels=[[]]*len(param_grid_2.keys()),\n",
    "                                                     codes=[[]]*len(param_grid_2.keys()),\n",
    "                                                     names=param_grid_2.keys()))\n",
    "i=0\n",
    "\n",
    "for a in itertools.product(*param_grid_2.values()):\n",
    "    iteration_start=time.perf_counter()\n",
    "    i=i+1\n",
    "    A = avg_acc(X,y, dict(zip(param_grid_2.keys(), a)), ETC, rand_state=827)\n",
    "    B = B.append(A)\n",
    "    clear_output()\n",
    "    print(f'Iteration {i}\\nRun Time: {time.perf_counter()-iteration_start:.6} secs')\n",
    "    \n",
    "print('Iterations completed in '+ time.strftime('%H hr %M min %S sec',time.gmtime(time.perf_counter()-t_start)))"
   ]
  },
  {
   "cell_type": "code",
   "execution_count": 125,
   "metadata": {},
   "outputs": [
    {
     "data": {
      "text/html": [
       "<div>\n",
       "<style scoped>\n",
       "    .dataframe tbody tr th:only-of-type {\n",
       "        vertical-align: middle;\n",
       "    }\n",
       "\n",
       "    .dataframe tbody tr th {\n",
       "        vertical-align: top;\n",
       "    }\n",
       "\n",
       "    .dataframe thead th {\n",
       "        text-align: right;\n",
       "    }\n",
       "</style>\n",
       "<table border=\"1\" class=\"dataframe\">\n",
       "  <thead>\n",
       "    <tr style=\"text-align: right;\">\n",
       "      <th></th>\n",
       "      <th></th>\n",
       "      <th></th>\n",
       "      <th></th>\n",
       "      <th>Ambiguity</th>\n",
       "      <th>Real Test Accuracy</th>\n",
       "      <th>Train Accuracy</th>\n",
       "    </tr>\n",
       "    <tr>\n",
       "      <th>n_estimators</th>\n",
       "      <th>max_features</th>\n",
       "      <th>min_samples_leaf</th>\n",
       "      <th>max_depth</th>\n",
       "      <th></th>\n",
       "      <th></th>\n",
       "      <th></th>\n",
       "    </tr>\n",
       "  </thead>\n",
       "  <tbody>\n",
       "    <tr>\n",
       "      <th>2100</th>\n",
       "      <th>log2</th>\n",
       "      <th>12</th>\n",
       "      <th>12</th>\n",
       "      <td>2.887636</td>\n",
       "      <td>59.676909</td>\n",
       "      <td>73.683455</td>\n",
       "    </tr>\n",
       "  </tbody>\n",
       "</table>\n",
       "</div>"
      ],
      "text/plain": [
       "                                                      Ambiguity  \\\n",
       "n_estimators max_features min_samples_leaf max_depth              \n",
       "2100         log2         12               12          2.887636   \n",
       "\n",
       "                                                      Real Test Accuracy  \\\n",
       "n_estimators max_features min_samples_leaf max_depth                       \n",
       "2100         log2         12               12                  59.676909   \n",
       "\n",
       "                                                      Train Accuracy  \n",
       "n_estimators max_features min_samples_leaf max_depth                  \n",
       "2100         log2         12               12              73.683455  "
      ]
     },
     "execution_count": 125,
     "metadata": {},
     "output_type": "execute_result"
    }
   ],
   "source": [
    "B.sort_values(by='Real Test Accuracy',ascending=False)"
   ]
  },
  {
   "cell_type": "code",
   "execution_count": 126,
   "metadata": {},
   "outputs": [],
   "source": [
    "# B"
   ]
  },
  {
   "cell_type": "markdown",
   "metadata": {},
   "source": [
    "# ThreadPoolExecutor Code Below: Do not run beyond this"
   ]
  },
  {
   "cell_type": "code",
   "execution_count": 127,
   "metadata": {},
   "outputs": [],
   "source": [
    "# from multiprocessing import Process, current_process\n",
    "# import concurrent.futures"
   ]
  },
  {
   "cell_type": "code",
   "execution_count": 128,
   "metadata": {
    "scrolled": true
   },
   "outputs": [],
   "source": [
    "# B = pd.DataFrame([], columns=[], index=pd.MultiIndex(levels=[[]]*len(param_grid_2.keys()),\n",
    "#                                                      codes=[[]]*len(param_grid_2.keys()),\n",
    "#                                                      names=param_grid_2.keys()))\n",
    "# #for a in itertools.product(*param_grid.values()):\n",
    "\n",
    "\n",
    "# def nonrobust_hypertuner(a):\n",
    "#     global B\n",
    "#     A = avg_acc(X,y, dict(zip(param_grid_2.keys(), a)), RFC,rand_state=827)\n",
    "#     B = B.append(A)\n",
    "    \n",
    "# t_end = time.perf_counter()"
   ]
  },
  {
   "cell_type": "code",
   "execution_count": 129,
   "metadata": {},
   "outputs": [],
   "source": [
    "# t_start = time.perf_counter()\n",
    "\n",
    "# with concurrent.futures.ThreadPoolExecutor() as executor:\n",
    "# #    for a in itertools.product(*param_grid_2.values()):\n",
    "#     executor.map(nonrobust_hypertuner,itertools.product(*param_grid_2.values()))\n",
    "    \n",
    "# #    for r in concurrent.futures.as_completed(result):\n",
    "# #        print(r.result())\n",
    "        \n",
    "\n",
    "# print('Iterations completed in '+ time.strftime('%H hr %M min %S sec',time.gmtime(time.perf_counter()-t_start)))"
   ]
  },
  {
   "cell_type": "code",
   "execution_count": 130,
   "metadata": {},
   "outputs": [],
   "source": [
    "# B"
   ]
  },
  {
   "cell_type": "code",
   "execution_count": null,
   "metadata": {},
   "outputs": [],
   "source": []
  }
 ],
 "metadata": {
  "kernelspec": {
   "display_name": "Python 3",
   "language": "python",
   "name": "python3"
  },
  "language_info": {
   "codemirror_mode": {
    "name": "ipython",
    "version": 3
   },
   "file_extension": ".py",
   "mimetype": "text/x-python",
   "name": "python",
   "nbconvert_exporter": "python",
   "pygments_lexer": "ipython3",
   "version": "3.8.6"
  }
 },
 "nbformat": 4,
 "nbformat_minor": 4
}
